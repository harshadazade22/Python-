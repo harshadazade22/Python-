{
 "cells": [
  {
   "cell_type": "markdown",
   "id": "ae1dff3a",
   "metadata": {},
   "source": [
    "## Iterator,Generator and Decorator"
   ]
  },
  {
   "cell_type": "markdown",
   "id": "025433c0",
   "metadata": {},
   "source": [
    "## What is an Iteration\n",
    "Iteration is a general term for taking each item of something, one after another. \n",
    "Any time you use a loop, explicit or implicit, to go over a group of items, that is iteration."
   ]
  },
  {
   "cell_type": "code",
   "execution_count": 1,
   "id": "44b64be3",
   "metadata": {},
   "outputs": [
    {
     "name": "stdout",
     "output_type": "stream",
     "text": [
      "1\n",
      "2\n",
      "3\n"
     ]
    }
   ],
   "source": [
    "# Example\n",
    "num = [1,2,3]\n",
    "\n",
    "for i in num:\n",
    "    print(i)"
   ]
  },
  {
   "cell_type": "markdown",
   "id": "4a2e6336",
   "metadata": {},
   "source": [
    "## iterable objects\n"
   ]
  },
  {
   "cell_type": "code",
   "execution_count": null,
   "id": "3f6aafc8",
   "metadata": {},
   "outputs": [],
   "source": [
    "int is not an iterable object\n",
    "I=123\n",
    "for i in I"
   ]
  },
  {
   "cell_type": "code",
   "execution_count": null,
   "id": "50ba904b",
   "metadata": {},
   "outputs": [],
   "source": [
    "tuple\n",
    "list\n",
    "dict\n",
    "string\n",
    "s=\"Harshada\""
   ]
  },
  {
   "cell_type": "code",
   "execution_count": 5,
   "id": "7d6391b4",
   "metadata": {},
   "outputs": [],
   "source": [
    "L=[1,2,3,4,5]"
   ]
  },
  {
   "cell_type": "markdown",
   "id": "7d70d501",
   "metadata": {},
   "source": [
    "## What is Iterator\n",
    "An Iterator is an object that allows the programmer to traverse through a sequence of data without \n",
    "having to store the entire data in the memory"
   ]
  },
  {
   "cell_type": "code",
   "execution_count": 6,
   "id": "adb080c2",
   "metadata": {},
   "outputs": [
    {
     "data": {
      "text/plain": [
       "[1, 2, 3, 4, 5, 6, 7, 8, 9]"
      ]
     },
     "execution_count": 6,
     "metadata": {},
     "output_type": "execute_result"
    }
   ],
   "source": [
    "#without list comprehension\n",
    "l=[]\n",
    "for i in range(1,10):\n",
    "    l.append(i)\n",
    "l"
   ]
  },
  {
   "cell_type": "code",
   "execution_count": 7,
   "id": "cc9836aa",
   "metadata": {},
   "outputs": [
    {
     "data": {
      "text/plain": [
       "[1, 2, 3, 4, 5, 6, 7, 8, 9]"
      ]
     },
     "execution_count": 7,
     "metadata": {},
     "output_type": "execute_result"
    }
   ],
   "source": [
    "#with list comprehension\n",
    "l=[i for i in range(1,10)]\n",
    "l"
   ]
  },
  {
   "cell_type": "code",
   "execution_count": null,
   "id": "50651144",
   "metadata": {},
   "outputs": [],
   "source": [
    "# Example\n",
    "L = [x for x in range(1,10000)]  #list comprehension\n",
    "\n",
    "# for i in L:\n",
    "#     print(i**2)\n",
    "    \n",
    "\n",
    "    "
   ]
  }
 ],
 "metadata": {
  "kernelspec": {
   "display_name": "Python 3 (ipykernel)",
   "language": "python",
   "name": "python3"
  },
  "language_info": {
   "codemirror_mode": {
    "name": "ipython",
    "version": 3
   },
   "file_extension": ".py",
   "mimetype": "text/x-python",
   "name": "python",
   "nbconvert_exporter": "python",
   "pygments_lexer": "ipython3",
   "version": "3.11.5"
  }
 },
 "nbformat": 4,
 "nbformat_minor": 5
}
