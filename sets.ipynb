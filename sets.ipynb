{
 "cells": [
  {
   "cell_type": "markdown",
   "id": "f43fd735",
   "metadata": {},
   "source": [
    "# Sets"
   ]
  },
  {
   "cell_type": "code",
   "execution_count": 1,
   "id": "1ae0933e",
   "metadata": {},
   "outputs": [
    {
     "name": "stdout",
     "output_type": "stream",
     "text": [
      "{'wednesday', 'thursday', 'friday', 'monday', 'sunday', 'tuesday', 'saturday'}\n"
     ]
    }
   ],
   "source": [
    "days={\"monday\",\"tuesday\",\"wednesday\",\"thursday\",\"friday\",\"saturday\",\"sunday\"}\n",
    "print(days)"
   ]
  },
  {
   "cell_type": "markdown",
   "id": "383f8a93",
   "metadata": {},
   "source": [
    "# Adding elements "
   ]
  },
  {
   "cell_type": "code",
   "execution_count": 3,
   "id": "513e320a",
   "metadata": {},
   "outputs": [
    {
     "name": "stdout",
     "output_type": "stream",
     "text": [
      "{1, 'developer', 'python', 44}\n",
      "{1, 'monday', 'developer', 'python', 44}\n",
      "{1, 'i', 'monday', 'developer', 'python', 44, 'p', 'c', 's'}\n"
     ]
    }
   ],
   "source": [
    "s1={\"python\",\"developer\",1,44,True}\n",
    "print(s1)\n",
    "s1.add(\"monday\")\n",
    "print(s1)\n",
    "s1.update(\"ipcs\")\n",
    "print(s1)"
   ]
  },
  {
   "cell_type": "markdown",
   "id": "f7e5dab7",
   "metadata": {},
   "source": [
    "# Remove"
   ]
  },
  {
   "cell_type": "code",
   "execution_count": 4,
   "id": "b8bccf44",
   "metadata": {},
   "outputs": [
    {
     "name": "stdout",
     "output_type": "stream",
     "text": [
      "{True, 66, 99, 'add', 'odd', 11, 44}\n",
      "{66, 99, 'add', 'odd', 11, 44}\n"
     ]
    }
   ],
   "source": [
    "remove_1={11,44,99,66,\"add\",\"odd\",True}\n",
    "print(remove_1)\n",
    "remove_1.remove(True)\n",
    "print(remove_1)"
   ]
  },
  {
   "cell_type": "markdown",
   "id": "7c769fde",
   "metadata": {},
   "source": [
    "# Discard"
   ]
  },
  {
   "cell_type": "code",
   "execution_count": 6,
   "id": "d3b1e8a7",
   "metadata": {},
   "outputs": [
    {
     "name": "stdout",
     "output_type": "stream",
     "text": [
      "{33, True, 99, 'add', 'odd', 44, 77}\n",
      "{33, True, 99, 'add', 'odd', 44, 77}\n",
      "{33, True, 99, 'odd', 44, 77}\n",
      "{33, True, 99, 'odd', 77}\n"
     ]
    }
   ],
   "source": [
    "dis_1={33,99,44,77,True,\"add\",\"odd\"}\n",
    "print(dis_1)\n",
    "dis_1.discard(\"pp\")\n",
    "print(dis_1)\n",
    "dis_1.discard(\"add\")\n",
    "print(dis_1)\n",
    "dis_1.discard(44)\n",
    "print(dis_1)"
   ]
  },
  {
   "cell_type": "markdown",
   "id": "041e4155",
   "metadata": {},
   "source": [
    "# Pop"
   ]
  },
  {
   "cell_type": "code",
   "execution_count": 7,
   "id": "22c2cc72",
   "metadata": {},
   "outputs": [
    {
     "data": {
      "text/plain": [
       "'prachi'"
      ]
     },
     "execution_count": 7,
     "metadata": {},
     "output_type": "execute_result"
    }
   ],
   "source": [
    "#the last item\n",
    "name={\"sejal\",\"anuja\",\"ketki\",\"harshu\",\"prachi\"}\n",
    "name.pop()"
   ]
  },
  {
   "cell_type": "code",
   "execution_count": 8,
   "id": "84ee4821",
   "metadata": {},
   "outputs": [
    {
     "data": {
      "text/plain": [
       "88"
      ]
     },
     "execution_count": 8,
     "metadata": {},
     "output_type": "execute_result"
    }
   ],
   "source": [
    "number={33,88,99,88,100}\n",
    "number.pop()"
   ]
  },
  {
   "cell_type": "markdown",
   "id": "20b90331",
   "metadata": {},
   "source": [
    "# operators"
   ]
  },
  {
   "cell_type": "code",
   "execution_count": 14,
   "id": "db95f09f",
   "metadata": {},
   "outputs": [
    {
     "name": "stdout",
     "output_type": "stream",
     "text": [
      "{1.5, 66, 99, 33, 1, 9, 77, 46, 'uu', 'm'}\n",
      "{1.5, 66, 99, 33, 1, 9, 77, 46, 'uu', 'm'}\n"
     ]
    }
   ],
   "source": [
    "#union operator\n",
    "#type1\n",
    "my1={1.5,66,99,46,9,\"m\",\"uu\"}\n",
    "my2={33,99,\"uu\",77,1}\n",
    "print(my1.union(my2))\n",
    "\n",
    "#type2\n",
    "my1={1.5,66,99,46,9,\"m\",\"uu\"}\n",
    "my2={33,99,\"uu\",77,1}\n",
    "print(my1|my2)"
   ]
  },
  {
   "cell_type": "code",
   "execution_count": 5,
   "id": "d91ce30e",
   "metadata": {},
   "outputs": [
    {
     "name": "stdout",
     "output_type": "stream",
     "text": [
      "{2, 'add'}\n",
      "{2, 'add'}\n"
     ]
    }
   ],
   "source": [
    "#intersections operators\n",
    "#type1\n",
    "my_1={1,2,3,5,\"add\",\"odd\",True}\n",
    "my_2={2,4,6,\"add\",False}\n",
    "print(my_1.intersection(my_2))\n",
    "      \n",
    "#type2\n",
    "my_1={1,2,3,5,\"add\",\"odd\",True}\n",
    "my_2={2,4,6,\"add\",False}\n",
    "print(my_1&my_2)"
   ]
  },
  {
   "cell_type": "code",
   "execution_count": 8,
   "id": "b01079fb",
   "metadata": {},
   "outputs": [
    {
     "name": "stdout",
     "output_type": "stream",
     "text": [
      "{2, 4}\n",
      "{2, 4}\n"
     ]
    }
   ],
   "source": [
    "#difference operators\n",
    "my_01={1,2,3,4,5,6}\n",
    "my_02={1,3,5,6,7,8,9,10}\n",
    "print(my_01.difference(my_02))\n",
    "\n",
    "#type2\n",
    "my_01={1,2,3,4,5,6}\n",
    "my_02={1,3,5,6,7,8,9,10}\n",
    "print(my_01-my_02)\n"
   ]
  },
  {
   "cell_type": "code",
   "execution_count": 10,
   "id": "ec95aadd",
   "metadata": {},
   "outputs": [
    {
     "name": "stdout",
     "output_type": "stream",
     "text": [
      "{33, 66, 67, 55, 11, 44}\n",
      "{33, 66, 67, 55, 11, 44}\n"
     ]
    }
   ],
   "source": [
    "#symmetric_difference\n",
    "my1={22,33,55,67,\"add\"}\n",
    "my2={22,11,44,66,\"add\"}\n",
    "print(my1.symmetric_difference(my2))\n",
    "#type2\n",
    "my1={22,33,55,67,\"add\"}\n",
    "my2={22,11,44,66,\"add\"}\n",
    "print(my1^my2)"
   ]
  },
  {
   "cell_type": "markdown",
   "id": "cf9d53a7",
   "metadata": {},
   "source": [
    "# Check is subset"
   ]
  },
  {
   "cell_type": "code",
   "execution_count": 11,
   "id": "4294f833",
   "metadata": {},
   "outputs": [
    {
     "data": {
      "text/plain": [
       "False"
      ]
     },
     "execution_count": 11,
     "metadata": {},
     "output_type": "execute_result"
    }
   ],
   "source": [
    "a={9,10,11}\n",
    "b={11,12,13}\n",
    "a.issubset(b)\n"
   ]
  },
  {
   "cell_type": "code",
   "execution_count": 12,
   "id": "d934d9ef",
   "metadata": {},
   "outputs": [
    {
     "data": {
      "text/plain": [
       "True"
      ]
     },
     "execution_count": 12,
     "metadata": {},
     "output_type": "execute_result"
    }
   ],
   "source": [
    "a={1,2,3}\n",
    "b={1,2,3,4,5}\n",
    "a.issubset(b)"
   ]
  },
  {
   "cell_type": "code",
   "execution_count": 13,
   "id": "2f3af19b",
   "metadata": {},
   "outputs": [
    {
     "data": {
      "text/plain": [
       "False"
      ]
     },
     "execution_count": 13,
     "metadata": {},
     "output_type": "execute_result"
    }
   ],
   "source": [
    "a={1,2,3}\n",
    "b={1,2,3,4,5}\n",
    "b.issubset(a)"
   ]
  },
  {
   "cell_type": "code",
   "execution_count": 17,
   "id": "64b4d345",
   "metadata": {},
   "outputs": [
    {
     "data": {
      "text/plain": [
       "True"
      ]
     },
     "execution_count": 17,
     "metadata": {},
     "output_type": "execute_result"
    }
   ],
   "source": [
    "a={1,3,4,8,9}\n",
    "b={2,1,3,4,8,9}\n",
    "a.issubset(b)\n"
   ]
  },
  {
   "cell_type": "markdown",
   "id": "7e6fe72b",
   "metadata": {},
   "source": [
    "## check if a sets is a subset, using comparison operators"
   ]
  },
  {
   "cell_type": "code",
   "execution_count": 19,
   "id": "2f5845e2",
   "metadata": {},
   "outputs": [
    {
     "data": {
      "text/plain": [
       "True"
      ]
     },
     "execution_count": 19,
     "metadata": {},
     "output_type": "execute_result"
    }
   ],
   "source": [
    "a={\"a\",\"b\",\"c\"}\n",
    "b={\"a\",\"b\",\"c\",\"d\"}\n",
    "a<=b"
   ]
  },
  {
   "cell_type": "code",
   "execution_count": 20,
   "id": "29ea3318",
   "metadata": {},
   "outputs": [
    {
     "data": {
      "text/plain": [
       "False"
      ]
     },
     "execution_count": 20,
     "metadata": {},
     "output_type": "execute_result"
    }
   ],
   "source": [
    "a={\"a\",\"b\",\"c\"}\n",
    "b={\"a\",\"b\",\"c\",\"d\"}\n",
    "b<=a"
   ]
  },
  {
   "cell_type": "markdown",
   "id": "c8173b3c",
   "metadata": {},
   "source": [
    "# In and Not in"
   ]
  },
  {
   "cell_type": "code",
   "execution_count": 23,
   "id": "4d315421",
   "metadata": {},
   "outputs": [
    {
     "data": {
      "text/plain": [
       "True"
      ]
     },
     "execution_count": 23,
     "metadata": {},
     "output_type": "execute_result"
    }
   ],
   "source": [
    "#in\n",
    "i={1,22,33,44}\n",
    "44 in i"
   ]
  },
  {
   "cell_type": "code",
   "execution_count": 22,
   "id": "a8c8dd98",
   "metadata": {},
   "outputs": [
    {
     "data": {
      "text/plain": [
       "False"
      ]
     },
     "execution_count": 22,
     "metadata": {},
     "output_type": "execute_result"
    }
   ],
   "source": [
    "i1={22,0,77,99}\n",
    "100 in i"
   ]
  },
  {
   "cell_type": "code",
   "execution_count": 24,
   "id": "9eca1239",
   "metadata": {},
   "outputs": [
    {
     "data": {
      "text/plain": [
       "True"
      ]
     },
     "execution_count": 24,
     "metadata": {},
     "output_type": "execute_result"
    }
   ],
   "source": [
    "#not\n",
    "n={33,99,100,99}\n",
    "88  not in n"
   ]
  },
  {
   "cell_type": "code",
   "execution_count": 25,
   "id": "b12f4b76",
   "metadata": {},
   "outputs": [
    {
     "data": {
      "text/plain": [
       "False"
      ]
     },
     "execution_count": 25,
     "metadata": {},
     "output_type": "execute_result"
    }
   ],
   "source": [
    "#not in\n",
    "n={33,99,100,99}\n",
    "33 not in n"
   ]
  },
  {
   "cell_type": "code",
   "execution_count": 27,
   "id": "a76c07d9",
   "metadata": {},
   "outputs": [
    {
     "data": {
      "text/plain": [
       "True"
      ]
     },
     "execution_count": 27,
     "metadata": {},
     "output_type": "execute_result"
    }
   ],
   "source": [
    "v={22,\"e\",\"8\",True}\n",
    "\"e\" in  v"
   ]
  },
  {
   "cell_type": "code",
   "execution_count": 28,
   "id": "212c68c3",
   "metadata": {},
   "outputs": [
    {
     "data": {
      "text/plain": [
       "True"
      ]
     },
     "execution_count": 28,
     "metadata": {},
     "output_type": "execute_result"
    }
   ],
   "source": [
    "v={22,\"e\",\"8\",True}\n",
    "True in  v"
   ]
  },
  {
   "cell_type": "code",
   "execution_count": null,
   "id": "76be3de3",
   "metadata": {},
   "outputs": [],
   "source": []
  }
 ],
 "metadata": {
  "kernelspec": {
   "display_name": "Python 3 (ipykernel)",
   "language": "python",
   "name": "python3"
  },
  "language_info": {
   "codemirror_mode": {
    "name": "ipython",
    "version": 3
   },
   "file_extension": ".py",
   "mimetype": "text/x-python",
   "name": "python",
   "nbconvert_exporter": "python",
   "pygments_lexer": "ipython3",
   "version": "3.11.3"
  }
 },
 "nbformat": 4,
 "nbformat_minor": 5
}
