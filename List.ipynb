{
 "cells": [
  {
   "cell_type": "markdown",
   "id": "36bfc885",
   "metadata": {},
   "source": [
    "# create and extracting the character"
   ]
  },
  {
   "cell_type": "code",
   "execution_count": 3,
   "id": "78628bfd",
   "metadata": {},
   "outputs": [
    {
     "name": "stdout",
     "output_type": "stream",
     "text": [
      "['a', 'b', 'c', 'abc', 'cba', '01']\n",
      "first item\n",
      "a\n",
      "third item\n",
      "abc\n",
      "fifth item\n",
      "01\n"
     ]
    }
   ],
   "source": [
    "my_list_01=['a','b','c','abc','cba','01']\n",
    "print(my_list_01)\n",
    "\n",
    "print(\"first item\")\n",
    "print(my_list_01[0])\n",
    "\n",
    "print(\"third item\")\n",
    "print(my_list_01[3])\n",
    "\n",
    "print(\"fifth item\")\n",
    "print(my_list_01[5])"
   ]
  },
  {
   "cell_type": "markdown",
   "id": "2f696626",
   "metadata": {},
   "source": [
    "# Nested List"
   ]
  },
  {
   "cell_type": "code",
   "execution_count": 13,
   "id": "47396046",
   "metadata": {},
   "outputs": [
    {
     "name": "stdout",
     "output_type": "stream",
     "text": [
      "p\n",
      "1\n"
     ]
    }
   ],
   "source": [
    "my_list_02=['happy','python',[0,1,2]]\n",
    "print(my_list_02[0][3])\n",
    "print(my_list_02[2][1])"
   ]
  },
  {
   "cell_type": "code",
   "execution_count": 15,
   "id": "d48875fc",
   "metadata": {},
   "outputs": [
    {
     "name": "stdout",
     "output_type": "stream",
     "text": [
      "1\n",
      "0\n"
     ]
    }
   ],
   "source": [
    "list_02=['100','01','000','123']\n",
    "print(list_02[3][0])\n",
    "print(list_02[0][2])"
   ]
  },
  {
   "cell_type": "markdown",
   "id": "e7249768",
   "metadata": {},
   "source": [
    "# List slicing"
   ]
  },
  {
   "cell_type": "code",
   "execution_count": 20,
   "id": "ebd43380",
   "metadata": {},
   "outputs": [
    {
     "name": "stdout",
     "output_type": "stream",
     "text": [
      "['a', 'b', 'e', 't', 'h', 'o', 'u']\n",
      "['a', 'b', 'e', 't']\n",
      "['h', 'o', 'u']\n"
     ]
    }
   ],
   "source": [
    "list1=['a','b','e','t','h','o','u']\n",
    "print(list1)\n",
    "\n",
    "#element from index 0 to 4\n",
    "print(list1[0:4])\n",
    "\n",
    "print(list1[4:7])"
   ]
  },
  {
   "cell_type": "code",
   "execution_count": 24,
   "id": "f70dcd12",
   "metadata": {},
   "outputs": [
    {
     "name": "stdout",
     "output_type": "stream",
     "text": [
      "['apple', 'mango', 'banana', 'chiku']\n",
      "['apple', 'mango', 'banana']\n",
      "['banana', 'chiku']\n",
      "['apple', 'mango', 'banana']\n",
      "['apple', 'mango', 'banana']\n",
      "['apple', 'mango', 'banana', 'chiku']\n"
     ]
    }
   ],
   "source": [
    "list2=[\"apple\",\"mango\",\"banana\",\"chiku\"]\n",
    "print(list2)\n",
    "\n",
    "print(list2[0:3])\n",
    "print(list2[2:])\n",
    "print(list2[:3])\n",
    "print(list2[0:-1])\n",
    "print(list2[0:5])"
   ]
  },
  {
   "cell_type": "markdown",
   "id": "ea9d9df7",
   "metadata": {},
   "source": [
    "# changing the item value"
   ]
  },
  {
   "cell_type": "code",
   "execution_count": 30,
   "id": "6723824d",
   "metadata": {},
   "outputs": [
    {
     "name": "stdout",
     "output_type": "stream",
     "text": [
      "[1, 3, 5, 7, 9]\n",
      "[2, 4, 6, 8, 10]\n",
      "[2, 4, 8, 12, 16, 10]\n"
     ]
    }
   ],
   "source": [
    "#correcting mistakes values in a list\n",
    "\n",
    "Even=[1,3,5,7,9]\n",
    "\n",
    "print(Even)\n",
    "#change the 1st item\n",
    "Even[0]=2\n",
    "#change the 2nd item\n",
    "Even[1]=4\n",
    "#change the 3rd item\n",
    "Even[2]=6\n",
    "#change the 4th item\n",
    "Even[3]=8\n",
    "#change the 5th item\n",
    "Even[4]=10\n",
    "print(Even)\n",
    "\n",
    "Even[1:4]=[4,8,12,16]\n",
    "print(Even)"
   ]
  },
  {
   "cell_type": "markdown",
   "id": "29e77f90",
   "metadata": {},
   "source": [
    "# Appending and Extending"
   ]
  },
  {
   "cell_type": "code",
   "execution_count": 33,
   "id": "e3aff6d2",
   "metadata": {},
   "outputs": [
    {
     "name": "stdout",
     "output_type": "stream",
     "text": [
      "[2, 6, 8, 4]\n",
      "[2, 6, 8, 4, 10, 12, 14]\n"
     ]
    }
   ],
   "source": [
    "#Appending and Extending lists in python\n",
    "even=[2,6,8]\n",
    "even.append(4)\n",
    "print(even)\n",
    "even.extend([10,12,14])\n",
    "print(even)"
   ]
  },
  {
   "cell_type": "markdown",
   "id": "68d9bc88",
   "metadata": {},
   "source": [
    "# Inserting"
   ]
  },
  {
   "cell_type": "code",
   "execution_count": 37,
   "id": "22c9f369",
   "metadata": {},
   "outputs": [
    {
     "name": "stdout",
     "output_type": "stream",
     "text": [
      "['sejal', 'ketki', 'kavya', 'anuja', 'neha', 'ektaa']\n",
      "['sejal', 'ketki', 'kavya', 'anuja', 'neha', 'anjali', 'ektaa']\n"
     ]
    }
   ],
   "source": [
    "#insert the item in the list\n",
    "Name=[\"sejal\",\"ketki\",\"anuja\",\"neha\",\"ektaa\"]\n",
    "Name.insert(2,\"kavya\")\n",
    "print(Name)\n",
    "Name.insert(5,\"anjali\")\n",
    "print(Name)"
   ]
  },
  {
   "cell_type": "markdown",
   "id": "7faa75b2",
   "metadata": {},
   "source": [
    "# List of number"
   ]
  },
  {
   "cell_type": "code",
   "execution_count": 51,
   "id": "96c998c4",
   "metadata": {},
   "outputs": [
    {
     "name": "stdout",
     "output_type": "stream",
     "text": [
      "[10, 20, 30, 40, 50, 34]\n",
      "50\n",
      "10\n",
      "[10, 20, 30, 34, 40, 50]\n",
      "[50, 40, 34, 30, 20, 10]\n",
      "sum is: 184\n"
     ]
    }
   ],
   "source": [
    "Age=[10,20,30,40,50,34]\n",
    "print(Age)\n",
    "print(max(Age))\n",
    "print(min(Age))\n",
    "Age.sort()\n",
    "print(Age)\n",
    "Age.sort(reverse=True)\n",
    "print(Age)\n",
    "s=sum(Age)\n",
    "print(\"sum is:\",s)"
   ]
  },
  {
   "cell_type": "code",
   "execution_count": 49,
   "id": "9005eb5c",
   "metadata": {},
   "outputs": [
    {
     "name": "stdout",
     "output_type": "stream",
     "text": [
      "408000000\n"
     ]
    }
   ],
   "source": [
    "mult=1\n",
    "for i in Age:\n",
    "    mult=mult*i\n",
    "print(mult)"
   ]
  },
  {
   "cell_type": "markdown",
   "id": "a59baa7f",
   "metadata": {},
   "source": [
    "# Count in list"
   ]
  },
  {
   "cell_type": "code",
   "execution_count": 53,
   "id": "e0b0a209",
   "metadata": {},
   "outputs": [
    {
     "name": "stdout",
     "output_type": "stream",
     "text": [
      "3\n",
      "('mango', 'apple', 'kiwi', 'banana', 'mango', 'apple', 'kiwi', 'kiwi', 'kiwi', 'apple')\n",
      "1\n",
      "4\n",
      "2\n",
      "('mango', 'apple', 'kiwi', 'banana', 'mango', 'apple', 'kiwi', 'kiwi', 'kiwi', 'apple')\n"
     ]
    }
   ],
   "source": [
    "#return how many times item is repeated\n",
    "fruits=(\"mango\",\"apple\",\"kiwi\",\"banana\",\"mango\",\"apple\",\"kiwi\",\"kiwi\",\"kiwi\",\"apple\")\n",
    "print(fruits.count(\"apple\"))\n",
    "print(fruits)\n",
    "print(fruits.count(\"banana\"))\n",
    "print(fruits.count(\"kiwi\"))\n",
    "print(fruits.count(\"mango\"))\n",
    "print(fruits)"
   ]
  },
  {
   "cell_type": "code",
   "execution_count": 54,
   "id": "b42ec9f1",
   "metadata": {},
   "outputs": [
    {
     "name": "stdout",
     "output_type": "stream",
     "text": [
      "('java', 'python', 'c', 'asp framework', 'java', 'python', 'c', 'data science')\n",
      "2\n",
      "2\n",
      "1\n",
      "2\n"
     ]
    }
   ],
   "source": [
    "program=(\"java\",\"python\",\"c\",\"asp framework\",\"java\",\"python\",\"c\",\"data science\")\n",
    "print(program)\n",
    "print(program.count(\"java\"))\n",
    "print(program.count(\"python\"))\n",
    "print(program.count(\"data science\"))\n",
    "print(program.count(\"c\"))"
   ]
  },
  {
   "cell_type": "markdown",
   "id": "592ad65a",
   "metadata": {},
   "source": [
    "# Extrating items from the list"
   ]
  },
  {
   "cell_type": "code",
   "execution_count": 61,
   "id": "688044d1",
   "metadata": {},
   "outputs": [
    {
     "name": "stdout",
     "output_type": "stream",
     "text": [
      "['marathi', 'hindi', 'english', 'history', 'c_science']\n",
      "english\n",
      "c_science\n",
      "marathi\n",
      "['marathi', 'hindi', 'english']\n",
      "english\n",
      "c_science\n",
      "['marathi', 'hindi', 'c', 'english', 'history', 'c_science']\n"
     ]
    }
   ],
   "source": [
    "subjects=[\"marathi\",\"hindi\",\"english\",\"history\",\"c_science\"]\n",
    "print(subjects)\n",
    "print(subjects[2])\n",
    "print(subjects[4])\n",
    "print(subjects[0])\n",
    "print(subjects[:3])\n",
    "print(subjects[-3])\n",
    "print(subjects[-1])\n",
    "subjects.insert(2,\"c\")\n",
    "print(subjects)"
   ]
  },
  {
   "cell_type": "markdown",
   "id": "07b2aef2",
   "metadata": {},
   "source": [
    "# pop"
   ]
  },
  {
   "cell_type": "code",
   "execution_count": 1,
   "id": "7117319b",
   "metadata": {},
   "outputs": [
    {
     "data": {
      "text/plain": [
       "'n3'"
      ]
     },
     "execution_count": 1,
     "metadata": {},
     "output_type": "execute_result"
    }
   ],
   "source": [
    "name=[\"n1\",\"n2\",\"n3\"]\n",
    "name.pop()"
   ]
  },
  {
   "cell_type": "code",
   "execution_count": null,
   "id": "4f3b2225",
   "metadata": {},
   "outputs": [],
   "source": []
  }
 ],
 "metadata": {
  "kernelspec": {
   "display_name": "Python 3 (ipykernel)",
   "language": "python",
   "name": "python3"
  },
  "language_info": {
   "codemirror_mode": {
    "name": "ipython",
    "version": 3
   },
   "file_extension": ".py",
   "mimetype": "text/x-python",
   "name": "python",
   "nbconvert_exporter": "python",
   "pygments_lexer": "ipython3",
   "version": "3.11.3"
  }
 },
 "nbformat": 4,
 "nbformat_minor": 5
}
