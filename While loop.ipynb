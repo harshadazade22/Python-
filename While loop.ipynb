{
 "cells": [
  {
   "cell_type": "markdown",
   "id": "34a38c3f",
   "metadata": {},
   "source": [
    "### Print Numbers From 1 to 10 Using While Loop"
   ]
  },
  {
   "cell_type": "code",
   "execution_count": 2,
   "id": "9cd68b4c",
   "metadata": {},
   "outputs": [
    {
     "name": "stdout",
     "output_type": "stream",
     "text": [
      "1\n",
      "2\n",
      "3\n",
      "4\n",
      "5\n",
      "6\n",
      "7\n",
      "8\n",
      "9\n",
      "10\n"
     ]
    }
   ],
   "source": [
    "i=1\n",
    "while i<11:\n",
    "    print(i)\n",
    "    i=i+1"
   ]
  },
  {
   "cell_type": "markdown",
   "id": "d9a5dad2",
   "metadata": {},
   "source": [
    "# Print sum All bill Enter by user:-"
   ]
  },
  {
   "cell_type": "code",
   "execution_count": 3,
   "id": "0eab4145",
   "metadata": {},
   "outputs": [
    {
     "name": "stdout",
     "output_type": "stream",
     "text": [
      "Enter amount of Bill:244\n",
      "Enter th  Bill:8546\n",
      "Enter th  Bill:748\n",
      "Enter th  Bill:99\n",
      "Enter th  Bill:0\n",
      "Sum is 9637\n"
     ]
    }
   ],
   "source": [
    "bill=int(input(\"Enter amount of Bill:\"))\n",
    "sum_1=bill\n",
    "while bill!=0:\n",
    "    bill=int(input(\"Enter th  Bill:\"))\n",
    "    sum_1=sum_1+bill\n",
    "print(\"Sum is\",sum_1)"
   ]
  },
  {
   "cell_type": "markdown",
   "id": "a3837686",
   "metadata": {},
   "source": [
    "# VOTE"
   ]
  },
  {
   "cell_type": "code",
   "execution_count": 8,
   "id": "a81d50db",
   "metadata": {},
   "outputs": [
    {
     "name": "stdout",
     "output_type": "stream",
     "text": [
      "Enter vote M or A:-M\n",
      "Enter vote M or A:-M\n",
      "Enter vote M or A:-A\n",
      "Enter vote M or A:-A\n",
      "Enter vote M or A:-M\n",
      "Enter vote M or A:-A\n",
      "Enter vote M or A:-M\n",
      "Enter vote M or A:-m\n",
      "Enter vote M or A:-\n",
      "Enter vote M or A:-M\n",
      "Enter vote M or A:-Quit\n",
      "Alex: 3\n",
      "Manu: 5\n"
     ]
    }
   ],
   "source": [
    "vote=\"\"\n",
    "\n",
    "mcount=0\n",
    "acount=0\n",
    "while vote!=\"Quit\":\n",
    "    vote=str(input(\"Enter vote M or A:- \"))\n",
    "    if vote ==\"M\":\n",
    "        mcount = mcount+1\n",
    "    elif vote ==\"A\":\n",
    "        acount = acount+1\n",
    "print(\"Alex:\",acount)\n",
    "print(\"Manu:\",mcount)"
   ]
  },
  {
   "cell_type": "markdown",
   "id": "03a8a635",
   "metadata": {},
   "source": [
    "# While Loop in Continue & break:"
   ]
  },
  {
   "cell_type": "code",
   "execution_count": 9,
   "id": "3d733155",
   "metadata": {},
   "outputs": [
    {
     "name": "stdout",
     "output_type": "stream",
     "text": [
      "Enter Distance:55\n",
      "ENTER time20\n",
      "Speed is: 2.75\n",
      "Do you want to continue?y\n",
      "Enter Distance:22\n",
      "ENTER time10\n",
      "Speed is: 2.2\n",
      "Do you want to continue?n\n"
     ]
    }
   ],
   "source": [
    "ch=\" \"\n",
    "while ch!=\"n\":\n",
    "    dist=int(input(\"Enter Distance:\"))\n",
    "    if dist<0:\n",
    "        print(\"Invalid Distance\")\n",
    "        continue\n",
    "    time=int(input(\"ENTER time\"))\n",
    "    speed=dist/time\n",
    "    print(\"Speed is:\",speed)\n",
    "    ch=str(input(\"Do you want to continue?\"))\n",
    "        "
   ]
  },
  {
   "cell_type": "code",
   "execution_count": 11,
   "id": "c9c61a02",
   "metadata": {},
   "outputs": [
    {
     "name": "stdout",
     "output_type": "stream",
     "text": [
      "ENTER A DISTANCE:23\n",
      "ENTER TIME:\n",
      "66\n",
      "SPEED IS: 0.3484848484848485\n",
      "DO YOU WANT TO CONTINUEn\n"
     ]
    }
   ],
   "source": [
    "ch=\"y\"\n",
    "while ch!=\"n\":\n",
    "    dist=int(input(\"ENTER A DISTANCE:\"))\n",
    "    if dist<0:\n",
    "        print(\"INVALID DISTANCE.\")\n",
    "        break\n",
    "    print(\"ENTER TIME:\")\n",
    "    time = int(input())\n",
    "    speed = dist/time\n",
    "    print(\"SPEED IS:\",speed)\n",
    "    ch=input(\"DO YOU WANT TO CONTINUE\")"
   ]
  },
  {
   "cell_type": "code",
   "execution_count": null,
   "id": "7357ff0c",
   "metadata": {},
   "outputs": [],
   "source": []
  }
 ],
 "metadata": {
  "kernelspec": {
   "display_name": "Python 3 (ipykernel)",
   "language": "python",
   "name": "python3"
  },
  "language_info": {
   "codemirror_mode": {
    "name": "ipython",
    "version": 3
   },
   "file_extension": ".py",
   "mimetype": "text/x-python",
   "name": "python",
   "nbconvert_exporter": "python",
   "pygments_lexer": "ipython3",
   "version": "3.11.3"
  }
 },
 "nbformat": 4,
 "nbformat_minor": 5
}
