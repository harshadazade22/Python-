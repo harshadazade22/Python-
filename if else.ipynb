{
 "cells": [
  {
   "cell_type": "markdown",
   "id": "c35b040a",
   "metadata": {},
   "source": [
    "# Simple if"
   ]
  },
  {
   "cell_type": "code",
   "execution_count": null,
   "id": "b9530dd8",
   "metadata": {},
   "outputs": [],
   "source": []
  },
  {
   "cell_type": "code",
   "execution_count": 3,
   "id": "6471115a",
   "metadata": {},
   "outputs": [
    {
     "name": "stdout",
     "output_type": "stream",
     "text": [
      "enter your age:17\n"
     ]
    }
   ],
   "source": [
    "a=int(input(\"enter your age:\"))\n",
    "if a>=18:\n",
    "    print(\"you can vote\")\n"
   ]
  },
  {
   "cell_type": "markdown",
   "id": "d42c5c68",
   "metadata": {},
   "source": [
    "# If-else statement "
   ]
  },
  {
   "cell_type": "markdown",
   "id": "be1be3f0",
   "metadata": {},
   "source": [
    "## Check age for voting"
   ]
  },
  {
   "cell_type": "code",
   "execution_count": 6,
   "id": "a5050938",
   "metadata": {},
   "outputs": [
    {
     "name": "stdout",
     "output_type": "stream",
     "text": [
      "enter your age:14\n",
      "you are not eligible\n"
     ]
    }
   ],
   "source": [
    "Age=int(input(\"enter your age:\"))\n",
    "if Age>=18:\n",
    "    print(\"you can vote\")\n",
    "else:\n",
    "    print(\"you are not eligible\")"
   ]
  },
  {
   "cell_type": "markdown",
   "id": "391e7f23",
   "metadata": {},
   "source": [
    "## Even and odd no. checker"
   ]
  },
  {
   "cell_type": "code",
   "execution_count": 11,
   "id": "d9b26e41",
   "metadata": {},
   "outputs": [
    {
     "name": "stdout",
     "output_type": "stream",
     "text": [
      "enter a number100\n",
      "100 is even number\n"
     ]
    }
   ],
   "source": [
    "num_1=int(input(\"enter a number\"))\n",
    "if num_1 % 2 == 0:\n",
    "    print(num_1,\"is even number\")\n",
    "else:\n",
    "    print(num_1,\"is odd number\")"
   ]
  },
  {
   "cell_type": "markdown",
   "id": "1b8e9e65",
   "metadata": {},
   "source": [
    "## Larger of two number "
   ]
  },
  {
   "cell_type": "code",
   "execution_count": 15,
   "id": "6b3859aa",
   "metadata": {},
   "outputs": [
    {
     "name": "stdout",
     "output_type": "stream",
     "text": [
      "Enter the first number89\n",
      "Enter the second number87\n",
      "The larger number is 89\n"
     ]
    }
   ],
   "source": [
    "num_1=int(input(\"Enter the first number\"))\n",
    "\n",
    "num_2=int(input(\"Enter the second number\"))\n",
    "if num_1>num_2:\n",
    "    print(\"The larger number is\",num_1)\n",
    "else:\n",
    "    print(\"The larger number is\",num_2)"
   ]
  },
  {
   "cell_type": "markdown",
   "id": "bf25c61c",
   "metadata": {},
   "source": [
    "## Smaller of two number\n"
   ]
  },
  {
   "cell_type": "code",
   "execution_count": 1,
   "id": "da4ab7f6",
   "metadata": {},
   "outputs": [
    {
     "name": "stdout",
     "output_type": "stream",
     "text": [
      "Enter the first number a:55\n",
      "Enter the second number b:8\n",
      "The smaller number is b: 8.0\n"
     ]
    }
   ],
   "source": [
    "num1=float(input(\"Enter the first number a:\"))\n",
    "num2=float(input(\"Enter the second number b:\"))\n",
    "if num1<num2:\n",
    "    print(\"The smaller number is a:\",num1)\n",
    "else:\n",
    "    print(\"The smaller number is b:\",num2)"
   ]
  },
  {
   "cell_type": "markdown",
   "id": "47b6ca3a",
   "metadata": {},
   "source": [
    "## Write a program to find minimum of three numbers\n"
   ]
  },
  {
   "cell_type": "code",
   "execution_count": 10,
   "id": "55b360f3",
   "metadata": {},
   "outputs": [
    {
     "name": "stdout",
     "output_type": "stream",
     "text": [
      "Enter the first number A:77\n",
      "Enter the second number B:88\n",
      "Enter the third number C:55\n",
      "the mimimum no is: 55\n"
     ]
    }
   ],
   "source": [
    "no_1=int(input(\"Enter the first number A:\"))\n",
    "no_2=int(input(\"Enter the second number B:\"))\n",
    "no_3=int(input(\"Enter the third number C:\"))\n",
    "if no_1<no_2 and no_1<no_3:\n",
    "    print(\"The minimum no is:\",no_1)\n",
    "else:\n",
    "    if no_2<no_3 and no_2<no_1:\n",
    "        print(\"the minimum no is:\",no_2)\n",
    "    else:\n",
    "        print(\"the mimimum no is:\",no_3)"
   ]
  },
  {
   "cell_type": "markdown",
   "id": "c1f40dfc",
   "metadata": {},
   "source": [
    "## Pass or Fail"
   ]
  },
  {
   "cell_type": "code",
   "execution_count": 1,
   "id": "f7690377",
   "metadata": {},
   "outputs": [
    {
     "name": "stdout",
     "output_type": "stream",
     "text": [
      "Enter the student's score:88\n",
      "pass\n"
     ]
    }
   ],
   "source": [
    "score=int(input(\"Enter the student's score:\"))\n",
    "if score>=35:\n",
    "    print(\"pass\")\n",
    "else:\n",
    "    print(\"fail\")"
   ]
  },
  {
   "cell_type": "markdown",
   "id": "44c049b6",
   "metadata": {},
   "source": [
    "## Leap Year Checker"
   ]
  },
  {
   "cell_type": "markdown",
   "id": "9aaaac94",
   "metadata": {},
   "source": [
    "#### A leap year is a year that contain an extra day,february 29\n",
    "The rule for determining whether a year is a leap year are as follows\n",
    " \n",
    " 1.If a year is evenly divisible by 4,it is a leap year, expcept for:\n",
    " \n",
    " 2.years that are evenly divisible by 100 are not leap years,unless:\n",
    " \n",
    " 3.years that are evenly divisible by 400 are leap years"
   ]
  },
  {
   "cell_type": "code",
   "execution_count": 27,
   "id": "20c3e67b",
   "metadata": {},
   "outputs": [
    {
     "name": "stdout",
     "output_type": "stream",
     "text": [
      "Enter a year:2020\n",
      "Leap Year\n"
     ]
    }
   ],
   "source": [
    "year=int(input(\"Enter a year:\"))\n",
    "if ( year % 4 == 0 and year % 100 != 0) or(year % 400 == 0):\n",
    "    print(\"Leap Year\")\n",
    "else:\n",
    "    print(\"Not a Leap Y\")"
   ]
  },
  {
   "cell_type": "code",
   "execution_count": 7,
   "id": "18f64af3",
   "metadata": {},
   "outputs": [
    {
     "data": {
      "text/plain": [
       "0"
      ]
     },
     "execution_count": 7,
     "metadata": {},
     "output_type": "execute_result"
    }
   ],
   "source": [
    "2012%4"
   ]
  },
  {
   "cell_type": "code",
   "execution_count": 9,
   "id": "9a87e6a1",
   "metadata": {},
   "outputs": [
    {
     "data": {
      "text/plain": [
       "0"
      ]
     },
     "execution_count": 9,
     "metadata": {},
     "output_type": "execute_result"
    }
   ],
   "source": [
    "2088%4"
   ]
  },
  {
   "cell_type": "code",
   "execution_count": 10,
   "id": "8d2d470d",
   "metadata": {},
   "outputs": [
    {
     "data": {
      "text/plain": [
       "88"
      ]
     },
     "execution_count": 10,
     "metadata": {},
     "output_type": "execute_result"
    }
   ],
   "source": [
    "2088%100"
   ]
  },
  {
   "cell_type": "code",
   "execution_count": 11,
   "id": "1cd2d5d4",
   "metadata": {},
   "outputs": [
    {
     "data": {
      "text/plain": [
       "24"
      ]
     },
     "execution_count": 11,
     "metadata": {},
     "output_type": "execute_result"
    }
   ],
   "source": [
    "2024%100"
   ]
  },
  {
   "cell_type": "code",
   "execution_count": 12,
   "id": "6fce7806",
   "metadata": {},
   "outputs": [
    {
     "data": {
      "text/plain": [
       "23"
      ]
     },
     "execution_count": 12,
     "metadata": {},
     "output_type": "execute_result"
    }
   ],
   "source": [
    "2023%100"
   ]
  },
  {
   "cell_type": "code",
   "execution_count": 13,
   "id": "3905456b",
   "metadata": {},
   "outputs": [
    {
     "data": {
      "text/plain": [
       "0"
      ]
     },
     "execution_count": 13,
     "metadata": {},
     "output_type": "execute_result"
    }
   ],
   "source": [
    "4000%4"
   ]
  },
  {
   "cell_type": "code",
   "execution_count": 14,
   "id": "7b3f1efd",
   "metadata": {},
   "outputs": [
    {
     "data": {
      "text/plain": [
       "0"
      ]
     },
     "execution_count": 14,
     "metadata": {},
     "output_type": "execute_result"
    }
   ],
   "source": [
    "4000%100"
   ]
  },
  {
   "cell_type": "code",
   "execution_count": 15,
   "id": "0f2e006a",
   "metadata": {},
   "outputs": [
    {
     "data": {
      "text/plain": [
       "0"
      ]
     },
     "execution_count": 15,
     "metadata": {},
     "output_type": "execute_result"
    }
   ],
   "source": [
    "4000%400"
   ]
  },
  {
   "cell_type": "code",
   "execution_count": null,
   "id": "c2483b8c",
   "metadata": {},
   "outputs": [],
   "source": []
  }
 ],
 "metadata": {
  "kernelspec": {
   "display_name": "Python 3 (ipykernel)",
   "language": "python",
   "name": "python3"
  },
  "language_info": {
   "codemirror_mode": {
    "name": "ipython",
    "version": 3
   },
   "file_extension": ".py",
   "mimetype": "text/x-python",
   "name": "python",
   "nbconvert_exporter": "python",
   "pygments_lexer": "ipython3",
   "version": "3.11.5"
  }
 },
 "nbformat": 4,
 "nbformat_minor": 5
}
