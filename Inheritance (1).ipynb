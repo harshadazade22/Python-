{
 "cells": [
  {
   "cell_type": "markdown",
   "id": "e1cd6624",
   "metadata": {},
   "source": [
    "# Inheritance"
   ]
  },
  {
   "cell_type": "markdown",
   "id": "58d26230",
   "metadata": {},
   "source": [
    "### single inheritance"
   ]
  },
  {
   "cell_type": "code",
   "execution_count": 3,
   "id": "e3e67fac",
   "metadata": {},
   "outputs": [
    {
     "name": "stdout",
     "output_type": "stream",
     "text": [
      "feature 3 is working\n",
      "feature 4 is working\n",
      "feature 2 is working\n",
      "feature 1 is working\n"
     ]
    }
   ],
   "source": [
    "class A:    #parent class\n",
    "    def feature1(self):\n",
    "        print(\"feature 1 is working\")\n",
    "        \n",
    "    def feature2(self):\n",
    "        print(\"feature 2 is working\")\n",
    "        \n",
    "class B(A):     #child class\n",
    "    def feature3(self):\n",
    "        print(\"feature 3 is working\")\n",
    "        \n",
    "    def feature4(self):\n",
    "        print(\"feature 4 is working\")\n",
    "    \n",
    "b=B()\n",
    "b.feature3()\n",
    "b.feature4()\n",
    "b.feature2()\n",
    "b.feature1()"
   ]
  },
  {
   "cell_type": "markdown",
   "id": "800e307f",
   "metadata": {},
   "source": [
    "## Multiple Inheritance"
   ]
  },
  {
   "cell_type": "code",
   "execution_count": 4,
   "id": "68d0373c",
   "metadata": {},
   "outputs": [
    {
     "name": "stdout",
     "output_type": "stream",
     "text": [
      "feature 2 is working\n",
      "feature 4 is working\n",
      "feature 6 is working\n",
      "feature 3 is working\n",
      "feature 1 is working\n"
     ]
    }
   ],
   "source": [
    "class A:      #parent class\n",
    "    def feature1(self):\n",
    "        print(\"feature 1 is working\")\n",
    "        \n",
    "    def feature2(self):\n",
    "        print(\"feature 2 is working\")\n",
    "        \n",
    "class B:      #parent class 2\n",
    "    def feature3(self):\n",
    "        print(\"feature 3 is working\")\n",
    "        \n",
    "    def feature4(self):\n",
    "        print(\"feature 4 is working\")\n",
    "        \n",
    "class C(A,B):    #child class\n",
    "    def feature5(self):\n",
    "        print(\"feature 5 is working\")\n",
    "        \n",
    "    def feature6(self):\n",
    "        print(\"feature 6 is working\")\n",
    "        \n",
    "c=C()\n",
    "c.feature2()\n",
    "c.feature4()\n",
    "c.feature6()\n",
    "c.feature3()\n",
    "c.feature1()"
   ]
  },
  {
   "cell_type": "markdown",
   "id": "3c31f033",
   "metadata": {},
   "source": [
    "# Multilevel Inheritance"
   ]
  },
  {
   "cell_type": "code",
   "execution_count": 4,
   "id": "55aaba8f",
   "metadata": {},
   "outputs": [
    {
     "name": "stdout",
     "output_type": "stream",
     "text": [
      "feature 1 is working\n",
      "feature 3 is working\n",
      "feature 4 is working\n"
     ]
    }
   ],
   "source": [
    "class A:  #parent class\n",
    "    def feature1(self):\n",
    "        print(\"feature 1 is working\")\n",
    "        \n",
    "    def feature2(self):\n",
    "        print(\"feature 2 is working\")\n",
    "        \n",
    "class B(A):  #child class\n",
    "    def feature3(self):\n",
    "        print(\"feature 3 is working\")\n",
    "        \n",
    "    def feature4(self):\n",
    "        print(\"feature 4 is working\")\n",
    "        \n",
    "class C(B):\n",
    "    def feature5(self):\n",
    "        print(\"feature 5 is working\")\n",
    "        \n",
    "    def feature6(self):\n",
    "        print(\"feature 6 is working\")\n",
    "        \n",
    "c=C()\n",
    "c.feature1()\n",
    "c.feature3()\n",
    "c.feature4()\n",
    "        "
   ]
  },
  {
   "cell_type": "markdown",
   "id": "bbfca768",
   "metadata": {},
   "source": [
    "# Hierarchical inheritance\n"
   ]
  },
  {
   "cell_type": "code",
   "execution_count": 8,
   "id": "1249e860",
   "metadata": {},
   "outputs": [
    {
     "name": "stdout",
     "output_type": "stream",
     "text": [
      "feature 2 is working\n",
      "feature 5 is working\n"
     ]
    }
   ],
   "source": [
    "class A():#main parent\n",
    "    def feature1(self):\n",
    "        print(\"feature 1 is working\")\n",
    "        \n",
    "    def feature2(self):\n",
    "        print(\"feature 2 is working\")\n",
    "        \n",
    "class B(A):   #child class1\n",
    "    def feature3(self):\n",
    "        print(\"feature 3 is working\")\n",
    "        \n",
    "    def feature4(self):\n",
    "        print(\"feature 4 is working\")\n",
    "        \n",
    "b=B()\n",
    "b.feature2()\n",
    "\n",
    "class C(A):   #child class 2\n",
    "    def feature5(self):\n",
    "        print(\"feature 5 is working\")\n",
    "        \n",
    "    def feature6(self):\n",
    "        print(\"feature 6 is working\")\n",
    "        \n",
    "c=C()\n",
    "c.feature5()\n"
   ]
  },
  {
   "cell_type": "markdown",
   "id": "759325b1",
   "metadata": {},
   "source": [
    "# Hybrid inheritance"
   ]
  },
  {
   "cell_type": "code",
   "execution_count": 13,
   "id": "fbb9b4a1",
   "metadata": {},
   "outputs": [
    {
     "name": "stdout",
     "output_type": "stream",
     "text": [
      "feature 4 is working\n",
      "feature 1 is working\n",
      "feature 2 is working\n",
      "feature 6 is working\n",
      "feature 3 is working\n",
      "feature 5 is working\n"
     ]
    }
   ],
   "source": [
    "class A:   #main class\n",
    "    def feature1(self):\n",
    "        print(\"feature 1 is working\")\n",
    "        \n",
    "    def feature2(self):\n",
    "        print(\"feature 2 is working\")\n",
    "        \n",
    "class B(A):  #child class 1\n",
    "    def feature3(self):\n",
    "        print(\"feature 3 is working\")\n",
    "        \n",
    "    def feature4(self):\n",
    "        print(\"feature 4 is working\")\n",
    "        \n",
    "b=B()\n",
    "b.feature4()\n",
    "        \n",
    "class C(A): #child class 2\n",
    "    def feature5(self):\n",
    "        print(\"feature 5 is working\")\n",
    "        \n",
    "    def feature6(self):\n",
    "        print(\"feature 6 is working\")\n",
    "        \n",
    "c=C()\n",
    "c.feature1()\n",
    "\n",
    "class D(B,C):\n",
    "    def feature7(self):\n",
    "        print(\"feature 7 is working\")\n",
    "        \n",
    "    def feature8(self):\n",
    "        print(\"feature 8 is working\")\n",
    "    \n",
    "d=D()\n",
    "d.feature2()\n",
    "d.feature6()\n",
    "d.feature3()\n",
    "d.feature5()"
   ]
  },
  {
   "cell_type": "code",
   "execution_count": null,
   "id": "76b2c8a2",
   "metadata": {},
   "outputs": [],
   "source": []
  }
 ],
 "metadata": {
  "kernelspec": {
   "display_name": "Python 3 (ipykernel)",
   "language": "python",
   "name": "python3"
  },
  "language_info": {
   "codemirror_mode": {
    "name": "ipython",
    "version": 3
   },
   "file_extension": ".py",
   "mimetype": "text/x-python",
   "name": "python",
   "nbconvert_exporter": "python",
   "pygments_lexer": "ipython3",
   "version": "3.11.3"
  }
 },
 "nbformat": 4,
 "nbformat_minor": 5
}
