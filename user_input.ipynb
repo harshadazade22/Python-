{
 "cells": [
  {
   "cell_type": "code",
   "execution_count": 1,
   "id": "63e2adb4",
   "metadata": {},
   "outputs": [
    {
     "name": "stdout",
     "output_type": "stream",
     "text": [
      "multiplication is this : 540\n"
     ]
    }
   ],
   "source": [
    "a=12\n",
    "b=45\n",
    "c=a*b\n",
    "print(\"multiplication is this :\",c)"
   ]
  },
  {
   "cell_type": "code",
   "execution_count": 5,
   "id": "89690f2f",
   "metadata": {},
   "outputs": [
    {
     "name": "stdout",
     "output_type": "stream",
     "text": [
      "enter the first no: 2\n",
      "enter the first no: 5\n",
      "multiplication is this : 10.0\n"
     ]
    }
   ],
   "source": [
    "a=float(input(\"enter the first no: \"))\n",
    "b=float(input(\"enter the first no: \"))\n",
    "c=a*b\n",
    "print(\"multiplication is this :\",c)"
   ]
  },
  {
   "cell_type": "code",
   "execution_count": 6,
   "id": "da56b608",
   "metadata": {},
   "outputs": [
    {
     "name": "stdout",
     "output_type": "stream",
     "text": [
      "Area of Recatangle is this:  156\n"
     ]
    }
   ],
   "source": [
    "#length,width,area\n",
    "length=12\n",
    "width=13\n",
    "area_of_rectangle=length*width\n",
    "print(\"Area of Recatangle is this: \",area_of_rectangle)"
   ]
  },
  {
   "cell_type": "code",
   "execution_count": null,
   "id": "df408c1a",
   "metadata": {},
   "outputs": [],
   "source": []
  }
 ],
 "metadata": {
  "kernelspec": {
   "display_name": "Python 3 (ipykernel)",
   "language": "python",
   "name": "python3"
  },
  "language_info": {
   "codemirror_mode": {
    "name": "ipython",
    "version": 3
   },
   "file_extension": ".py",
   "mimetype": "text/x-python",
   "name": "python",
   "nbconvert_exporter": "python",
   "pygments_lexer": "ipython3",
   "version": "3.11.3"
  }
 },
 "nbformat": 4,
 "nbformat_minor": 5
}
