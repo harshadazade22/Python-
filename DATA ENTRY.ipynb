{
 "cells": [
  {
   "cell_type": "markdown",
   "id": "91cc0404",
   "metadata": {},
   "source": [
    "# DATA ENTRY"
   ]
  },
  {
   "cell_type": "code",
   "execution_count": 14,
   "id": "e40d1348",
   "metadata": {},
   "outputs": [],
   "source": [
    "import csv"
   ]
  },
  {
   "cell_type": "code",
   "execution_count": 15,
   "id": "c90a92bd",
   "metadata": {},
   "outputs": [],
   "source": [
    "fieldname=[\"Name\",\"Age\",\"Mobile.No\",\"Gender\"]\n",
    "file=open(r\"C:\\Users\\admin\\Desktop\\DATA ENTRY.csv\",\"w\")"
   ]
  },
  {
   "cell_type": "code",
   "execution_count": 16,
   "id": "b2e09676",
   "metadata": {},
   "outputs": [],
   "source": [
    "writer=csv.writer(file)"
   ]
  },
  {
   "cell_type": "code",
   "execution_count": 17,
   "id": "aea9010b",
   "metadata": {},
   "outputs": [
    {
     "data": {
      "text/plain": [
       "27"
      ]
     },
     "execution_count": 17,
     "metadata": {},
     "output_type": "execute_result"
    }
   ],
   "source": [
    "writer.writerow(fieldname) #writerow"
   ]
  },
  {
   "cell_type": "code",
   "execution_count": 18,
   "id": "51f25ab5",
   "metadata": {},
   "outputs": [],
   "source": [
    "file.close()"
   ]
  },
  {
   "cell_type": "markdown",
   "id": "5c0eb028",
   "metadata": {},
   "source": [
    "## Lets Start "
   ]
  },
  {
   "cell_type": "code",
   "execution_count": 2,
   "id": "c2e3a1b3",
   "metadata": {},
   "outputs": [],
   "source": [
    "from csv import *"
   ]
  },
  {
   "cell_type": "code",
   "execution_count": 3,
   "id": "fd51271c",
   "metadata": {},
   "outputs": [],
   "source": [
    "from tkinter import *\n",
    "window=Tk()\n",
    "window.title(\"Data Entry\")\n",
    "from tkinter import messagebox"
   ]
  },
  {
   "cell_type": "code",
   "execution_count": 4,
   "id": "ffc874d0",
   "metadata": {},
   "outputs": [],
   "source": [
    "#now i want 4 labels for name,age, gender,mo.no,city\n",
    "#5 entry boxes\n",
    "#buttons to insert many users data\n",
    "#save,exit,clear\n"
   ]
  },
  {
   "cell_type": "markdown",
   "id": "c06cec9a",
   "metadata": {},
   "source": [
    "# Creating 4 label"
   ]
  },
  {
   "cell_type": "code",
   "execution_count": 5,
   "id": "a64f0a4a",
   "metadata": {},
   "outputs": [],
   "source": [
    "\"\"\"[[\"chetana\",27,65872364876,\"F\"],[\"jdghf\",37,327746,\"M\"]]\"\"\"\n",
    "mainlist=[]\n",
    "\n",
    "def Add():\n",
    "    temp_list=[entry1.get(),entry2.get(),entry3.get(),entry4.get(),entry5.get()]\n",
    "    mainlist.append(temp_list)\n",
    "    messagebox.showinfo(\"info\",\"Data Added Successfully\")"
   ]
  },
  {
   "cell_type": "code",
   "execution_count": 6,
   "id": "74395c16",
   "metadata": {},
   "outputs": [],
   "source": [
    "with open(r\"C:\\Users\\admin\\Desktop\\DATA ENTRY.csv\",\"a\") as file:\n",
    "        Writer=writer(file)\n",
    "        Writer.writerow([\"Name\",\"Age\",\"Mobile.No\",\"Gender\",\"City\"])"
   ]
  },
  {
   "cell_type": "code",
   "execution_count": 7,
   "id": "8207e174",
   "metadata": {},
   "outputs": [],
   "source": [
    "def Save():\n",
    "    with open(r\"C:\\Users\\admin\\Desktop\\DATA ENTRY.csv\",\"a\") as file:\n",
    "        Writer=writer(file)\n",
    "        \n",
    "        Writer.writerows(mainlist)\n",
    "        messagebox.showinfo(\"info\",\"Data Saved Successfully\")"
   ]
  },
  {
   "cell_type": "code",
   "execution_count": 8,
   "id": "9cb6391c",
   "metadata": {},
   "outputs": [],
   "source": [
    "def Clear():\n",
    "    entry1.delete(0,END)\n",
    "    entry2.delete(0,END)\n",
    "    entry3.delete(0,END)\n",
    "    entry4.delete(0,END)\n",
    "    entry5.delete(0,END)"
   ]
  },
  {
   "cell_type": "code",
   "execution_count": 9,
   "id": "2544f78f",
   "metadata": {},
   "outputs": [],
   "source": [
    "label1=Label(window,text=\"Name: \",padx=20,pady=20)\n",
    "label2=Label(window,text=\"Age: \",padx=20,pady=20)\n",
    "label3=Label(window,text=\"Contact no: \",padx=20,pady=20)\n",
    "label4=Label(window,text=\"Gender: \",padx=20,pady=20)\n",
    "label5=Label(window,text=\"City: \",padx=20,pady=20)\n",
    "\n",
    "\n",
    "\n",
    "entry1=Entry(window,width=30,borderwidth=5)\n",
    "entry2=Entry(window,width=30,borderwidth=5)\n",
    "entry3=Entry(window,width=30,borderwidth=5)\n",
    "entry4=Entry(window,width=30,borderwidth=5)\n",
    "entry5=Entry(window,width=30,borderwidth=5)"
   ]
  },
  {
   "cell_type": "code",
   "execution_count": 10,
   "id": "c4f5dcac",
   "metadata": {},
   "outputs": [],
   "source": [
    "add=Button(window,text=\"Add\",padx=20,pady=20,command=Add)\n",
    "save=Button(window,text=\"Save\",padx=20,pady=20,command=Save)\n",
    "clear=Button(window,text=\"Clear\",padx=20,pady=20,command=Clear)\n",
    "exit=Button(window,text=\"Exit\",padx=20,pady=20,command=window.quit)"
   ]
  },
  {
   "cell_type": "code",
   "execution_count": 11,
   "id": "b6b41907",
   "metadata": {},
   "outputs": [],
   "source": [
    "label1.grid(row=0,column=0)\n",
    "label2.grid(row=1,column=0)\n",
    "label3.grid(row=2,column=0)\n",
    "label4.grid(row=3,column=0)\n",
    "label5.grid(row=4,column=0)\n",
    "entry1.grid(row=0,column=1)\n",
    "entry2.grid(row=1,column=1)\n",
    "entry3.grid(row=2,column=1)\n",
    "entry4.grid(row=3,column=1)\n",
    "entry5.grid(row=4,column=1)"
   ]
  },
  {
   "cell_type": "code",
   "execution_count": 12,
   "id": "bf5acd49",
   "metadata": {},
   "outputs": [],
   "source": [
    "add.grid(row=5,column=0)\n",
    "save.grid(row=5,column=1)\n",
    "clear.grid(row=5,column=2)\n",
    "exit.grid(row=5,column=3)"
   ]
  },
  {
   "cell_type": "code",
   "execution_count": 13,
   "id": "c4e839cd",
   "metadata": {
    "scrolled": true
   },
   "outputs": [],
   "source": [
    "window.mainloop()"
   ]
  },
  {
   "cell_type": "code",
   "execution_count": null,
   "id": "4e6172ef",
   "metadata": {},
   "outputs": [],
   "source": []
  },
  {
   "cell_type": "code",
   "execution_count": null,
   "id": "a8c055a3",
   "metadata": {},
   "outputs": [],
   "source": []
  }
 ],
 "metadata": {
  "kernelspec": {
   "display_name": "Python 3 (ipykernel)",
   "language": "python",
   "name": "python3"
  },
  "language_info": {
   "codemirror_mode": {
    "name": "ipython",
    "version": 3
   },
   "file_extension": ".py",
   "mimetype": "text/x-python",
   "name": "python",
   "nbconvert_exporter": "python",
   "pygments_lexer": "ipython3",
   "version": "3.11.3"
  }
 },
 "nbformat": 4,
 "nbformat_minor": 5
}
