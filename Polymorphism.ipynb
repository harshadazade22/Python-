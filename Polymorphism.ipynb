{
 "cells": [
  {
   "cell_type": "markdown",
   "id": "c937adf3",
   "metadata": {},
   "source": [
    "# Method overloading"
   ]
  },
  {
   "cell_type": "code",
   "execution_count": null,
   "id": "991724f5",
   "metadata": {},
   "outputs": [],
   "source": [
    "ethod overloading\n",
    "\n",
    "#method overloading\n",
    "class OverloadingExample:\n",
    "    def add(self,a,b):\n",
    "        print(a+b)\n",
    "    def add(self,a,b,c):\n",
    "        print(a+b+c)\n",
    "        \n",
    "a=OverloadingExample()\n",
    "a.add(5,10)\n",
    "a.add(5,10,25)    #python not support overloading cause python take last argument to perform "
   ]
  },
  {
   "cell_type": "code",
   "execution_count": 5,
   "id": "fc8746e6",
   "metadata": {},
   "outputs": [
    {
     "name": "stdout",
     "output_type": "stream",
     "text": [
      "6\n",
      "13\n"
     ]
    }
   ],
   "source": [
    "class OverloadingExample:\n",
    "    def add(self,a,b):\n",
    "        print(a+b)\n",
    "    def add (self,a,b,c=3):\n",
    "        print(a+b+c)\n",
    "        \n",
    "a=OverloadingExample()\n",
    "a.add(1,2)\n",
    "a.add(1,5,7)       # try to overload but the result is not as required"
   ]
  },
  {
   "cell_type": "markdown",
   "id": "f9b01a67",
   "metadata": {},
   "source": [
    "# Method Overriding"
   ]
  },
  {
   "cell_type": "code",
   "execution_count": 7,
   "id": "afc8dcbe",
   "metadata": {},
   "outputs": [
    {
     "name": "stdout",
     "output_type": "stream",
     "text": [
      "There are different types of birds\n",
      "Most of the birds can fly but some cannot\n",
      "Parrots can fly\n",
      "penguin do not fly\n"
     ]
    }
   ],
   "source": [
    "#method overriding:-same method mane in the parent class behave differntly in the child class\n",
    "class bird:\n",
    "    def intro(self):\n",
    "        print(\"There are different types of birds\")\n",
    "    def flight(self):\n",
    "        print(\"Most of the birds can fly but some cannot\")\n",
    "class parrot(bird):\n",
    "    def flight(self):\n",
    "        print(\"Parrots can fly\")\n",
    "class penguin(bird):\n",
    "    def flight(self):\n",
    "        print(\"penguin do not fly\")\n",
    "        \n",
    "obj=bird()\n",
    "obj.intro()\n",
    "obj.flight()\n",
    "obj=parrot()\n",
    "obj.flight()\n",
    "obj=penguin()\n",
    "obj.flight()"
   ]
  },
  {
   "cell_type": "markdown",
   "id": "2b9e2045",
   "metadata": {},
   "source": [
    "# Operator Overloading"
   ]
  },
  {
   "cell_type": "code",
   "execution_count": 9,
   "id": "3a11176e",
   "metadata": {},
   "outputs": [
    {
     "name": "stdout",
     "output_type": "stream",
     "text": [
      "3\n",
      "data science\n",
      "12\n",
      "pythonpythonpython\n"
     ]
    }
   ],
   "source": [
    "#python program to show use of\n",
    "#+opertor for different purposes.\n",
    "\n",
    "print(1+2)\n",
    "\n",
    "#concatenate two strings\n",
    "print(\"data \" + \"science\")\n",
    "\n",
    "#product two number\n",
    "print(3*4)\n",
    "\n",
    "#repeat the string\n",
    "print(\"python\"*3)"
   ]
  },
  {
   "cell_type": "code",
   "execution_count": null,
   "id": "8b94e545",
   "metadata": {},
   "outputs": [],
   "source": []
  }
 ],
 "metadata": {
  "kernelspec": {
   "display_name": "Python 3 (ipykernel)",
   "language": "python",
   "name": "python3"
  },
  "language_info": {
   "codemirror_mode": {
    "name": "ipython",
    "version": 3
   },
   "file_extension": ".py",
   "mimetype": "text/x-python",
   "name": "python",
   "nbconvert_exporter": "python",
   "pygments_lexer": "ipython3",
   "version": "3.11.3"
  }
 },
 "nbformat": 4,
 "nbformat_minor": 5
}
