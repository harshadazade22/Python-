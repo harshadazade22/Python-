{
 "cells": [
  {
   "cell_type": "markdown",
   "id": "7c1cf4b7",
   "metadata": {},
   "source": [
    "# Abstracation"
   ]
  },
  {
   "cell_type": "code",
   "execution_count": 1,
   "id": "890f0171",
   "metadata": {},
   "outputs": [
    {
     "name": "stdout",
     "output_type": "stream",
     "text": [
      "Studing python\n"
     ]
    }
   ],
   "source": [
    "class my_class:     #concetre class\n",
    "    def study(self):\n",
    "        print(\"Studing python\")\n",
    "        \n",
    "obj=my_class()\n",
    "obj.study()"
   ]
  },
  {
   "cell_type": "code",
   "execution_count": 9,
   "id": "ead3b7e4",
   "metadata": {},
   "outputs": [
    {
     "ename": "TypeError",
     "evalue": "Can't instantiate abstract class my_class1 with abstract method mock",
     "output_type": "error",
     "traceback": [
      "\u001b[1;31m---------------------------------------------------------------------------\u001b[0m",
      "\u001b[1;31mTypeError\u001b[0m                                 Traceback (most recent call last)",
      "Cell \u001b[1;32mIn[9], line 9\u001b[0m\n\u001b[0;32m      6\u001b[0m     \u001b[38;5;129m@abstractclassmethod\u001b[39m               \u001b[38;5;66;03m#decorator:to make abstract method\u001b[39;00m\n\u001b[0;32m      7\u001b[0m     \u001b[38;5;28;01mdef\u001b[39;00m \u001b[38;5;21mmock\u001b[39m(\u001b[38;5;28mself\u001b[39m):\n\u001b[0;32m      8\u001b[0m         \u001b[38;5;28;01mpass\u001b[39;00m\n\u001b[1;32m----> 9\u001b[0m obj\u001b[38;5;241m=\u001b[39mmy_class1()\n",
      "\u001b[1;31mTypeError\u001b[0m: Can't instantiate abstract class my_class1 with abstract method mock"
     ]
    }
   ],
   "source": [
    "from abc import ABC,abstractclassmethod\n",
    "class my_class1(ABC):\n",
    "    def study(self):\n",
    "        print(\"Studing python\")\n",
    "        \n",
    "    @abstractclassmethod               #decorator:to make abstract method\n",
    "    def mock(self):\n",
    "        pass\n",
    "obj=my_class1()\n"
   ]
  },
  {
   "cell_type": "code",
   "execution_count": 11,
   "id": "b1d995c9",
   "metadata": {},
   "outputs": [
    {
     "name": "stdout",
     "output_type": "stream",
     "text": [
      "doing mock to becomes DS\n",
      "Enjoying the weekend to fullest\n"
     ]
    }
   ],
   "source": [
    "class my_class1(ABC):                 #abstract class\n",
    "    \n",
    "    def study(self):\n",
    "        pass\n",
    "    @abstractclassmethod      #abstract method\n",
    "    def  mock(self):\n",
    "        pass\n",
    "    \n",
    "class student(my_class1):      #concrete class\n",
    "    def miss_mock(self):        \n",
    "        print(\"Enjoying the weekend to fullest\")\n",
    "        \n",
    "    def mock(self):\n",
    "        print(\"doing mock to becomes DS\")\n",
    "        \n",
    "    def study(self):\n",
    "        pass\n",
    "    \n",
    "student1=student()\n",
    "student1.mock()\n",
    "student1.study()\n",
    "student1.miss_mock()"
   ]
  },
  {
   "cell_type": "code",
   "execution_count": 14,
   "id": "041bb84a",
   "metadata": {},
   "outputs": [
    {
     "name": "stdout",
     "output_type": "stream",
     "text": [
      "hissssssing sound\n"
     ]
    }
   ],
   "source": [
    "class Animal(ABC):         #abstract class\n",
    "    def sleep(self):       #concrete method\n",
    "        print(\"i am going to sleep\")\n",
    "    @abstractclassmethod\n",
    "    def sound(self):\n",
    "        pass\n",
    "class snake(Animal):\n",
    "    def sound(self):\n",
    "        print(\"hissssssing sound\")\n",
    "        super()\n",
    "        \n",
    "s=snake()\n",
    "s.sound()\n",
    "    "
   ]
  },
  {
   "cell_type": "code",
   "execution_count": null,
   "id": "4cabbe6c",
   "metadata": {},
   "outputs": [],
   "source": []
  }
 ],
 "metadata": {
  "kernelspec": {
   "display_name": "Python 3 (ipykernel)",
   "language": "python",
   "name": "python3"
  },
  "language_info": {
   "codemirror_mode": {
    "name": "ipython",
    "version": 3
   },
   "file_extension": ".py",
   "mimetype": "text/x-python",
   "name": "python",
   "nbconvert_exporter": "python",
   "pygments_lexer": "ipython3",
   "version": "3.11.3"
  }
 },
 "nbformat": 4,
 "nbformat_minor": 5
}
