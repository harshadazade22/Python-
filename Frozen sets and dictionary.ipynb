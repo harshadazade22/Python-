{
 "cells": [
  {
   "cell_type": "markdown",
   "id": "396df67e",
   "metadata": {},
   "source": [
    "# Frozen sets and dictionary"
   ]
  },
  {
   "cell_type": "markdown",
   "id": "5b85b257",
   "metadata": {},
   "source": [
    "# Frozen set"
   ]
  },
  {
   "cell_type": "code",
   "execution_count": 4,
   "id": "95a5688e",
   "metadata": {},
   "outputs": [
    {
     "name": "stdout",
     "output_type": "stream",
     "text": [
      "(1, 2, 3, 4, 5, 7, 6, 8, 9, 9)\n",
      "frozon object is: frozenset({1, 2, 3, 4, 5, 6, 7, 8, 9})\n"
     ]
    }
   ],
   "source": [
    "#syntax: frozenset(itreable_object_name)\n",
    "#inmutable\n",
    "num1=(1,2,3,4,5,7,6,8,9,9) #tuple of numbers\n",
    "print(num1)  #printing tuple\n",
    "fnum1=frozenset(num1)  #converting tuple to frozenset\n",
    "print(\"frozon object is:\",fnum1) # printing details\n",
    "\n"
   ]
  },
  {
   "cell_type": "code",
   "execution_count": 17,
   "id": "51e0e1e3",
   "metadata": {},
   "outputs": [
    {
     "name": "stdout",
     "output_type": "stream",
     "text": [
      "[1, 2, 3, 4, 5, 6, 7, 8, 8, 9]\n",
      "frozon object is: frozenset({1, 2, 3, 4, 5, 6, 7, 8, 9})\n"
     ]
    }
   ],
   "source": [
    "#syntax: frozenset(itreable_object_name)\n",
    "#mutable\n",
    "num2=[1,2,3,4,5,6,7,8,8,9]\n",
    "print(num2) \n",
    "fnum2=frozenset(num2)  \n",
    "print(\"frozon object is:\",fnum2) "
   ]
  },
  {
   "cell_type": "code",
   "execution_count": 19,
   "id": "5a7d4c16",
   "metadata": {},
   "outputs": [
    {
     "name": "stdout",
     "output_type": "stream",
     "text": [
      "{1, 2, 3, 4, 6}\n",
      "frozenset({1, 2, 3, 4, 6})\n"
     ]
    }
   ],
   "source": [
    "#sets{}\n",
    "num11={1,2,4,3,4,6}\n",
    "print(num11)\n",
    "fnum11=frozenset(num11)\n",
    "print(fnum11)\n"
   ]
  },
  {
   "cell_type": "markdown",
   "id": "d327de0f",
   "metadata": {},
   "source": [
    "# Dictionary"
   ]
  },
  {
   "cell_type": "code",
   "execution_count": 7,
   "id": "74f988b9",
   "metadata": {},
   "outputs": [
    {
     "name": "stdout",
     "output_type": "stream",
     "text": [
      "{'nanme': 'jaxx', 'age': '10'}\n"
     ]
    }
   ],
   "source": [
    "#syntax: Dict_name={key:value}\n",
    "Dog={\"nanme\":\"jaxx\",\"age\":\"10\"}\n",
    "print(Dog)\n"
   ]
  },
  {
   "cell_type": "code",
   "execution_count": 9,
   "id": "b298576a",
   "metadata": {},
   "outputs": [
    {
     "name": "stdout",
     "output_type": "stream",
     "text": [
      "{'name': 'jaxx', 'age': '10', 'color': 'brown'}\n",
      "{'name': 'jaxx', 'age': '10', 'color': 'brown', 'weight': 34}\n",
      "{'name': 'jaxx', 'age': 15, 'color': 'brown', 'weight': 34}\n",
      "4\n",
      "dict_keys(['name', 'age', 'color', 'weight'])\n",
      "dict_values(['jaxx', 15, 'brown', 34])\n",
      "dict_items([('name', 'jaxx'), ('age', 15), ('color', 'brown'), ('weight', 34)])\n"
     ]
    }
   ],
   "source": [
    "Dog={\"name\":\"jaxx\",\"age\":\"10\",\"color\":\"brown\"}\n",
    "print(Dog)\n",
    "#adding item syntax:dict_name[key]=value\n",
    "Dog[\"weight\"]=34\n",
    "print(Dog)\n",
    "\n",
    "#changing value syntax:dict_name[exiting_key]=new_value\n",
    "Dog[\"age\"]=15\n",
    "print(Dog)\n",
    "\n",
    "#to get number of items in a dic syntax:len(Dict_name)\n",
    "print(len(Dog))\n",
    "\n",
    "#print only keys:syntax:dict_name.keys()\n",
    "print(Dog.keys())\n",
    "\n",
    "#print only values syntax:dict_name.values()\n",
    "print(Dog.values())\n",
    "\n",
    "\n",
    "#to get items\n",
    "print(Dog.items())\n",
    "\n"
   ]
  },
  {
   "cell_type": "markdown",
   "id": "81820e1e",
   "metadata": {},
   "source": [
    "# Removing"
   ]
  },
  {
   "cell_type": "code",
   "execution_count": 10,
   "id": "c14f5f9a",
   "metadata": {},
   "outputs": [],
   "source": [
    "#pop,popitems,del,clear"
   ]
  },
  {
   "cell_type": "code",
   "execution_count": 18,
   "id": "d9a4271f",
   "metadata": {},
   "outputs": [
    {
     "name": "stdout",
     "output_type": "stream",
     "text": [
      "{'name': 'jaxx', 'age': '10', 'color': 'brown', 'weight': '44'}\n",
      "{'age': '10', 'color': 'brown', 'weight': '44'}\n",
      "{'age': '10', 'color': 'brown'}\n",
      "{'color': 'brown'}\n",
      "{}\n"
     ]
    }
   ],
   "source": [
    "Dog={\"name\":\"jaxx\",\"age\":\"10\",\"color\":\"brown\",\"weight\":\"44\"}\n",
    "print(Dog)\n",
    "\n",
    "#pop\n",
    "Dog.pop(\"name\")\n",
    "print(Dog)\n",
    "\n",
    "#popitems\n",
    "Dog.popitem()\n",
    "print(Dog)\n",
    "\n",
    "#Del\n",
    "del Dog[\"age\"]\n",
    "print(Dog)\n",
    "\n",
    "#clear\n",
    "Dog.clear()\n",
    "print(Dog)"
   ]
  },
  {
   "cell_type": "code",
   "execution_count": null,
   "id": "299bb540",
   "metadata": {},
   "outputs": [],
   "source": []
  }
 ],
 "metadata": {
  "kernelspec": {
   "display_name": "Python 3 (ipykernel)",
   "language": "python",
   "name": "python3"
  },
  "language_info": {
   "codemirror_mode": {
    "name": "ipython",
    "version": 3
   },
   "file_extension": ".py",
   "mimetype": "text/x-python",
   "name": "python",
   "nbconvert_exporter": "python",
   "pygments_lexer": "ipython3",
   "version": "3.11.3"
  }
 },
 "nbformat": 4,
 "nbformat_minor": 5
}
