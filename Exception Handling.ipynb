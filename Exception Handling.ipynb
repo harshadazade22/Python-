{
 "cells": [
  {
   "cell_type": "markdown",
   "id": "4268553d",
   "metadata": {},
   "source": [
    "# Python Exception Handling"
   ]
  },
  {
   "cell_type": "markdown",
   "id": "1e3464fe",
   "metadata": {},
   "source": [
    "### Exception==Error"
   ]
  },
  {
   "cell_type": "markdown",
   "id": "f2751f25",
   "metadata": {},
   "source": [
    "There are two types of error\n",
    "\n",
    "-Sytnax error(Complied time error)\n",
    "\n",
    "-Logical error(Run Time Error)-Exception"
   ]
  },
  {
   "cell_type": "code",
   "execution_count": 1,
   "id": "a7960cfc",
   "metadata": {},
   "outputs": [
    {
     "name": "stdout",
     "output_type": "stream",
     "text": [
      "['ArithmeticError', 'AssertionError', 'AttributeError', 'BaseException', 'BaseExceptionGroup', 'BlockingIOError', 'BrokenPipeError', 'BufferError', 'BytesWarning', 'ChildProcessError', 'ConnectionAbortedError', 'ConnectionError', 'ConnectionRefusedError', 'ConnectionResetError', 'DeprecationWarning', 'EOFError', 'Ellipsis', 'EncodingWarning', 'EnvironmentError', 'Exception', 'ExceptionGroup', 'False', 'FileExistsError', 'FileNotFoundError', 'FloatingPointError', 'FutureWarning', 'GeneratorExit', 'IOError', 'ImportError', 'ImportWarning', 'IndentationError', 'IndexError', 'InterruptedError', 'IsADirectoryError', 'KeyError', 'KeyboardInterrupt', 'LookupError', 'MemoryError', 'ModuleNotFoundError', 'NameError', 'None', 'NotADirectoryError', 'NotImplemented', 'NotImplementedError', 'OSError', 'OverflowError', 'PendingDeprecationWarning', 'PermissionError', 'ProcessLookupError', 'RecursionError', 'ReferenceError', 'ResourceWarning', 'RuntimeError', 'RuntimeWarning', 'StopAsyncIteration', 'StopIteration', 'SyntaxError', 'SyntaxWarning', 'SystemError', 'SystemExit', 'TabError', 'TimeoutError', 'True', 'TypeError', 'UnboundLocalError', 'UnicodeDecodeError', 'UnicodeEncodeError', 'UnicodeError', 'UnicodeTranslateError', 'UnicodeWarning', 'UserWarning', 'ValueError', 'Warning', 'WindowsError', 'ZeroDivisionError', '__IPYTHON__', '__build_class__', '__debug__', '__doc__', '__import__', '__loader__', '__name__', '__package__', '__spec__', 'abs', 'aiter', 'all', 'anext', 'any', 'ascii', 'bin', 'bool', 'breakpoint', 'bytearray', 'bytes', 'callable', 'chr', 'classmethod', 'compile', 'complex', 'copyright', 'credits', 'delattr', 'dict', 'dir', 'display', 'divmod', 'enumerate', 'eval', 'exec', 'execfile', 'filter', 'float', 'format', 'frozenset', 'get_ipython', 'getattr', 'globals', 'hasattr', 'hash', 'help', 'hex', 'id', 'input', 'int', 'isinstance', 'issubclass', 'iter', 'len', 'license', 'list', 'locals', 'map', 'max', 'memoryview', 'min', 'next', 'object', 'oct', 'open', 'ord', 'pow', 'print', 'property', 'range', 'repr', 'reversed', 'round', 'runfile', 'set', 'setattr', 'slice', 'sorted', 'staticmethod', 'str', 'sum', 'super', 'tuple', 'type', 'vars', 'zip']\n"
     ]
    }
   ],
   "source": [
    "print(dir(locals()[\"__builtins__\"]))"
   ]
  },
  {
   "cell_type": "markdown",
   "id": "87437259",
   "metadata": {},
   "source": [
    "# Synatx Error"
   ]
  },
  {
   "cell_type": "markdown",
   "id": "8cafdfcc",
   "metadata": {},
   "source": [
    "Error caused by not following the rules or proper structure(syntax)of the lanuaguage is called syntax error or parsing error"
   ]
  },
  {
   "cell_type": "code",
   "execution_count": 3,
   "id": "a0ea6027",
   "metadata": {},
   "outputs": [
    {
     "ename": "SyntaxError",
     "evalue": "expected ':' (1425008742.py, line 3)",
     "output_type": "error",
     "traceback": [
      "\u001b[1;36m  Cell \u001b[1;32mIn[3], line 3\u001b[1;36m\u001b[0m\n\u001b[1;33m    if a>10\u001b[0m\n\u001b[1;37m           ^\u001b[0m\n\u001b[1;31mSyntaxError\u001b[0m\u001b[1;31m:\u001b[0m expected ':'\n"
     ]
    }
   ],
   "source": [
    "a=20\n",
    "\n",
    "if a>10\n",
    "    print(a) #syntax error"
   ]
  },
  {
   "cell_type": "code",
   "execution_count": 4,
   "id": "0b20640c",
   "metadata": {},
   "outputs": [
    {
     "ename": "ZeroDivisionError",
     "evalue": "division by zero",
     "output_type": "error",
     "traceback": [
      "\u001b[1;31m---------------------------------------------------------------------------\u001b[0m",
      "\u001b[1;31mZeroDivisionError\u001b[0m                         Traceback (most recent call last)",
      "Cell \u001b[1;32mIn[4], line 5\u001b[0m\n\u001b[0;32m      2\u001b[0m b\u001b[38;5;241m=\u001b[39m\u001b[38;5;241m0\u001b[39m  \u001b[38;5;66;03m#logical error\u001b[39;00m\n\u001b[0;32m      4\u001b[0m \u001b[38;5;28;01mif\u001b[39;00m a\u001b[38;5;241m>\u001b[39m\u001b[38;5;241m10\u001b[39m:\n\u001b[1;32m----> 5\u001b[0m     a\u001b[38;5;241m/\u001b[39mb\n",
      "\u001b[1;31mZeroDivisionError\u001b[0m: division by zero"
     ]
    }
   ],
   "source": [
    "a=20\n",
    "b=0  #logical error\n",
    "\n",
    "if a>10:\n",
    "    a/b"
   ]
  },
  {
   "cell_type": "markdown",
   "id": "1e9a3733",
   "metadata": {},
   "source": [
    "# Logical Error (Exception)\n"
   ]
  },
  {
   "cell_type": "markdown",
   "id": "f0586410",
   "metadata": {},
   "source": [
    "Error that occur at runtime(after passing the syntax test) are called exceptions or logical error\n",
    "\n",
    "Trying to open a file for reading that doesnt exist---- (File not found error)\n",
    "\n",
    "Try to divide a number by zero(Zero division error)\n",
    "\n",
    "Try to import a module that doenst not exist (Import error)"
   ]
  },
  {
   "cell_type": "code",
   "execution_count": 6,
   "id": "bc7bfe23",
   "metadata": {},
   "outputs": [
    {
     "ename": "ModuleNotFoundError",
     "evalue": "No module named 'panda'",
     "output_type": "error",
     "traceback": [
      "\u001b[1;31m---------------------------------------------------------------------------\u001b[0m",
      "\u001b[1;31mModuleNotFoundError\u001b[0m                       Traceback (most recent call last)",
      "Cell \u001b[1;32mIn[6], line 1\u001b[0m\n\u001b[1;32m----> 1\u001b[0m \u001b[38;5;28;01mimport\u001b[39;00m \u001b[38;5;21;01mpanda\u001b[39;00m\n",
      "\u001b[1;31mModuleNotFoundError\u001b[0m: No module named 'panda'"
     ]
    }
   ],
   "source": [
    "import panda\n",
    "\n",
    "#syntax error"
   ]
  },
  {
   "cell_type": "code",
   "execution_count": 8,
   "id": "531f02d6",
   "metadata": {},
   "outputs": [
    {
     "ename": "ModuleNotFoundError",
     "evalue": "No module named 'pytorch'",
     "output_type": "error",
     "traceback": [
      "\u001b[1;31m---------------------------------------------------------------------------\u001b[0m",
      "\u001b[1;31mModuleNotFoundError\u001b[0m                       Traceback (most recent call last)",
      "Cell \u001b[1;32mIn[8], line 1\u001b[0m\n\u001b[1;32m----> 1\u001b[0m \u001b[38;5;28;01mimport\u001b[39;00m \u001b[38;5;21;01mpytorch\u001b[39;00m\n",
      "\u001b[1;31mModuleNotFoundError\u001b[0m: No module named 'pytorch'"
     ]
    }
   ],
   "source": [
    "import pytorch\n",
    "\n",
    "#logical error  becoz i havent installed the lib or module"
   ]
  },
  {
   "cell_type": "markdown",
   "id": "90ec0f22",
   "metadata": {},
   "source": [
    "# Exceptions in Python"
   ]
  },
  {
   "cell_type": "markdown",
   "id": "6d68127a",
   "metadata": {},
   "source": [
    "python has many bulit-in exception that are raised when your encounter an error(somethings in the\n",
    "program goes wrong)\n",
    "\n",
    "when these exceptions occur,the python interpreter stop-s the cuurent process and passes it to the calling process until it is handled. if not handled, the program will crash."
   ]
  },
  {
   "cell_type": "code",
   "execution_count": 9,
   "id": "9556b196",
   "metadata": {},
   "outputs": [
    {
     "name": "stdout",
     "output_type": "stream",
     "text": [
      "***\n",
      "***\n",
      "***\n",
      "***\n"
     ]
    },
    {
     "ename": "ZeroDivisionError",
     "evalue": "division by zero",
     "output_type": "error",
     "traceback": [
      "\u001b[1;31m---------------------------------------------------------------------------\u001b[0m",
      "\u001b[1;31mZeroDivisionError\u001b[0m                         Traceback (most recent call last)",
      "Cell \u001b[1;32mIn[9], line 6\u001b[0m\n\u001b[0;32m      3\u001b[0m \u001b[38;5;28mprint\u001b[39m(\u001b[38;5;124m\"\u001b[39m\u001b[38;5;124m***\u001b[39m\u001b[38;5;124m\"\u001b[39m)\n\u001b[0;32m      4\u001b[0m \u001b[38;5;28mprint\u001b[39m(\u001b[38;5;124m\"\u001b[39m\u001b[38;5;124m***\u001b[39m\u001b[38;5;124m\"\u001b[39m)\n\u001b[1;32m----> 6\u001b[0m \u001b[38;5;241m1\u001b[39m\u001b[38;5;241m/\u001b[39m\u001b[38;5;241m0\u001b[39m\n",
      "\u001b[1;31mZeroDivisionError\u001b[0m: division by zero"
     ]
    }
   ],
   "source": [
    "print(\"***\")\n",
    "print(\"***\")\n",
    "print(\"***\")\n",
    "print(\"***\")\n",
    "\n",
    "1/0"
   ]
  },
  {
   "cell_type": "code",
   "execution_count": 10,
   "id": "422f87ce",
   "metadata": {},
   "outputs": [
    {
     "name": "stdout",
     "output_type": "stream",
     "text": [
      "**\n"
     ]
    },
    {
     "ename": "ZeroDivisionError",
     "evalue": "division by zero",
     "output_type": "error",
     "traceback": [
      "\u001b[1;31m---------------------------------------------------------------------------\u001b[0m",
      "\u001b[1;31mZeroDivisionError\u001b[0m                         Traceback (most recent call last)",
      "Cell \u001b[1;32mIn[10], line 2\u001b[0m\n\u001b[0;32m      1\u001b[0m \u001b[38;5;28mprint\u001b[39m(\u001b[38;5;124m\"\u001b[39m\u001b[38;5;124m**\u001b[39m\u001b[38;5;124m\"\u001b[39m)\n\u001b[1;32m----> 2\u001b[0m \u001b[38;5;241m1\u001b[39m\u001b[38;5;241m/\u001b[39m\u001b[38;5;241m0\u001b[39m\n\u001b[0;32m      3\u001b[0m \u001b[38;5;28mprint\u001b[39m(\u001b[38;5;124m\"\u001b[39m\u001b[38;5;124m**\u001b[39m\u001b[38;5;124m\"\u001b[39m)\n\u001b[0;32m      4\u001b[0m \u001b[38;5;28mprint\u001b[39m(\u001b[38;5;124m\"\u001b[39m\u001b[38;5;124m**\u001b[39m\u001b[38;5;124m\"\u001b[39m)\n",
      "\u001b[1;31mZeroDivisionError\u001b[0m: division by zero"
     ]
    }
   ],
   "source": [
    "print(\"**\")\n",
    "1/0\n",
    "print(\"**\")\n",
    "print(\"**\")\n",
    "print(\"**\")"
   ]
  },
  {
   "cell_type": "markdown",
   "id": "3368b091",
   "metadata": {},
   "source": [
    "# Catching Exception in Python"
   ]
  },
  {
   "cell_type": "markdown",
   "id": "b802c38c",
   "metadata": {},
   "source": [
    "IN python, exceptions can be handled using a try statment.\n",
    "\n",
    "The critical operation which can reise an exception is placed inside the try clause. The code that handle the exceptions is writtern in the exception cluse."
   ]
  },
  {
   "cell_type": "code",
   "execution_count": 11,
   "id": "935dde74",
   "metadata": {},
   "outputs": [
    {
     "ename": "SyntaxError",
     "evalue": "incomplete input (2087340124.py, line 7)",
     "output_type": "error",
     "traceback": [
      "\u001b[1;36m  Cell \u001b[1;32mIn[11], line 7\u001b[1;36m\u001b[0m\n\u001b[1;33m    except:\u001b[0m\n\u001b[1;37m           ^\u001b[0m\n\u001b[1;31mSyntaxError\u001b[0m\u001b[1;31m:\u001b[0m incomplete input\n"
     ]
    }
   ],
   "source": [
    "#sytnaxx\n",
    "\n",
    "try:\n",
    "    code\n",
    "    \n",
    "    \n",
    "except:"
   ]
  },
  {
   "cell_type": "code",
   "execution_count": 12,
   "id": "53deca5a",
   "metadata": {},
   "outputs": [
    {
     "name": "stdout",
     "output_type": "stream",
     "text": [
      "*1\n",
      "**2\n",
      "***3\n",
      "**\n",
      "**\n",
      "**\n",
      "**\n",
      "****4\n",
      "*****5\n",
      "******6\n"
     ]
    }
   ],
   "source": [
    "print(\"*1\")\n",
    "print(\"**2\")\n",
    "print(\"***3\")\n",
    "try:\n",
    "    print(\"**\")\n",
    "    a=1\n",
    "    b=2\n",
    "    a/b\n",
    "    print(\"**\")\n",
    "    print(\"**\")\n",
    "    print(\"**\")\n",
    "    \n",
    "except:\n",
    "    print(\"something is wrong happend,please try after sometime\")\n",
    "    \n",
    "print(\"****4\")\n",
    "print(\"*****5\")\n",
    "print(\"******6\")"
   ]
  },
  {
   "cell_type": "code",
   "execution_count": 13,
   "id": "e8de627e",
   "metadata": {},
   "outputs": [
    {
     "name": "stdout",
     "output_type": "stream",
     "text": [
      "*1\n",
      "**2\n",
      "***3\n",
      "**\n",
      "Raise zero division error\n",
      "****4\n",
      "*****5\n",
      "******6\n"
     ]
    }
   ],
   "source": [
    "print(\"*1\")\n",
    "print(\"**2\")\n",
    "print(\"***3\")\n",
    "try:\n",
    "    print(\"**\")\n",
    "    a=1\n",
    "    b=0\n",
    "    a/b\n",
    "    print(\"**\")\n",
    "    print(\"**\")\n",
    "    print(\"**\")\n",
    "    \n",
    "except:\n",
    "    print(\"Raise zero division error\")\n",
    "    \n",
    "print(\"****4\")\n",
    "print(\"*****5\")\n",
    "print(\"******6\")"
   ]
  },
  {
   "cell_type": "code",
   "execution_count": 34,
   "id": "2f622f96",
   "metadata": {},
   "outputs": [
    {
     "name": "stdout",
     "output_type": "stream",
     "text": [
      "['ArithmeticError', 'AssertionError', 'AttributeError', 'BaseException', 'BaseExceptionGroup', 'BlockingIOError', 'BrokenPipeError', 'BufferError', 'BytesWarning', 'ChildProcessError', 'ConnectionAbortedError', 'ConnectionError', 'ConnectionRefusedError', 'ConnectionResetError', 'DeprecationWarning', 'EOFError', 'Ellipsis', 'EncodingWarning', 'EnvironmentError', 'Exception', 'ExceptionGroup', 'False', 'FileExistsError', 'FileNotFoundError', 'FloatingPointError', 'FutureWarning', 'GeneratorExit', 'IOError', 'ImportError', 'ImportWarning', 'IndentationError', 'IndexError', 'InterruptedError', 'IsADirectoryError', 'KeyError', 'KeyboardInterrupt', 'LookupError', 'MemoryError', 'ModuleNotFoundError', 'NameError', 'None', 'NotADirectoryError', 'NotImplemented', 'NotImplementedError', 'OSError', 'OverflowError', 'PendingDeprecationWarning', 'PermissionError', 'ProcessLookupError', 'RecursionError', 'ReferenceError', 'ResourceWarning', 'RuntimeError', 'RuntimeWarning', 'StopAsyncIteration', 'StopIteration', 'SyntaxError', 'SyntaxWarning', 'SystemError', 'SystemExit', 'TabError', 'TimeoutError', 'True', 'TypeError', 'UnboundLocalError', 'UnicodeDecodeError', 'UnicodeEncodeError', 'UnicodeError', 'UnicodeTranslateError', 'UnicodeWarning', 'UserWarning', 'ValueError', 'Warning', 'WindowsError', 'ZeroDivisionError', '__IPYTHON__', '__build_class__', '__debug__', '__doc__', '__import__', '__loader__', '__name__', '__package__', '__spec__', 'abs', 'aiter', 'all', 'anext', 'any', 'ascii', 'bin', 'bool', 'breakpoint', 'bytearray', 'bytes', 'callable', 'chr', 'classmethod', 'compile', 'complex', 'copyright', 'credits', 'delattr', 'dict', 'dir', 'display', 'divmod', 'enumerate', 'eval', 'exec', 'execfile', 'filter', 'float', 'format', 'frozenset', 'get_ipython', 'getattr', 'globals', 'hasattr', 'hash', 'help', 'hex', 'id', 'input', 'int', 'isinstance', 'issubclass', 'iter', 'len', 'license', 'list', 'locals', 'map', 'max', 'memoryview', 'min', 'next', 'object', 'oct', 'open', 'ord', 'pow', 'print', 'property', 'range', 'repr', 'reversed', 'round', 'runfile', 'set', 'setattr', 'slice', 'sorted', 'staticmethod', 'str', 'sum', 'super', 'tuple', 'type', 'vars', 'zip']\n"
     ]
    }
   ],
   "source": [
    "print(list(dir(locals()[\"__builtins__\"])))"
   ]
  },
  {
   "cell_type": "markdown",
   "id": "c7300cab",
   "metadata": {},
   "source": [
    "a=\"as\"\n",
    "b=1\n",
    "\n",
    "a+b"
   ]
  },
  {
   "cell_type": "code",
   "execution_count": 16,
   "id": "8d3dcda6",
   "metadata": {},
   "outputs": [
    {
     "name": "stdout",
     "output_type": "stream",
     "text": [
      "we cant add string and integers together\n"
     ]
    }
   ],
   "source": [
    "try:\n",
    "    a=\"as\"\n",
    "    b=123\n",
    "    print(a+b)\n",
    "except:\n",
    "    print(\"we cant add string and integers together\")"
   ]
  },
  {
   "cell_type": "code",
   "execution_count": 17,
   "id": "96a74622",
   "metadata": {},
   "outputs": [
    {
     "ename": "ZeroDivisionError",
     "evalue": "division by zero",
     "output_type": "error",
     "traceback": [
      "\u001b[1;31m---------------------------------------------------------------------------\u001b[0m",
      "\u001b[1;31mZeroDivisionError\u001b[0m                         Traceback (most recent call last)",
      "Cell \u001b[1;32mIn[17], line 3\u001b[0m\n\u001b[0;32m      1\u001b[0m a\u001b[38;5;241m=\u001b[39m\u001b[38;5;241m12\u001b[39m\n\u001b[0;32m      2\u001b[0m b\u001b[38;5;241m=\u001b[39m\u001b[38;5;241m0\u001b[39m\n\u001b[1;32m----> 3\u001b[0m a\u001b[38;5;241m/\u001b[39mb\n",
      "\u001b[1;31mZeroDivisionError\u001b[0m: division by zero"
     ]
    }
   ],
   "source": [
    "a=12\n",
    "b=0\n",
    "a/b"
   ]
  },
  {
   "cell_type": "code",
   "execution_count": 24,
   "id": "ceac32d9",
   "metadata": {},
   "outputs": [
    {
     "name": "stdout",
     "output_type": "stream",
     "text": [
      "Enter the no:-12\n",
      "Enter the no:-9\n",
      "the error is name 'c' is not defined and error name is <class 'NameError'>\n"
     ]
    }
   ],
   "source": [
    "try:\n",
    "    a=eval(input(\"Enter the no:-\"))\n",
    "    b=eval(input(\"Enter the no:-\"))\n",
    "    a/b\n",
    "    \n",
    "    print(c)\n",
    "except Exception as ex:\n",
    "    print(\"the error is\",ex,\"and error name is\",type(ex))"
   ]
  },
  {
   "cell_type": "code",
   "execution_count": 25,
   "id": "b71e8297",
   "metadata": {},
   "outputs": [
    {
     "ename": "ModuleNotFoundError",
     "evalue": "No module named 'pytroch'",
     "output_type": "error",
     "traceback": [
      "\u001b[1;31m---------------------------------------------------------------------------\u001b[0m",
      "\u001b[1;31mModuleNotFoundError\u001b[0m                       Traceback (most recent call last)",
      "Cell \u001b[1;32mIn[25], line 1\u001b[0m\n\u001b[1;32m----> 1\u001b[0m \u001b[38;5;28;01mimport\u001b[39;00m \u001b[38;5;21;01mpytroch\u001b[39;00m\n",
      "\u001b[1;31mModuleNotFoundError\u001b[0m: No module named 'pytroch'"
     ]
    }
   ],
   "source": [
    "import pytroch"
   ]
  },
  {
   "cell_type": "code",
   "execution_count": 29,
   "id": "9e269548",
   "metadata": {},
   "outputs": [
    {
     "name": "stdout",
     "output_type": "stream",
     "text": [
      "The error is No module named 'pytroch' And the error name is <class 'ModuleNotFoundError'>\n"
     ]
    }
   ],
   "source": [
    "try:\n",
    "    import pytroch\n",
    "    \n",
    "    \n",
    "    \n",
    "    \n",
    "except Exception as ex:\n",
    "    print(\"The error is\",ex,\"And the error name is\",type(ex))"
   ]
  },
  {
   "cell_type": "code",
   "execution_count": 30,
   "id": "9e7eb943",
   "metadata": {},
   "outputs": [
    {
     "ename": "ValueError",
     "evalue": "invalid literal for int() with base 10: 'a'",
     "output_type": "error",
     "traceback": [
      "\u001b[1;31m---------------------------------------------------------------------------\u001b[0m",
      "\u001b[1;31mValueError\u001b[0m                                Traceback (most recent call last)",
      "Cell \u001b[1;32mIn[30], line 1\u001b[0m\n\u001b[1;32m----> 1\u001b[0m \u001b[38;5;28mint\u001b[39m(\u001b[38;5;124m\"\u001b[39m\u001b[38;5;124ma\u001b[39m\u001b[38;5;124m\"\u001b[39m)\n",
      "\u001b[1;31mValueError\u001b[0m: invalid literal for int() with base 10: 'a'"
     ]
    }
   ],
   "source": [
    "int(\"a\")"
   ]
  },
  {
   "cell_type": "code",
   "execution_count": 35,
   "id": "7f5c9a22",
   "metadata": {},
   "outputs": [
    {
     "data": {
      "text/plain": [
       "1"
      ]
     },
     "execution_count": 35,
     "metadata": {},
     "output_type": "execute_result"
    }
   ],
   "source": [
    "int(\"1\")"
   ]
  },
  {
   "cell_type": "code",
   "execution_count": 36,
   "id": "5667904b",
   "metadata": {},
   "outputs": [
    {
     "name": "stdout",
     "output_type": "stream",
     "text": [
      "Enter the num8\n",
      "Enter the deno0\n",
      "The program crashed becoz of this error: <class 'Exception'>\n",
      "Enter a Non-zero deno valuse to proceed\n",
      "Enter the num2\n",
      "Enter the deno0\n",
      "The program crashed becoz of this error: <class 'Exception'>\n",
      "Enter a Non-zero deno valuse to proceed\n",
      "Enter the num465\n",
      "Enter the deno8\n",
      "58.125\n"
     ]
    }
   ],
   "source": [
    "def division_check():\n",
    "    try:\n",
    "        a=int(input(\"Enter the num\"))\n",
    "        b=int(input(\"Enter the deno\"))\n",
    "        c=a/b\n",
    "        print(c)\n",
    "        \n",
    "    except:\n",
    "        print(\"The program crashed becoz of this error:\",Exception)\n",
    "        print(\"Enter a Non-zero deno valuse to proceed\")\n",
    "        division_check()   #recurssion\n",
    "        \n",
    "division_check()"
   ]
  },
  {
   "cell_type": "code",
   "execution_count": 37,
   "id": "2b43c3b0",
   "metadata": {},
   "outputs": [],
   "source": [
    "if a:\n",
    "    pass"
   ]
  },
  {
   "cell_type": "code",
   "execution_count": 43,
   "id": "283ff6d4",
   "metadata": {},
   "outputs": [
    {
     "name": "stdout",
     "output_type": "stream",
     "text": [
      "enter the no:322\n",
      "enter the no:f\n",
      "the error is name 'f' is not defined and error name is <class 'NameError'>\n"
     ]
    }
   ],
   "source": [
    "try:\n",
    "    a=eval(input(\"enter the no:\"))\n",
    "    b=eval(input(\"enter the no:\"))\n",
    "    \n",
    "    c=a/b\n",
    "    print(c)\n",
    "#zerodiivision error\n",
    "\n",
    "except ZeroDivisionError as ZDE:\n",
    "    print(\"the program is crashed becoz of this error\",ZDE,\"please enter non-zero value in b\")\n",
    "except TypeError as E1:   #string values enter\n",
    "    print(\"the program is crashes becoz of this error\",E1,\"please enter int values in a and b\")\n",
    "except SyntaxError as S1:\n",
    "    print(\"the program is crashes becoz of this error\",S1,\"please check the syntax\")\n",
    "except Exception as ex:\n",
    "    print(\"the error is\",ex,\"and error name is\",type(ex))\n"
   ]
  },
  {
   "cell_type": "code",
   "execution_count": 44,
   "id": "9ec143f0",
   "metadata": {},
   "outputs": [
    {
     "ename": "SyntaxError",
     "evalue": "unterminated string literal (detected at line 1) (2427385467.py, line 1)",
     "output_type": "error",
     "traceback": [
      "\u001b[1;36m  Cell \u001b[1;32mIn[44], line 1\u001b[1;36m\u001b[0m\n\u001b[1;33m    a=\"1\u001b[0m\n\u001b[1;37m      ^\u001b[0m\n\u001b[1;31mSyntaxError\u001b[0m\u001b[1;31m:\u001b[0m unterminated string literal (detected at line 1)\n"
     ]
    }
   ],
   "source": [
    "a=\"1\n",
    "b=0"
   ]
  },
  {
   "cell_type": "code",
   "execution_count": 47,
   "id": "7cbeea6b",
   "metadata": {},
   "outputs": [
    {
     "name": "stdout",
     "output_type": "stream",
     "text": [
      "division by zero\n"
     ]
    }
   ],
   "source": [
    "try:\n",
    "    1/0\n",
    "except Exception as ex1:\n",
    "    print(ex1)"
   ]
  },
  {
   "cell_type": "code",
   "execution_count": 49,
   "id": "af7d36ab",
   "metadata": {},
   "outputs": [
    {
     "ename": "TypeError",
     "evalue": "unsupported operand type(s) for /: 'int' and 'str'",
     "output_type": "error",
     "traceback": [
      "\u001b[1;31m---------------------------------------------------------------------------\u001b[0m",
      "\u001b[1;31mTypeError\u001b[0m                                 Traceback (most recent call last)",
      "Cell \u001b[1;32mIn[49], line 1\u001b[0m\n\u001b[1;32m----> 1\u001b[0m \u001b[38;5;241m1\u001b[39m\u001b[38;5;241m/\u001b[39m\u001b[38;5;124m\"\u001b[39m\u001b[38;5;124ma\u001b[39m\u001b[38;5;124m\"\u001b[39m\n",
      "\u001b[1;31mTypeError\u001b[0m: unsupported operand type(s) for /: 'int' and 'str'"
     ]
    }
   ],
   "source": [
    "1/\"a\"   #type error"
   ]
  },
  {
   "cell_type": "markdown",
   "id": "58354675",
   "metadata": {},
   "source": [
    "# Python Try with else clause"
   ]
  },
  {
   "cell_type": "markdown",
   "id": "e5a05100",
   "metadata": {},
   "source": [
    "In some situation, you might want to run a certain block of code block inside try run without any errrors. For these cases. You can use the optinal else keyword with the try statment."
   ]
  },
  {
   "cell_type": "code",
   "execution_count": 50,
   "id": "8a8a0782",
   "metadata": {},
   "outputs": [
    {
     "name": "stdout",
     "output_type": "stream",
     "text": [
      "1\n",
      "3\n",
      "0.3333333333333333\n",
      "3\n",
      "4\n",
      "this is last time\n"
     ]
    }
   ],
   "source": [
    "try:\n",
    "    a=1\n",
    "    b=3\n",
    "    c=a/b\n",
    "    d=a*b\n",
    "    e=a+b\n",
    "    \n",
    "except Exception as ex1:\n",
    "    print(ex1)\n",
    "    \n",
    "else:\n",
    "    print(a)\n",
    "    print(b)\n",
    "    print(c)\n",
    "    print(d)\n",
    "    print(e)\n",
    "    \n",
    "print(\"this is last time\")\n",
    "    "
   ]
  },
  {
   "cell_type": "code",
   "execution_count": 51,
   "id": "98c70524",
   "metadata": {},
   "outputs": [
    {
     "name": "stdout",
     "output_type": "stream",
     "text": [
      "division by zero\n"
     ]
    }
   ],
   "source": [
    "try:     #when my try runs then only else run\n",
    "    a=1\n",
    "    b=0\n",
    "    c=a/b\n",
    "    d=a*b\n",
    "    e=a+b\n",
    "except Exception as ex:\n",
    "    print(ex)\n",
    "    \n",
    "else:\n",
    "    print(a)\n",
    "    print(b)\n",
    "    print(c)"
   ]
  },
  {
   "cell_type": "markdown",
   "id": "fa788ca0",
   "metadata": {},
   "source": [
    "# Python try....finally"
   ]
  },
  {
   "cell_type": "markdown",
   "id": "69281235",
   "metadata": {},
   "source": [
    "The try statment in python can have an optional finally clause. This clause is Executed no matter what, and is generally used to relese external resources."
   ]
  },
  {
   "cell_type": "markdown",
   "id": "261fca0e",
   "metadata": {},
   "source": [
    "For exmaple, we may be connected to a remote data center through the networrk or working with a file or a Graphical user interface(GUI)"
   ]
  },
  {
   "cell_type": "markdown",
   "id": "9c852131",
   "metadata": {},
   "source": [
    "In all these circumstance,we must clean up the resources before the program comes to a half whatever it succesfully run or not.These actions(closings a file,GUI or disconnecting from netwoks) are perfomed in the finally clause to gurantee the execute"
   ]
  },
  {
   "cell_type": "code",
   "execution_count": 3,
   "id": "fa16ae14",
   "metadata": {},
   "outputs": [],
   "source": [
    "try :\n",
    "    f=open(r\"C:\\Users\\admin\\Desktop\\sejal.txt\",mode=\"r\")\n",
    "    f.read()\n",
    "    #operations\n",
    "    \n",
    "finally:\n",
    "    f.close()"
   ]
  },
  {
   "cell_type": "code",
   "execution_count": 4,
   "id": "f4d10858",
   "metadata": {},
   "outputs": [
    {
     "ename": "FileNotFoundError",
     "evalue": "[Errno 2] No such file or directory: 'my.txt'",
     "output_type": "error",
     "traceback": [
      "\u001b[1;31m---------------------------------------------------------------------------\u001b[0m",
      "\u001b[1;31mFileNotFoundError\u001b[0m                         Traceback (most recent call last)",
      "Cell \u001b[1;32mIn[4], line 1\u001b[0m\n\u001b[1;32m----> 1\u001b[0m f\u001b[38;5;241m=\u001b[39m\u001b[38;5;28mopen\u001b[39m(\u001b[38;5;124m\"\u001b[39m\u001b[38;5;124mmy.txt\u001b[39m\u001b[38;5;124m\"\u001b[39m,mode\u001b[38;5;241m=\u001b[39m\u001b[38;5;124m\"\u001b[39m\u001b[38;5;124mr\u001b[39m\u001b[38;5;124m\"\u001b[39m)\n\u001b[0;32m      2\u001b[0m f\u001b[38;5;241m.\u001b[39mread()\n\u001b[0;32m      3\u001b[0m f\u001b[38;5;241m.\u001b[39mclose()\n",
      "File \u001b[1;32m~\\anaconda3\\Lib\\site-packages\\IPython\\core\\interactiveshell.py:284\u001b[0m, in \u001b[0;36m_modified_open\u001b[1;34m(file, *args, **kwargs)\u001b[0m\n\u001b[0;32m    277\u001b[0m \u001b[38;5;28;01mif\u001b[39;00m file \u001b[38;5;129;01min\u001b[39;00m {\u001b[38;5;241m0\u001b[39m, \u001b[38;5;241m1\u001b[39m, \u001b[38;5;241m2\u001b[39m}:\n\u001b[0;32m    278\u001b[0m     \u001b[38;5;28;01mraise\u001b[39;00m \u001b[38;5;167;01mValueError\u001b[39;00m(\n\u001b[0;32m    279\u001b[0m         \u001b[38;5;124mf\u001b[39m\u001b[38;5;124m\"\u001b[39m\u001b[38;5;124mIPython won\u001b[39m\u001b[38;5;124m'\u001b[39m\u001b[38;5;124mt let you open fd=\u001b[39m\u001b[38;5;132;01m{\u001b[39;00mfile\u001b[38;5;132;01m}\u001b[39;00m\u001b[38;5;124m by default \u001b[39m\u001b[38;5;124m\"\u001b[39m\n\u001b[0;32m    280\u001b[0m         \u001b[38;5;124m\"\u001b[39m\u001b[38;5;124mas it is likely to crash IPython. If you know what you are doing, \u001b[39m\u001b[38;5;124m\"\u001b[39m\n\u001b[0;32m    281\u001b[0m         \u001b[38;5;124m\"\u001b[39m\u001b[38;5;124myou can use builtins\u001b[39m\u001b[38;5;124m'\u001b[39m\u001b[38;5;124m open.\u001b[39m\u001b[38;5;124m\"\u001b[39m\n\u001b[0;32m    282\u001b[0m     )\n\u001b[1;32m--> 284\u001b[0m \u001b[38;5;28;01mreturn\u001b[39;00m io_open(file, \u001b[38;5;241m*\u001b[39margs, \u001b[38;5;241m*\u001b[39m\u001b[38;5;241m*\u001b[39mkwargs)\n",
      "\u001b[1;31mFileNotFoundError\u001b[0m: [Errno 2] No such file or directory: 'my.txt'"
     ]
    }
   ],
   "source": [
    "f=open(\"my.txt\",mode=\"r\")\n",
    "f.read()\n",
    "f.close()"
   ]
  },
  {
   "cell_type": "code",
   "execution_count": 6,
   "id": "ef830c29",
   "metadata": {},
   "outputs": [
    {
     "name": "stdout",
     "output_type": "stream",
     "text": [
      "division by zero\n",
      "The code is complete.\n"
     ]
    }
   ],
   "source": [
    "try:\n",
    "    a=1\n",
    "    b=0\n",
    "    c=a+b\n",
    "    d=a*b\n",
    "    e=a/b\n",
    "    \n",
    "except Exception as ex:\n",
    "    print(ex)\n",
    "    \n",
    "else:\n",
    "    print(a)\n",
    "    print(b)\n",
    "    print(c)\n",
    "    print(d)\n",
    "    print(e)\n",
    "    \n",
    "finally:\n",
    "    print(\"The code is complete.\")"
   ]
  },
  {
   "cell_type": "code",
   "execution_count": 7,
   "id": "359c876b",
   "metadata": {},
   "outputs": [
    {
     "name": "stdout",
     "output_type": "stream",
     "text": [
      "1\n",
      "2\n",
      "3\n",
      "2\n",
      "0.5\n",
      "The code is complete.\n"
     ]
    }
   ],
   "source": [
    "try:\n",
    "    a=1\n",
    "    b=2\n",
    "    c=a+b\n",
    "    d=a*b\n",
    "    e=a/b\n",
    "    \n",
    "except Exception as ex:\n",
    "    print(ex)\n",
    "    \n",
    "else:\n",
    "    print(a)\n",
    "    print(b)\n",
    "    print(c)\n",
    "    print(d)\n",
    "    print(e)\n",
    "    \n",
    "finally:\n",
    "    print(\"The code is complete.\")"
   ]
  },
  {
   "cell_type": "markdown",
   "id": "dd45065f",
   "metadata": {},
   "source": [
    "# Python Custome Exception"
   ]
  },
  {
   "cell_type": "markdown",
   "id": "e36d2979",
   "metadata": {},
   "source": [
    "Python has numerous builts-in exception that force your program to output an error when somethings in the program goes wrong. "
   ]
  },
  {
   "cell_type": "markdown",
   "id": "96eb5f81",
   "metadata": {},
   "source": [
    "However, sometimes you many need to create your own custom exceptions that serve your purpose."
   ]
  },
  {
   "cell_type": "markdown",
   "id": "6ec19659",
   "metadata": {},
   "source": [
    "# Creating custom Exceptions"
   ]
  },
  {
   "cell_type": "markdown",
   "id": "e9a5e721",
   "metadata": {},
   "source": [
    "In Python, users can defines custome exceptions by creating a new class. This exception class has to be derived,either directly or indirectly,fromthe built-in Exception class. Most of the built-in exception are also derived from this class."
   ]
  },
  {
   "cell_type": "markdown",
   "id": "a58cd269",
   "metadata": {},
   "source": [
    "# Syntax"
   ]
  },
  {
   "cell_type": "code",
   "execution_count": 14,
   "id": "5f6954ef",
   "metadata": {},
   "outputs": [
    {
     "name": "stdout",
     "output_type": "stream",
     "text": [
      "This is my custome exception error.\n"
     ]
    }
   ],
   "source": [
    "class CustomeException(Exception):\n",
    "    \"\"\"my custome exception class\"\"\"\n",
    "    \n",
    "try:\n",
    "    raise CustomeException(\"This is my custome exception error.\")\n",
    "    \n",
    "except CustomeException as ex:\n",
    "    print(ex)"
   ]
  },
  {
   "cell_type": "code",
   "execution_count": 20,
   "id": "c8d32909",
   "metadata": {},
   "outputs": [],
   "source": [
    "class Error_for_Negative(Exception):\n",
    "    pass"
   ]
  },
  {
   "cell_type": "code",
   "execution_count": 19,
   "id": "3f88e61d",
   "metadata": {},
   "outputs": [
    {
     "name": "stdout",
     "output_type": "stream",
     "text": [
      "enter a positive no:5034\n",
      "5034\n"
     ]
    }
   ],
   "source": [
    "a=int(input(\"enter a positive no:\"))\n",
    "\n",
    "if a<0:\n",
    "    raise Error_for_Negative(\"You have Enter negative number..plz enter positive number.\")\n",
    "else:\n",
    "    print(a)"
   ]
  },
  {
   "cell_type": "code",
   "execution_count": 21,
   "id": "29f97d00",
   "metadata": {},
   "outputs": [
    {
     "name": "stdout",
     "output_type": "stream",
     "text": [
      "enter a positive no:-34\n"
     ]
    },
    {
     "ename": "Error_for_Negative",
     "evalue": "You have Enter negative number..plz enter positive number.",
     "output_type": "error",
     "traceback": [
      "\u001b[1;31m---------------------------------------------------------------------------\u001b[0m",
      "\u001b[1;31mError_for_Negative\u001b[0m                        Traceback (most recent call last)",
      "Cell \u001b[1;32mIn[21], line 4\u001b[0m\n\u001b[0;32m      1\u001b[0m a\u001b[38;5;241m=\u001b[39m\u001b[38;5;28mint\u001b[39m(\u001b[38;5;28minput\u001b[39m(\u001b[38;5;124m\"\u001b[39m\u001b[38;5;124menter a positive no:\u001b[39m\u001b[38;5;124m\"\u001b[39m))\n\u001b[0;32m      3\u001b[0m \u001b[38;5;28;01mif\u001b[39;00m a\u001b[38;5;241m<\u001b[39m\u001b[38;5;241m0\u001b[39m:\n\u001b[1;32m----> 4\u001b[0m     \u001b[38;5;28;01mraise\u001b[39;00m Error_for_Negative(\u001b[38;5;124m\"\u001b[39m\u001b[38;5;124mYou have Enter negative number..plz enter positive number.\u001b[39m\u001b[38;5;124m\"\u001b[39m)\n\u001b[0;32m      5\u001b[0m \u001b[38;5;28;01melse\u001b[39;00m:\n\u001b[0;32m      6\u001b[0m     \u001b[38;5;28mprint\u001b[39m(a)\n",
      "\u001b[1;31mError_for_Negative\u001b[0m: You have Enter negative number..plz enter positive number."
     ]
    }
   ],
   "source": [
    "a=int(input(\"enter a positive no:\"))\n",
    "\n",
    "if a<0:\n",
    "    raise Error_for_Negative(\"You have Enter negative number..plz enter positive number.\")\n",
    "else:\n",
    "    print(a)"
   ]
  },
  {
   "cell_type": "code",
   "execution_count": 24,
   "id": "ba3918c3",
   "metadata": {},
   "outputs": [
    {
     "name": "stdout",
     "output_type": "stream",
     "text": [
      "Enter a positive number84\n",
      "84 is positive number\n"
     ]
    }
   ],
   "source": [
    "class ERROR_FOR_NEGATIVE(Exception):\n",
    "    pass\n",
    "try:\n",
    "    num=int(input(\"Enter a positive number\"))\n",
    "    if num<0:\n",
    "        raise ERROR_FOR_NEGATIVE\n",
    "    else:\n",
    "        print(num,\"is positive number\")\n",
    "        \n",
    "except ERROR_FOR_NEGATIVE:\n",
    "    pass"
   ]
  },
  {
   "cell_type": "code",
   "execution_count": 25,
   "id": "0aa09a46",
   "metadata": {},
   "outputs": [
    {
     "name": "stdout",
     "output_type": "stream",
     "text": [
      "Enter a positive number-5\n"
     ]
    }
   ],
   "source": [
    "class ERROR_FOR_NEGATIVE(Exception):\n",
    "    pass\n",
    "try:\n",
    "    num=int(input(\"Enter a positive number\"))\n",
    "    if num<0:\n",
    "        raise ERROR_FOR_NEGATIVE\n",
    "    else:\n",
    "        print(num,\"is positive number\")\n",
    "        \n",
    "except ERROR_FOR_NEGATIVE:\n",
    "    pass\n",
    "#print((\"not a positive no,enter positive number\"))"
   ]
  },
  {
   "cell_type": "code",
   "execution_count": 27,
   "id": "c586f68d",
   "metadata": {},
   "outputs": [
    {
     "name": "stdout",
     "output_type": "stream",
     "text": [
      "Enter number 1:-1\n",
      "Enter number 2:-0\n"
     ]
    },
    {
     "ename": "ZeroDivisionError",
     "evalue": "You are trying to divide by zero",
     "output_type": "error",
     "traceback": [
      "\u001b[1;31m---------------------------------------------------------------------------\u001b[0m",
      "\u001b[1;31mZeroDivisionError\u001b[0m                         Traceback (most recent call last)",
      "Cell \u001b[1;32mIn[27], line 4\u001b[0m\n\u001b[0;32m      2\u001b[0m b\u001b[38;5;241m=\u001b[39m\u001b[38;5;28mint\u001b[39m(\u001b[38;5;28minput\u001b[39m(\u001b[38;5;124m\"\u001b[39m\u001b[38;5;124mEnter number 2:-\u001b[39m\u001b[38;5;124m\"\u001b[39m))\n\u001b[0;32m      3\u001b[0m \u001b[38;5;28;01mif\u001b[39;00m b\u001b[38;5;241m==\u001b[39m\u001b[38;5;241m0\u001b[39m:\n\u001b[1;32m----> 4\u001b[0m     \u001b[38;5;28;01mraise\u001b[39;00m \u001b[38;5;167;01mZeroDivisionError\u001b[39;00m(\u001b[38;5;124m\"\u001b[39m\u001b[38;5;124mYou are trying to divide by zero\u001b[39m\u001b[38;5;124m\"\u001b[39m)\n\u001b[0;32m      5\u001b[0m \u001b[38;5;28;01melse\u001b[39;00m:\n\u001b[0;32m      6\u001b[0m     \u001b[38;5;28mprint\u001b[39m(a\u001b[38;5;241m/\u001b[39mb)\n",
      "\u001b[1;31mZeroDivisionError\u001b[0m: You are trying to divide by zero"
     ]
    }
   ],
   "source": [
    "a=int(input(\"Enter number 1:-\"))\n",
    "b=int(input(\"Enter number 2:-\"))\n",
    "if b==0:\n",
    "    raise ZeroDivisionError(\"You are trying to divide by zero\")\n",
    "else:\n",
    "    print(a/b)"
   ]
  },
  {
   "cell_type": "code",
   "execution_count": 2,
   "id": "29a58b95",
   "metadata": {},
   "outputs": [
    {
     "name": "stdout",
     "output_type": "stream",
     "text": [
      "Enter number 1:-23\n",
      "Enter number 2:-0\n",
      "You are trying to divide by zero\n"
     ]
    }
   ],
   "source": [
    "class zero_division(Exception):\n",
    "    pass\n",
    "try:\n",
    "    a=int(input(\"Enter number 1:-\"))\n",
    "    b=int(input(\"Enter number 2:-\"))\n",
    "    \n",
    "    \n",
    "    if b==0:\n",
    "        raise zero_division\n",
    "    else:\n",
    "        c=a/b\n",
    "        print(c)\n",
    "        \n",
    "except zero_division:\n",
    "    print(\"You are trying to divide by zero\")\n",
    "    "
   ]
  },
  {
   "cell_type": "markdown",
   "id": "ed994aab",
   "metadata": {},
   "source": [
    "write a program for ATM balance check and withdraw check and withdraw amount using try and except"
   ]
  },
  {
   "cell_type": "code",
   "execution_count": 6,
   "id": "a748da6f",
   "metadata": {},
   "outputs": [
    {
     "name": "stdout",
     "output_type": "stream",
     "text": [
      "ENTER THE MONEY YOU WANT TO WITHDRAW: 5455\n",
      "Your Remainaing Balance Is: 4545 And you have withdrawn amount successfully\n",
      "HAVE A GOOD DAY..\n"
     ]
    }
   ],
   "source": [
    "class BalanceException(Exception):\n",
    "    pass\n",
    "def Checkbalance():\n",
    "    money=10000\n",
    "    money_to_WITHDRAW=int(input(\"ENTER THE MONEY YOU WANT TO WITHDRAW: \"))\n",
    "    Remainaing_Balance=money-money_to_WITHDRAW\n",
    "    if Remainaing_Balance<2000:\n",
    "        raise BalanceException\n",
    "    else:\n",
    "        return Remainaing_Balance\n",
    "    \n",
    "try:\n",
    "    Remainaing_Balance=Checkbalance()\n",
    "    \n",
    "except BalanceException as BE:\n",
    "    print(\"Insufficent remainaing balance ,you cannot withdraw\")\n",
    "    \n",
    "else:\n",
    "    print(\"Your Remainaing Balance Is:\",Remainaing_Balance,\"And you have withdrawn amount successfully\")\n",
    "    \n",
    "finally:\n",
    "    print(\"HAVE A GOOD DAY..\")\n",
    "    \n",
    "    "
   ]
  },
  {
   "cell_type": "code",
   "execution_count": 11,
   "id": "c3fa5a31",
   "metadata": {},
   "outputs": [
    {
     "name": "stdout",
     "output_type": "stream",
     "text": [
      "ENTER THE MONEY YOU WANT TO WITHDRAW: 6545\n",
      "Your Remainaing Balance Is: 3455 And you have withdrawn amount successfully\n",
      "HAVE A GOOD DAY..\n"
     ]
    }
   ],
   "source": [
    "class BalanceException(Exception):\n",
    "    pass\n",
    "try:\n",
    "    def Checkbalance():\n",
    "        money=10000\n",
    "        money_to_WITHDRAW=int(input(\"ENTER THE MONEY YOU WANT TO WITHDRAW: \"))\n",
    "        Remainaing_Balance=money-money_to_WITHDRAW\n",
    "        if Remainaing_Balance<2000:\n",
    "            raise BalanceException\n",
    "        else:\n",
    "            return Remainaing_Balance\n",
    "    Remainaing_Balance=Checkbalance()\n",
    "        \n",
    "except BalanceException as BE:\n",
    "    print(\"Insufficent remainaing balance ,you cannot withdraw\")\n",
    "    \n",
    "else:\n",
    "    print(\"Your Remainaing Balance Is:\",Remainaing_Balance,\"And you have withdrawn amount successfully\")\n",
    "    \n",
    "finally:\n",
    "    print(\"HAVE A GOOD DAY..\")\n",
    "    \n"
   ]
  },
  {
   "cell_type": "code",
   "execution_count": 17,
   "id": "8c695865",
   "metadata": {},
   "outputs": [
    {
     "name": "stdout",
     "output_type": "stream",
     "text": [
      "Enter a age: 18\n",
      "Eligible To Vote..\n"
     ]
    }
   ],
   "source": [
    "#define python user-defined exceptions\n",
    "class InvalidAgeException(Exception):        #raised when the input valuse is less than 18\n",
    "    pass\n",
    "\n",
    "try:\n",
    "    age=int(input(\"Enter a age: \"))\n",
    "    if age<18:\n",
    "        raise InvalidAgeException\n",
    "    else:\n",
    "        print(\"Eligible To Vote..\")\n",
    "        \n",
    "except InvalidAgeException:\n",
    "    print(\"Exception occurred:Invaild age\")"
   ]
  },
  {
   "cell_type": "code",
   "execution_count": null,
   "id": "621a1dba",
   "metadata": {},
   "outputs": [],
   "source": []
  }
 ],
 "metadata": {
  "kernelspec": {
   "display_name": "Python 3 (ipykernel)",
   "language": "python",
   "name": "python3"
  },
  "language_info": {
   "codemirror_mode": {
    "name": "ipython",
    "version": 3
   },
   "file_extension": ".py",
   "mimetype": "text/x-python",
   "name": "python",
   "nbconvert_exporter": "python",
   "pygments_lexer": "ipython3",
   "version": "3.11.3"
  }
 },
 "nbformat": 4,
 "nbformat_minor": 5
}
