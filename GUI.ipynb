{
 "cells": [
  {
   "cell_type": "code",
   "execution_count": 1,
   "id": "430b668d",
   "metadata": {},
   "outputs": [],
   "source": [
    "#pip install tkinter"
   ]
  },
  {
   "cell_type": "code",
   "execution_count": 2,
   "id": "36973f41",
   "metadata": {},
   "outputs": [],
   "source": [
    "import tkinter"
   ]
  },
  {
   "cell_type": "markdown",
   "id": "1ee6358d",
   "metadata": {},
   "source": [
    "# Importing tkinter module"
   ]
  },
  {
   "cell_type": "code",
   "execution_count": 3,
   "id": "3e411f72",
   "metadata": {},
   "outputs": [],
   "source": [
    "from tkinter import * # import everythink in tkinter"
   ]
  },
  {
   "cell_type": "markdown",
   "id": "b0b3e9b6",
   "metadata": {},
   "source": [
    "## creating a window object tk()"
   ]
  },
  {
   "cell_type": "code",
   "execution_count": 6,
   "id": "f6df35e0",
   "metadata": {},
   "outputs": [],
   "source": [
    "window=Tk() #throut the program we will use this object"
   ]
  },
  {
   "cell_type": "markdown",
   "id": "dedd7040",
   "metadata": {},
   "source": [
    "### Label widget"
   ]
  },
  {
   "cell_type": "code",
   "execution_count": 7,
   "id": "a8739d4c",
   "metadata": {},
   "outputs": [],
   "source": [
    "#Label is a class whichi is available in tkinter module\n",
    "#we can create as many objects of same class"
   ]
  },
  {
   "cell_type": "markdown",
   "id": "7d20c5d5",
   "metadata": {},
   "source": [
    "Tkinter Label is a widget that is used to implement display boxes where you\n",
    "can place text or images. The text displayed by this widget can be changed \n",
    "by the developer at any time you want.\n",
    "https://www.geeksforgeeks.org/python-tkinter-label/"
   ]
  },
  {
   "cell_type": "code",
   "execution_count": 10,
   "id": "667707c8",
   "metadata": {},
   "outputs": [],
   "source": [
    "mylabel=Label(window,text=\"I Am Learning Tkinter\")"
   ]
  },
  {
   "cell_type": "code",
   "execution_count": 11,
   "id": "baaf7aa3",
   "metadata": {},
   "outputs": [],
   "source": [
    "#mylabel.pack()\n",
    "#grid"
   ]
  },
  {
   "cell_type": "code",
   "execution_count": null,
   "id": "df254ae1",
   "metadata": {},
   "outputs": [],
   "source": [
    "In Tkinter, the pack method is used to organize widgets within a container \n",
    "(typically a window or a frame) by automatically determining the size and \n",
    "placement of the widget. It simplifies the process of arranging widgets in \n",
    "a way that adapts to the available space.\n",
    "pack organizes widgets in a top-down or left-to-right manner, grid allows \n",
    "you to create a grid-like layout, where widgets are placed in specific rows\n",
    "and columns.\n",
    "e.g label1.grid(row=0, column=0)"
   ]
  },
  {
   "cell_type": "code",
   "execution_count": 12,
   "id": "0dc756e4",
   "metadata": {},
   "outputs": [],
   "source": [
    "#we can write like this also:\n",
    "mylabel=Label(window,text=\"I Am Learning Tkinter In Python\").pack()"
   ]
  },
  {
   "cell_type": "markdown",
   "id": "385176a7",
   "metadata": {},
   "source": [
    "### Execute Everythink"
   ]
  },
  {
   "cell_type": "code",
   "execution_count": 13,
   "id": "ed75ff0c",
   "metadata": {},
   "outputs": [],
   "source": [
    "window.mainloop()"
   ]
  },
  {
   "cell_type": "code",
   "execution_count": null,
   "id": "16c25978",
   "metadata": {},
   "outputs": [],
   "source": [
    "The mainloop() method is a crucial part of a Tkinter application. It is call\n",
    "ed on the main application window, and it is responsible for running the \n",
    "Tkinter event loop. The event loop is what allows your GUI to respond to \n",
    "user inputs, events, and other activities.\n",
    "\n",
    "When you call window.mainloop(), where window is the instance of your \n",
    "Tkinter Tk class (representing the main application window), it enters into\n",
    "a loop that waits for events such as button clicks, keyboard input, and \n",
    "other user interactions. The application remains responsive, updating the \n",
    "display and executing callback functions in response to events."
   ]
  },
  {
   "cell_type": "markdown",
   "id": "190bf561",
   "metadata": {},
   "source": [
    "# Creating Calculator"
   ]
  },
  {
   "cell_type": "code",
   "execution_count": 19,
   "id": "cb0ec96d",
   "metadata": {},
   "outputs": [],
   "source": [
    "from tkinter import *"
   ]
  },
  {
   "cell_type": "code",
   "execution_count": 66,
   "id": "ebc920e8",
   "metadata": {},
   "outputs": [],
   "source": [
    "window=Tk()"
   ]
  },
  {
   "cell_type": "code",
   "execution_count": 67,
   "id": "721b9660",
   "metadata": {},
   "outputs": [],
   "source": [
    "def addition():\n",
    "    a=int(entry1.get())\n",
    "    b=int(entry2.get())\n",
    "    c=a+b\n",
    "    entry3.insert(0,c)"
   ]
  },
  {
   "cell_type": "code",
   "execution_count": 68,
   "id": "6ba980d4",
   "metadata": {},
   "outputs": [],
   "source": [
    "def clear():\n",
    "    entry1.delete(0,END)\n",
    "    entry2.delete(0,END)\n",
    "    entry3.delete(0,END)"
   ]
  },
  {
   "cell_type": "code",
   "execution_count": 69,
   "id": "d6d8e9ac",
   "metadata": {},
   "outputs": [],
   "source": [
    "def multiple():\n",
    "    a=int(entry1.get())\n",
    "    b=int(entry2.get())\n",
    "    c=a*b\n",
    "    entry3.insert(0,c)"
   ]
  },
  {
   "cell_type": "code",
   "execution_count": 70,
   "id": "6ece573e",
   "metadata": {},
   "outputs": [],
   "source": [
    "label1=Label(window,text=\"Enter First No:-\")\n",
    "label2=Label(window,text=\"Enter Second No:-\")\n",
    "entry1=Entry(window)\n",
    "entry2=Entry(window)\n",
    "add=Button(window,text=\"ADD\",command=addition)\n",
    "multiple=Button(window,text=\"multiple\",command=multiple)\n",
    "entry3=Entry(window)\n",
    "clear=Button(window,text=\"Clear\",command=clear)"
   ]
  },
  {
   "cell_type": "code",
   "execution_count": 71,
   "id": "506233b3",
   "metadata": {},
   "outputs": [],
   "source": [
    "label1.grid(row=0,column=0)\n",
    "label2.grid(row=1,column=0)\n",
    "entry1.grid(row=0,column=1)\n",
    "entry2.grid(row=1,column=1)\n",
    "add.grid(row=2,column=0)\n",
    "multiple.grid(row=2,column=1)\n",
    "entry3.grid(row=3,column=1)\n",
    "clear.grid(row=4,column=0)"
   ]
  },
  {
   "cell_type": "code",
   "execution_count": 72,
   "id": "749ebf9d",
   "metadata": {},
   "outputs": [],
   "source": [
    "window.mainloop()"
   ]
  },
  {
   "cell_type": "code",
   "execution_count": null,
   "id": "9c4d3bd3",
   "metadata": {},
   "outputs": [],
   "source": []
  }
 ],
 "metadata": {
  "kernelspec": {
   "display_name": "Python 3 (ipykernel)",
   "language": "python",
   "name": "python3"
  },
  "language_info": {
   "codemirror_mode": {
    "name": "ipython",
    "version": 3
   },
   "file_extension": ".py",
   "mimetype": "text/x-python",
   "name": "python",
   "nbconvert_exporter": "python",
   "pygments_lexer": "ipython3",
   "version": "3.11.3"
  }
 },
 "nbformat": 4,
 "nbformat_minor": 5
}
