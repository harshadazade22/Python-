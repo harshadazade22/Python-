{
 "cells": [
  {
   "cell_type": "markdown",
   "id": "857344cd",
   "metadata": {},
   "source": [
    "# Operators"
   ]
  },
  {
   "cell_type": "markdown",
   "id": "91e6e7e9",
   "metadata": {},
   "source": [
    "## Arithmatic Operator"
   ]
  },
  {
   "cell_type": "code",
   "execution_count": 3,
   "id": "260cbdb8",
   "metadata": {},
   "outputs": [
    {
     "name": "stdout",
     "output_type": "stream",
     "text": [
      "additio is: 79\n"
     ]
    }
   ],
   "source": [
    "#addition\n",
    "a=23\n",
    "b=56\n",
    "c=a+b\n",
    "print(\"additio is:\",c)"
   ]
  },
  {
   "cell_type": "code",
   "execution_count": 4,
   "id": "cd9096c8",
   "metadata": {},
   "outputs": [
    {
     "name": "stdout",
     "output_type": "stream",
     "text": [
      "subtraction is: -12\n"
     ]
    }
   ],
   "source": [
    "#subtraction \n",
    "a=34\n",
    "b=46\n",
    "c=a-b\n",
    "print(\"subtraction is:\",c)"
   ]
  },
  {
   "cell_type": "code",
   "execution_count": 5,
   "id": "b2fb331c",
   "metadata": {},
   "outputs": [
    {
     "name": "stdout",
     "output_type": "stream",
     "text": [
      "multiplication is: 2888\n"
     ]
    }
   ],
   "source": [
    "#multiplication\n",
    "a=76\n",
    "b=38\n",
    "c=a*b\n",
    "print(\"multiplication is:\",c)"
   ]
  },
  {
   "cell_type": "code",
   "execution_count": 14,
   "id": "0f17fed3",
   "metadata": {},
   "outputs": [
    {
     "name": "stdout",
     "output_type": "stream",
     "text": [
      "division is: 5.0\n"
     ]
    }
   ],
   "source": [
    "#division\n",
    "a=10\n",
    "b=2\n",
    "c=a/b\n",
    "print(\"division is:\",c)"
   ]
  },
  {
   "cell_type": "code",
   "execution_count": 10,
   "id": "e9e0385e",
   "metadata": {},
   "outputs": [
    {
     "name": "stdout",
     "output_type": "stream",
     "text": [
      "division floor is: 1\n"
     ]
    }
   ],
   "source": [
    "#dividion floor\n",
    "a=87\n",
    "b=73\n",
    "c=a//b\n",
    "print(\"division floor is:\",c)"
   ]
  },
  {
   "cell_type": "code",
   "execution_count": 11,
   "id": "833678f6",
   "metadata": {},
   "outputs": [
    {
     "name": "stdout",
     "output_type": "stream",
     "text": [
      "modulus is: 11\n"
     ]
    }
   ],
   "source": [
    "#modulus\n",
    "a=98\n",
    "b=87\n",
    "c=a%b\n",
    "print(\"modulus is:\",c)"
   ]
  },
  {
   "cell_type": "code",
   "execution_count": 13,
   "id": "6ff2eea8",
   "metadata": {},
   "outputs": [
    {
     "name": "stdout",
     "output_type": "stream",
     "text": [
      "power is: 9\n"
     ]
    }
   ],
   "source": [
    "#power\n",
    "a=3\n",
    "b=2\n",
    "c=a**b\n",
    "print(\"power is:\",c)"
   ]
  },
  {
   "cell_type": "markdown",
   "id": "2f5a7cef",
   "metadata": {},
   "source": [
    "# Assignment"
   ]
  },
  {
   "cell_type": "code",
   "execution_count": 17,
   "id": "2a4cacf7",
   "metadata": {},
   "outputs": [
    {
     "name": "stdout",
     "output_type": "stream",
     "text": [
      "10\n",
      "10\n"
     ]
    }
   ],
   "source": [
    "x=5\n",
    "x+=5\n",
    "print(x)\n",
    "#or\n",
    "x=5\n",
    "x=x+5\n",
    "print(x)"
   ]
  },
  {
   "cell_type": "code",
   "execution_count": 20,
   "id": "6b502a38",
   "metadata": {},
   "outputs": [
    {
     "name": "stdout",
     "output_type": "stream",
     "text": [
      "0\n",
      "0\n"
     ]
    }
   ],
   "source": [
    "x=10\n",
    "x-=10\n",
    "print(x)\n",
    "#or\n",
    "x=10\n",
    "x=x-10\n",
    "print(x)"
   ]
  },
  {
   "cell_type": "code",
   "execution_count": 22,
   "id": "c16cda9d",
   "metadata": {},
   "outputs": [
    {
     "name": "stdout",
     "output_type": "stream",
     "text": [
      "100\n",
      "1000\n"
     ]
    }
   ],
   "source": [
    "x=10\n",
    "x=x*10\n",
    "print(x)\n",
    "#or\n",
    "x=10\n",
    "x*=100\n",
    "print(x)"
   ]
  },
  {
   "cell_type": "code",
   "execution_count": 23,
   "id": "f531d2ca",
   "metadata": {},
   "outputs": [
    {
     "name": "stdout",
     "output_type": "stream",
     "text": [
      "190\n",
      "2.0\n"
     ]
    }
   ],
   "source": [
    "x=190\n",
    "x=x*1\n",
    "print(x)\n",
    "#or\n",
    "x=60\n",
    "x/=30\n",
    "print(x)"
   ]
  },
  {
   "cell_type": "code",
   "execution_count": 24,
   "id": "578c2d78",
   "metadata": {},
   "outputs": [
    {
     "name": "stdout",
     "output_type": "stream",
     "text": [
      "7\n",
      "5\n"
     ]
    }
   ],
   "source": [
    "x=17\n",
    "x=x%10\n",
    "print(x)\n",
    "#or\n",
    "x=5\n",
    "x%=15\n",
    "print(x)"
   ]
  },
  {
   "cell_type": "code",
   "execution_count": 25,
   "id": "3f278b22",
   "metadata": {},
   "outputs": [
    {
     "name": "stdout",
     "output_type": "stream",
     "text": [
      "19\n",
      "0\n"
     ]
    }
   ],
   "source": [
    "x=190\n",
    "x=x//10\n",
    "print(x)\n",
    "#or\n",
    "x=56\n",
    "x//=100\n",
    "print(x)"
   ]
  },
  {
   "cell_type": "code",
   "execution_count": 28,
   "id": "c3741157",
   "metadata": {},
   "outputs": [
    {
     "name": "stdout",
     "output_type": "stream",
     "text": [
      "256\n",
      "3125\n"
     ]
    }
   ],
   "source": [
    "x=4\n",
    "x=x**4\n",
    "print(x)\n",
    "#or\n",
    "x=5\n",
    "x**=5\n",
    "print(x)"
   ]
  },
  {
   "cell_type": "code",
   "execution_count": 37,
   "id": "7ced40ea",
   "metadata": {},
   "outputs": [
    {
     "name": "stdout",
     "output_type": "stream",
     "text": [
      "3\n",
      "4\n"
     ]
    }
   ],
   "source": [
    "x=11\n",
    "x=x&3\n",
    "print(x)\n",
    "#or\n",
    "x=22\n",
    "x&=4\n",
    "print(x)"
   ]
  },
  {
   "cell_type": "code",
   "execution_count": 36,
   "id": "d4b55e80",
   "metadata": {},
   "outputs": [
    {
     "name": "stdout",
     "output_type": "stream",
     "text": [
      "15\n",
      "14\n"
     ]
    }
   ],
   "source": [
    "x=10\n",
    "x=x|13\n",
    "print(x)\n",
    "#or\n",
    "x=4\n",
    "x|=10\n",
    "print(x)"
   ]
  },
  {
   "cell_type": "markdown",
   "id": "3ae8fffb",
   "metadata": {},
   "source": [
    "# Logical operator\n"
   ]
  },
  {
   "cell_type": "raw",
   "id": "9a0e59e4",
   "metadata": {},
   "source": [
    "1= true nd 0=false"
   ]
  },
  {
   "cell_type": "code",
   "execution_count": 39,
   "id": "137db026",
   "metadata": {},
   "outputs": [
    {
     "data": {
      "text/plain": [
       "20"
      ]
     },
     "execution_count": 39,
     "metadata": {},
     "output_type": "execute_result"
    }
   ],
   "source": [
    "#logical and\n",
    "a=20\n",
    "b=21\n",
    "a&b"
   ]
  },
  {
   "cell_type": "code",
   "execution_count": 40,
   "id": "45f7b355",
   "metadata": {},
   "outputs": [
    {
     "data": {
      "text/plain": [
       "21"
      ]
     },
     "execution_count": 40,
     "metadata": {},
     "output_type": "execute_result"
    }
   ],
   "source": [
    "#logical or\n",
    "a=20\n",
    "b=21\n",
    "a|b"
   ]
  },
  {
   "cell_type": "code",
   "execution_count": 44,
   "id": "e5411338",
   "metadata": {},
   "outputs": [
    {
     "data": {
      "text/plain": [
       "-13"
      ]
     },
     "execution_count": 44,
     "metadata": {},
     "output_type": "execute_result"
    }
   ],
   "source": [
    "#logical not\n",
    "~12"
   ]
  },
  {
   "cell_type": "markdown",
   "id": "4a5e0b86",
   "metadata": {},
   "source": [
    "# Python Membership Operator"
   ]
  },
  {
   "cell_type": "code",
   "execution_count": 54,
   "id": "c94797a2",
   "metadata": {},
   "outputs": [
    {
     "data": {
      "text/plain": [
       "True"
      ]
     },
     "execution_count": 54,
     "metadata": {},
     "output_type": "execute_result"
    }
   ],
   "source": [
    "#in operator\n",
    "A1=\"strings and Python\"\n",
    "\"and\" in A1 \n"
   ]
  },
  {
   "cell_type": "code",
   "execution_count": 59,
   "id": "23b64e9d",
   "metadata": {},
   "outputs": [
    {
     "data": {
      "text/plain": [
       "False"
      ]
     },
     "execution_count": 59,
     "metadata": {},
     "output_type": "execute_result"
    }
   ],
   "source": [
    "a1={1,2,3,4,6,70}\n",
    "71 in a1"
   ]
  },
  {
   "cell_type": "code",
   "execution_count": 60,
   "id": "133de5dc",
   "metadata": {},
   "outputs": [
    {
     "data": {
      "text/plain": [
       "True"
      ]
     },
     "execution_count": 60,
     "metadata": {},
     "output_type": "execute_result"
    }
   ],
   "source": [
    "A2={1,2,3,4,5}\n",
    "6 not in A2"
   ]
  },
  {
   "cell_type": "code",
   "execution_count": 61,
   "id": "9c5c99b0",
   "metadata": {},
   "outputs": [
    {
     "data": {
      "text/plain": [
       "False"
      ]
     },
     "execution_count": 61,
     "metadata": {},
     "output_type": "execute_result"
    }
   ],
   "source": [
    "#not in\n",
    "a2=\"python fullstack \"\n",
    "\"fullstack\" not in a2"
   ]
  },
  {
   "cell_type": "markdown",
   "id": "c29f0287",
   "metadata": {},
   "source": [
    "# Python comparison operator"
   ]
  },
  {
   "cell_type": "code",
   "execution_count": 62,
   "id": "bb8c8bfa",
   "metadata": {},
   "outputs": [
    {
     "data": {
      "text/plain": [
       "True"
      ]
     },
     "execution_count": 62,
     "metadata": {},
     "output_type": "execute_result"
    }
   ],
   "source": [
    "# ==\n",
    "a=90\n",
    "b=90\n",
    "a==b"
   ]
  },
  {
   "cell_type": "code",
   "execution_count": 65,
   "id": "5d98d2fb",
   "metadata": {},
   "outputs": [
    {
     "data": {
      "text/plain": [
       "False"
      ]
     },
     "execution_count": 65,
     "metadata": {},
     "output_type": "execute_result"
    }
   ],
   "source": [
    "# ==\n",
    "a1=98\n",
    "b1=90\n",
    "a1==b1"
   ]
  },
  {
   "cell_type": "code",
   "execution_count": 66,
   "id": "37bf6bf6",
   "metadata": {},
   "outputs": [
    {
     "data": {
      "text/plain": [
       "True"
      ]
     },
     "execution_count": 66,
     "metadata": {},
     "output_type": "execute_result"
    }
   ],
   "source": [
    "# != \n",
    "c=88\n",
    "d=55\n",
    "c!=d"
   ]
  },
  {
   "cell_type": "code",
   "execution_count": 86,
   "id": "efc1658a",
   "metadata": {},
   "outputs": [
    {
     "data": {
      "text/plain": [
       "True"
      ]
     },
     "execution_count": 86,
     "metadata": {},
     "output_type": "execute_result"
    }
   ],
   "source": [
    "# != \n",
    "c1=88\n",
    "d1=55\n",
    "c1!=d1"
   ]
  },
  {
   "cell_type": "code",
   "execution_count": 83,
   "id": "c0fac160",
   "metadata": {},
   "outputs": [
    {
     "ename": "SyntaxError",
     "evalue": "invalid syntax (823149688.py, line 4)",
     "output_type": "error",
     "traceback": [
      "\u001b[1;36m  Cell \u001b[1;32mIn[83], line 4\u001b[1;36m\u001b[0m\n\u001b[1;33m    e1<>e2\u001b[0m\n\u001b[1;37m      ^\u001b[0m\n\u001b[1;31mSyntaxError\u001b[0m\u001b[1;31m:\u001b[0m invalid syntax\n"
     ]
    }
   ],
   "source": [
    "#<>\n",
    "e1=22\n",
    "e2=222\n",
    "e1<>e2"
   ]
  },
  {
   "cell_type": "code",
   "execution_count": 81,
   "id": "ed12a486",
   "metadata": {},
   "outputs": [
    {
     "data": {
      "text/plain": [
       "True"
      ]
     },
     "execution_count": 81,
     "metadata": {},
     "output_type": "execute_result"
    }
   ],
   "source": [
    "# <\n",
    "a=90\n",
    "b=95\n",
    "a<b"
   ]
  },
  {
   "cell_type": "code",
   "execution_count": 82,
   "id": "9a219491",
   "metadata": {},
   "outputs": [
    {
     "data": {
      "text/plain": [
       "False"
      ]
     },
     "execution_count": 82,
     "metadata": {},
     "output_type": "execute_result"
    }
   ],
   "source": [
    "a=2\n",
    "b=1\n",
    "a<b"
   ]
  },
  {
   "cell_type": "code",
   "execution_count": 78,
   "id": "8d2696f7",
   "metadata": {},
   "outputs": [
    {
     "data": {
      "text/plain": [
       "True"
      ]
     },
     "execution_count": 78,
     "metadata": {},
     "output_type": "execute_result"
    }
   ],
   "source": [
    "# >\n",
    "a=33\n",
    "b=22\n",
    "a>b"
   ]
  },
  {
   "cell_type": "code",
   "execution_count": 85,
   "id": "2c9bf4d4",
   "metadata": {},
   "outputs": [
    {
     "data": {
      "text/plain": [
       "True"
      ]
     },
     "execution_count": 85,
     "metadata": {},
     "output_type": "execute_result"
    }
   ],
   "source": [
    "a1=100\n",
    "a2=99\n",
    "a>b"
   ]
  },
  {
   "cell_type": "code",
   "execution_count": 88,
   "id": "54e15a02",
   "metadata": {},
   "outputs": [
    {
     "data": {
      "text/plain": [
       "True"
      ]
     },
     "execution_count": 88,
     "metadata": {},
     "output_type": "execute_result"
    }
   ],
   "source": [
    "#>=\n",
    "a=90\n",
    "b=77\n",
    "a>=b"
   ]
  },
  {
   "cell_type": "code",
   "execution_count": 89,
   "id": "28804d0d",
   "metadata": {},
   "outputs": [
    {
     "data": {
      "text/plain": [
       "True"
      ]
     },
     "execution_count": 89,
     "metadata": {},
     "output_type": "execute_result"
    }
   ],
   "source": [
    "a=22\n",
    "b=22\n",
    "a>=b"
   ]
  },
  {
   "cell_type": "code",
   "execution_count": 90,
   "id": "0e6c94e1",
   "metadata": {},
   "outputs": [
    {
     "data": {
      "text/plain": [
       "False"
      ]
     },
     "execution_count": 90,
     "metadata": {},
     "output_type": "execute_result"
    }
   ],
   "source": [
    "a=55\n",
    "b=66\n",
    "a>=b"
   ]
  },
  {
   "cell_type": "code",
   "execution_count": 92,
   "id": "4c61eeaf",
   "metadata": {},
   "outputs": [
    {
     "data": {
      "text/plain": [
       "False"
      ]
     },
     "execution_count": 92,
     "metadata": {},
     "output_type": "execute_result"
    }
   ],
   "source": [
    "#<=\n",
    "a=99\n",
    "b=66\n",
    "a<=b"
   ]
  },
  {
   "cell_type": "code",
   "execution_count": 93,
   "id": "749d49d1",
   "metadata": {},
   "outputs": [
    {
     "data": {
      "text/plain": [
       "True"
      ]
     },
     "execution_count": 93,
     "metadata": {},
     "output_type": "execute_result"
    }
   ],
   "source": [
    "a=44\n",
    "b=44\n",
    "a<=b"
   ]
  },
  {
   "cell_type": "code",
   "execution_count": 94,
   "id": "52cffcbb",
   "metadata": {},
   "outputs": [
    {
     "data": {
      "text/plain": [
       "True"
      ]
     },
     "execution_count": 94,
     "metadata": {},
     "output_type": "execute_result"
    }
   ],
   "source": [
    "a=99\n",
    "b=112\n",
    "a<=b"
   ]
  },
  {
   "cell_type": "markdown",
   "id": "b5765a3b",
   "metadata": {},
   "source": [
    "# Identify Operaor"
   ]
  },
  {
   "cell_type": "code",
   "execution_count": 100,
   "id": "73c5bc89",
   "metadata": {},
   "outputs": [
    {
     "name": "stdout",
     "output_type": "stream",
     "text": [
      "true\n"
     ]
    }
   ],
   "source": [
    "a=3\n",
    "if(type(x) is int):\n",
    "     print(\"true\")\n",
    "else:\n",
    "    (print(\"false\"))"
   ]
  },
  {
   "cell_type": "code",
   "execution_count": 101,
   "id": "c2ca784e",
   "metadata": {},
   "outputs": [
    {
     "name": "stdout",
     "output_type": "stream",
     "text": [
      "true\n"
     ]
    }
   ],
   "source": [
    "a1=True\n",
    "if(type(a1) is bool):\n",
    "    print(\"true\")\n",
    "else:\n",
    "    print(\"false\")"
   ]
  },
  {
   "cell_type": "code",
   "execution_count": 103,
   "id": "8c3d03a4",
   "metadata": {},
   "outputs": [
    {
     "name": "stdout",
     "output_type": "stream",
     "text": [
      "false\n"
     ]
    }
   ],
   "source": [
    "st=\"strings\"\n",
    "if(type(st) is float): \n",
    "    print(\"true\")\n",
    "else:\n",
    "     print(\"false\")"
   ]
  },
  {
   "cell_type": "code",
   "execution_count": 105,
   "id": "296b5e44",
   "metadata": {},
   "outputs": [
    {
     "name": "stdout",
     "output_type": "stream",
     "text": [
      "false\n"
     ]
    }
   ],
   "source": [
    "st=56.44\n",
    "if(type(st) is not float): \n",
    "    print(\"true\")\n",
    "else:\n",
    "     print(\"false\")"
   ]
  },
  {
   "cell_type": "markdown",
   "id": "d2bf0d4a",
   "metadata": {},
   "source": [
    "# Bitwise Operator"
   ]
  },
  {
   "cell_type": "code",
   "execution_count": 104,
   "id": "be092d59",
   "metadata": {},
   "outputs": [
    {
     "data": {
      "text/plain": [
       "0"
      ]
     },
     "execution_count": 104,
     "metadata": {},
     "output_type": "execute_result"
    }
   ],
   "source": [
    "# bitwise AND\n",
    "a1=30\n",
    "a2=32\n",
    "30&33"
   ]
  },
  {
   "cell_type": "code",
   "execution_count": 107,
   "id": "49951337",
   "metadata": {},
   "outputs": [
    {
     "data": {
      "text/plain": [
       "12"
      ]
     },
     "execution_count": 107,
     "metadata": {},
     "output_type": "execute_result"
    }
   ],
   "source": [
    "a_1=45\n",
    "a_2=30\n",
    "a_1&a_2"
   ]
  },
  {
   "cell_type": "code",
   "execution_count": 110,
   "id": "235fd50b",
   "metadata": {},
   "outputs": [
    {
     "data": {
      "text/plain": [
       "29"
      ]
     },
     "execution_count": 110,
     "metadata": {},
     "output_type": "execute_result"
    }
   ],
   "source": [
    "# bitwise OR\n",
    "operator1=9\n",
    "operator2=20\n",
    "operator1|operator2"
   ]
  },
  {
   "cell_type": "code",
   "execution_count": 109,
   "id": "df44c93c",
   "metadata": {},
   "outputs": [
    {
     "data": {
      "text/plain": [
       "27"
      ]
     },
     "execution_count": 109,
     "metadata": {},
     "output_type": "execute_result"
    }
   ],
   "source": [
    "operator3=19\n",
    "operator4=25\n",
    "operator3|operator4"
   ]
  },
  {
   "cell_type": "code",
   "execution_count": 111,
   "id": "9cd60c57",
   "metadata": {},
   "outputs": [
    {
     "data": {
      "text/plain": [
       "-35"
      ]
     },
     "execution_count": 111,
     "metadata": {},
     "output_type": "execute_result"
    }
   ],
   "source": [
    "#bitwise  NOT\n",
    "~34"
   ]
  },
  {
   "cell_type": "code",
   "execution_count": 113,
   "id": "7dba4846",
   "metadata": {},
   "outputs": [
    {
     "data": {
      "text/plain": [
       "-40"
      ]
     },
     "execution_count": 113,
     "metadata": {},
     "output_type": "execute_result"
    }
   ],
   "source": [
    "~39"
   ]
  },
  {
   "cell_type": "markdown",
   "id": "bf313eba",
   "metadata": {},
   "source": [
    "# Evaluating expression -using eval function"
   ]
  },
  {
   "cell_type": "code",
   "execution_count": 116,
   "id": "c904499d",
   "metadata": {},
   "outputs": [
    {
     "name": "stdout",
     "output_type": "stream",
     "text": [
      "x*(x+1)*(x+2)\n",
      "<class 'str'>\n",
      "<class 'int'>\n"
     ]
    }
   ],
   "source": [
    "evaluate=\"x*(x+1)*(x+2)\"\n",
    "print(evaluate)\n",
    "print(type(evaluate))\n",
    "x=3\n",
    "expression=eval(evaluate)\n",
    "print(type(expression))"
   ]
  },
  {
   "cell_type": "code",
   "execution_count": 3,
   "id": "da41dc27",
   "metadata": {},
   "outputs": [
    {
     "name": "stdout",
     "output_type": "stream",
     "text": [
      "19\n"
     ]
    }
   ],
   "source": [
    "a1=\"x+1*x+2*x+3\"\n",
    "x=4\n",
    "a2=eval(a1)\n",
    "print(a2)"
   ]
  },
  {
   "cell_type": "markdown",
   "id": "2c0c7d38",
   "metadata": {},
   "source": [
    "# Operator Precedance"
   ]
  },
  {
   "cell_type": "code",
   "execution_count": 5,
   "id": "280f8b0e",
   "metadata": {},
   "outputs": [
    {
     "name": "stdout",
     "output_type": "stream",
     "text": [
      "3\n",
      "0\n"
     ]
    }
   ],
   "source": [
    "#left-right associativity\n",
    "print(5*2//3)\n",
    "\n",
    "\n",
    "print(5*(2//3))"
   ]
  },
  {
   "cell_type": "code",
   "execution_count": 7,
   "id": "38ff0b39",
   "metadata": {},
   "outputs": [
    {
     "name": "stdout",
     "output_type": "stream",
     "text": [
      "109\n",
      "54\n"
     ]
    }
   ],
   "source": [
    "#left-right associativity\n",
    "print(55+55-77//44)\n",
    "\n",
    " \n",
    "print(55+(55-77)//44)"
   ]
  },
  {
   "cell_type": "code",
   "execution_count": 10,
   "id": "56ac0c9a",
   "metadata": {},
   "outputs": [
    {
     "name": "stdout",
     "output_type": "stream",
     "text": [
      "436673502879206784130402698570834024654748577491697818855443\n",
      "436673502879206784130402698570834024654748577491697818855443\n"
     ]
    }
   ],
   "source": [
    "print(3**5**3)\n",
    "print(3**(5**3))"
   ]
  },
  {
   "cell_type": "code",
   "execution_count": null,
   "id": "6e684079",
   "metadata": {},
   "outputs": [],
   "source": []
  }
 ],
 "metadata": {
  "kernelspec": {
   "display_name": "Python 3 (ipykernel)",
   "language": "python",
   "name": "python3"
  },
  "language_info": {
   "codemirror_mode": {
    "name": "ipython",
    "version": 3
   },
   "file_extension": ".py",
   "mimetype": "text/x-python",
   "name": "python",
   "nbconvert_exporter": "python",
   "pygments_lexer": "ipython3",
   "version": "3.11.3"
  }
 },
 "nbformat": 4,
 "nbformat_minor": 5
}
