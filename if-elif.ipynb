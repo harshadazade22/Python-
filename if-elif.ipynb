{
 "cells": [
  {
   "cell_type": "markdown",
   "id": "8d6ac69b",
   "metadata": {},
   "source": [
    "# if-elif"
   ]
  },
  {
   "cell_type": "markdown",
   "id": "8f7c414a",
   "metadata": {},
   "source": [
    "## Simple calculator"
   ]
  },
  {
   "cell_type": "code",
   "execution_count": 13,
   "id": "a49364a8",
   "metadata": {},
   "outputs": [
    {
     "name": "stdout",
     "output_type": "stream",
     "text": [
      "Enter the first number:5\n",
      "Enter the operator(+,-,*,%,/):%\n",
      "Enter the second number:5\n",
      "Remindar of 5 and 5 is:0\n"
     ]
    }
   ],
   "source": [
    "num_1=int(input(\"Enter the first number:\"))\n",
    "operator=input(\"Enter the operator(+,-,*,%,/):\")\n",
    "num_2=int(input(\"Enter the second number:\"))\n",
    "          \n",
    "if operator == \"+\":\n",
    "    Result = num_1 + num_2\n",
    "      #print(\"Addition of two number\",num_1 \"and\" num_2,\"is:\"result)\n",
    "    print(f\"Addition of {num_1} and {num_2} is:{Result}\")\n",
    "elif operator == \"-\":\n",
    "    Result = num_1 - num_2\n",
    "    print(f\"Subtration of {num_1} and {num_2} is : {Result}\")\n",
    "elif operator == \"*\":\n",
    "    Result = num_1 * num_2\n",
    "    print(f\"Product of {num_1} and {num_2} is: {Result}\")\n",
    "elif operator == \"/\":\n",
    "    Result = num_1 / num_2\n",
    "    print(f\"division of {num_1} and {num_2} is: {Result}\")\n",
    "elif operator == \"%\":\n",
    "    Result = num_1 % num_2\n",
    "    print(f\"Remindar of {num_1} and {num_2} is:{Result}\")\n",
    "else:\n",
    "    print(\"Invalid operator\")\n",
    "          "
   ]
  },
  {
   "cell_type": "code",
   "execution_count": 5,
   "id": "78fd8523",
   "metadata": {},
   "outputs": [
    {
     "data": {
      "text/plain": [
       "86"
      ]
     },
     "execution_count": 5,
     "metadata": {},
     "output_type": "execute_result"
    }
   ],
   "source": [
    "43*2\n"
   ]
  },
  {
   "cell_type": "markdown",
   "id": "9c1c5256",
   "metadata": {},
   "source": [
    "## Student Grade Checker "
   ]
  },
  {
   "cell_type": "code",
   "execution_count": 20,
   "id": "0b2224dc",
   "metadata": {},
   "outputs": [
    {
     "name": "stdout",
     "output_type": "stream",
     "text": [
      " Enter the percentage:77\n",
      " The student's grade is: C\n"
     ]
    }
   ],
   "source": [
    "percentage= float(input(\" Enter the percentage:\"))\n",
    "\n",
    "if percentage >= 90:\n",
    "    grade = \"A\"\n",
    "elif percentage >=80:\n",
    "    grade = \"B\"\n",
    "elif percentage >=70:\n",
    "    grade = \"C\"\n",
    "elif percentage >=60:\n",
    "    grade = \"D\"\n",
    "else:\n",
    "    grade = \"F\"\n",
    "print(f\" The student's grade is: {grade}\")"
   ]
  },
  {
   "cell_type": "markdown",
   "id": "d4c50880",
   "metadata": {},
   "source": [
    "## Positive And Negative Number Checker"
   ]
  },
  {
   "cell_type": "code",
   "execution_count": 27,
   "id": "c4b569a6",
   "metadata": {},
   "outputs": [
    {
     "name": "stdout",
     "output_type": "stream",
     "text": [
      "Enter the number:0\n",
      "The number is zero\n"
     ]
    }
   ],
   "source": [
    "# -2,-1,0,1,2\n",
    "a=int(input(\"Enter the number:\")) \n",
    "if a>0:\n",
    "    print(\"The number is positive\")\n",
    "elif a<0:\n",
    "    print(\"The number is negative\")\n",
    "else:\n",
    "    print(\"The number is zero\")\n",
    "    "
   ]
  },
  {
   "cell_type": "markdown",
   "id": "6f759903",
   "metadata": {},
   "source": [
    "## Marks Checker"
   ]
  },
  {
   "cell_type": "code",
   "execution_count": 3,
   "id": "ae9cc4ba",
   "metadata": {},
   "outputs": [
    {
     "name": "stdout",
     "output_type": "stream",
     "text": [
      "Enter the marks:98\n",
      "Student got A+ grade\n"
     ]
    }
   ],
   "source": [
    "marks=int(input(\"Enter the marks:\"))\n",
    "\n",
    "if 90<=marks<=100:\n",
    "    print(\"Student got A+ grade\")\n",
    "elif 80<=marks<90:\n",
    "    print(\"Student got A grade\")\n",
    "elif 70<=marks<80:\n",
    "    print(\"Student got B+ garde\")\n",
    "elif 60<=marks<70:\n",
    "    print(\"Student got B grade\")\n",
    "elif 50<=marks<60:\n",
    "    print(\"Student got C+ grade\")\n",
    "elif 40<=marks<45:\n",
    "    print(\"Student got C grade\")\n",
    "else:\n",
    "    print(\"Student is fail.\")"
   ]
  },
  {
   "cell_type": "markdown",
   "id": "abcf1cd8",
   "metadata": {},
   "source": [
    "## Exmaple code to clasify temperature ranges"
   ]
  },
  {
   "cell_type": "code",
   "execution_count": 6,
   "id": "c2c7affe",
   "metadata": {},
   "outputs": [
    {
     "name": "stdout",
     "output_type": "stream",
     "text": [
      "Enter the temperature in celsius:6\n",
      "The temperature is classified as: Cold\n"
     ]
    }
   ],
   "source": [
    "temp=float(input(\"Enter the temperature in celsius:\"))\n",
    "\n",
    "if temp<0:\n",
    "    classification = \"Freezing\"\n",
    "elif 0 <= temp < 10:\n",
    "    classification =\"Cold\"\n",
    "elif 10 <= temp <20:\n",
    "    classification =\"Cool\"\n",
    "elif 20 <= temp <30:\n",
    "    classification =\"Warm\" \n",
    "else:\n",
    "    classification =\"Hot\"\n",
    "\n",
    "print(\"The temperature is classified as:\",classification)"
   ]
  },
  {
   "cell_type": "code",
   "execution_count": null,
   "id": "f5e979a7",
   "metadata": {},
   "outputs": [],
   "source": []
  }
 ],
 "metadata": {
  "kernelspec": {
   "display_name": "Python 3 (ipykernel)",
   "language": "python",
   "name": "python3"
  },
  "language_info": {
   "codemirror_mode": {
    "name": "ipython",
    "version": 3
   },
   "file_extension": ".py",
   "mimetype": "text/x-python",
   "name": "python",
   "nbconvert_exporter": "python",
   "pygments_lexer": "ipython3",
   "version": "3.11.3"
  }
 },
 "nbformat": 4,
 "nbformat_minor": 5
}
