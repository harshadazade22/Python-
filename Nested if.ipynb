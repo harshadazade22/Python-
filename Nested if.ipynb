{
 "cells": [
  {
   "cell_type": "markdown",
   "id": "9c8fcffe",
   "metadata": {},
   "source": [
    "# Nested if"
   ]
  },
  {
   "cell_type": "markdown",
   "id": "57363f5a",
   "metadata": {},
   "source": [
    "### Example code to check voting Eligbility with ID verification"
   ]
  },
  {
   "cell_type": "code",
   "execution_count": 2,
   "id": "8e6b9635",
   "metadata": {},
   "outputs": [
    {
     "name": "stdout",
     "output_type": "stream",
     "text": [
      "Enter your Age12\n",
      "Do you have a valid ID?(yes/no): yes\n",
      "You are not eligible to vote.\n"
     ]
    }
   ],
   "source": [
    "Age=int(input(\"Enter your Age\"))\n",
    "has_id=input(\"Do you have a valid ID?(yes/no): \").lower()\n",
    "\n",
    "if Age>=18:\n",
    "    if has_id == \"yes\":\n",
    "        print(\"You are eligible to vote..\")\n",
    "    else:\n",
    "        print(\"Please bring a valid ID to vote.\")\n",
    "else:\n",
    "    print(\"You are not eligible to vote.\")"
   ]
  },
  {
   "cell_type": "code",
   "execution_count": 9,
   "id": "5e7c7f2b",
   "metadata": {},
   "outputs": [
    {
     "name": "stdout",
     "output_type": "stream",
     "text": [
      "Enter your age:11\n",
      "Do you have a valid ID?(Yes/No):yes\n",
      "You are not eligible to Vote\n"
     ]
    }
   ],
   "source": [
    "age=int(input(\"Enter your age:\"))\n",
    "has_id=input(\"Do you have a valid ID?(Yes/No):\").lower()\n",
    "\n",
    "if age>=18 and has_id==\"yes\":\n",
    "    print(\"You are eligible for Vote.\")\n",
    "elif age>=18 and has_id==\"no\":\n",
    "    print(\"Please bring a valid ID for Vote.\")\n",
    "else:\n",
    "    print(\"You are not eligible to Vote\")"
   ]
  },
  {
   "cell_type": "markdown",
   "id": "de87f048",
   "metadata": {},
   "source": [
    "### Example code to detremine ticket pricing based on age and type"
   ]
  },
  {
   "cell_type": "code",
   "execution_count": 3,
   "id": "208242cf",
   "metadata": {},
   "outputs": [
    {
     "name": "stdout",
     "output_type": "stream",
     "text": [
      "Enter your age:12\n",
      "Enter ticket type(adult/child:child\n",
      "ticket is:  2\n"
     ]
    }
   ],
   "source": [
    "age = int(input(\"Enter your age:\"))\n",
    "ticket_type=str(input(\"Enter ticket type(adult/child:\")).upper()\n",
    "\n",
    "if ticket_type == \"ADULT\":\n",
    "    if age >= 18:\n",
    "        price = 10\n",
    "    else:\n",
    "        price = 5\n",
    "else:\n",
    "    if age <= 12:\n",
    "        price = 2\n",
    "    else:\n",
    "        price = 3\n",
    "\n",
    "print(\"ticket is: \",price)"
   ]
  },
  {
   "cell_type": "markdown",
   "id": "d39f99a5",
   "metadata": {},
   "source": [
    "### Example code to calculate discount based on purcase amount and membership"
   ]
  },
  {
   "cell_type": "code",
   "execution_count": 7,
   "id": "384b728f",
   "metadata": {},
   "outputs": [
    {
     "name": "stdout",
     "output_type": "stream",
     "text": [
      "Enter the amount:99\n",
      "Are you a memeber?(yes/no:)no\n",
      "Total amount after discount: 99.0\n"
     ]
    }
   ],
   "source": [
    "purchase_amount=float(input(\"Enter the amount:\"))\n",
    "is_member = input(\"Are you a memeber?(yes/no:)\").lower()\n",
    "if is_member == \"yes\":\n",
    "    if purchase_amount>=100:\n",
    "        discount=0.1 * purchase_amount\n",
    "    else:\n",
    "        dicount=0.05 * purchase_amount\n",
    "else:\n",
    "    if purchase_amount>=100:\n",
    "        discount=0.02 * purchase_amount\n",
    "    else:\n",
    "        discount= 0\n",
    "\n",
    "total_amount =  purchase_amount - discount\n",
    "print(\"Total amount after discount:\",total_amount)"
   ]
  },
  {
   "cell_type": "code",
   "execution_count": 15,
   "id": "e1dcf9d1",
   "metadata": {},
   "outputs": [
    {
     "name": "stdout",
     "output_type": "stream",
     "text": [
      "Enter the amount:444\n",
      "Are you a member?(Yes/NO):no\n",
      "Total price after discount: 444.0\n"
     ]
    }
   ],
   "source": [
    "product_amount=float(input(\"Enter the amount:\"))\n",
    "member=str(input(\"Are you a member?(Yes/NO):\")).upper()\n",
    "if member == \"YES\":\n",
    "    if product_amount >= 500:\n",
    "        discount = 0.1 * product_amount\n",
    "    else:\n",
    "        discount = 0.05 * product_amount\n",
    "    total_amount = product_amount-discount\n",
    "    print(\"Total amount after discount:\",total_amount)\n",
    "elif member == \"NO\":\n",
    "    if product_amount >= 500:\n",
    "        discount = 0.02 * product_amount\n",
    "    else:\n",
    "        discount = 0\n",
    "    total_amount=product_amount - discount\n",
    "    print(\"Total price after discount:\",total_amount)\n",
    "else:\n",
    "    print(\"Please enter 'yes' or 'no' in proper format\")"
   ]
  },
  {
   "cell_type": "code",
   "execution_count": null,
   "id": "72ffea42",
   "metadata": {},
   "outputs": [],
   "source": []
  }
 ],
 "metadata": {
  "kernelspec": {
   "display_name": "Python 3 (ipykernel)",
   "language": "python",
   "name": "python3"
  },
  "language_info": {
   "codemirror_mode": {
    "name": "ipython",
    "version": 3
   },
   "file_extension": ".py",
   "mimetype": "text/x-python",
   "name": "python",
   "nbconvert_exporter": "python",
   "pygments_lexer": "ipython3",
   "version": "3.11.3"
  }
 },
 "nbformat": 4,
 "nbformat_minor": 5
}
