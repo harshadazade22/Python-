{
 "cells": [
  {
   "cell_type": "code",
   "execution_count": 4,
   "id": "be73aa09",
   "metadata": {},
   "outputs": [
    {
     "name": "stdout",
     "output_type": "stream",
     "text": [
      "The winner of ipl is:- RBC\n",
      "The name of cricketer is:- Ms Dhoni the jersy_no is this: 7\n",
      "And the team is:- India\n"
     ]
    }
   ],
   "source": [
    "class cricket:\n",
    "    team=\"India\" #static variable\n",
    "    def __init__ (self,name,jersy_no):  #instense variable\n",
    "        self.name=name\n",
    "        self.jersy_no=jersy_no\n",
    "        \n",
    "    def IPL(self):\n",
    "        x=\"RBC\"  #local variable\n",
    "        print(\"The winner of ipl is:-\",x)\n",
    "        print(\"The name of cricketer is:-\",self.name,\"the jersy_no is this:\",self.jersy_no)\n",
    "        print(\"And the team is:-\",cricket.team)\n",
    "        \n",
    "obj=cricket(\"Ms Dhoni\",7)\n",
    "obj.IPL()"
   ]
  },
  {
   "cell_type": "code",
   "execution_count": null,
   "id": "f4b4519d",
   "metadata": {},
   "outputs": [],
   "source": []
  }
 ],
 "metadata": {
  "kernelspec": {
   "display_name": "Python 3 (ipykernel)",
   "language": "python",
   "name": "python3"
  },
  "language_info": {
   "codemirror_mode": {
    "name": "ipython",
    "version": 3
   },
   "file_extension": ".py",
   "mimetype": "text/x-python",
   "name": "python",
   "nbconvert_exporter": "python",
   "pygments_lexer": "ipython3",
   "version": "3.11.3"
  }
 },
 "nbformat": 4,
 "nbformat_minor": 5
}
