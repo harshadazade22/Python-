{
 "cells": [
  {
   "cell_type": "markdown",
   "id": "794bb35f",
   "metadata": {},
   "source": [
    "## print current date and time"
   ]
  },
  {
   "cell_type": "code",
   "execution_count": 1,
   "id": "bb2a9574",
   "metadata": {},
   "outputs": [
    {
     "name": "stdout",
     "output_type": "stream",
     "text": [
      "2023-10-04 12:42:47.277290\n"
     ]
    }
   ],
   "source": [
    "import datetime\n",
    "current_date_time=datetime.datetime.now()\n",
    "print(current_date_time)"
   ]
  },
  {
   "cell_type": "code",
   "execution_count": 5,
   "id": "102c4335",
   "metadata": {},
   "outputs": [
    {
     "data": {
      "text/plain": [
       "'04/10/23 12:42:47'"
      ]
     },
     "execution_count": 5,
     "metadata": {},
     "output_type": "execute_result"
    }
   ],
   "source": [
    "#strftime\n",
    "current_date_time.strftime(\"%d/%m/%y %H:%M:%S\")\n"
   ]
  },
  {
   "cell_type": "code",
   "execution_count": 6,
   "id": "5bdf51a7",
   "metadata": {},
   "outputs": [
    {
     "name": "stdout",
     "output_type": "stream",
     "text": [
      "2023-10-04 12:50:37.346676\n"
     ]
    }
   ],
   "source": [
    "import datetime as datet\n",
    "date_time=datet.datetime.now()\n",
    "print(date_time)"
   ]
  },
  {
   "cell_type": "code",
   "execution_count": 7,
   "id": "39db48d1",
   "metadata": {},
   "outputs": [
    {
     "data": {
      "text/plain": [
       "'04:Oct:2023 12:50:37'"
      ]
     },
     "execution_count": 7,
     "metadata": {},
     "output_type": "execute_result"
    }
   ],
   "source": [
    "date_time.strftime(\"%d:%b:%Y %H:%M:%S\")"
   ]
  },
  {
   "cell_type": "markdown",
   "id": "a87e90fc",
   "metadata": {},
   "source": [
    "## To check the version of python"
   ]
  },
  {
   "cell_type": "code",
   "execution_count": 8,
   "id": "82d5d943",
   "metadata": {},
   "outputs": [
    {
     "name": "stdout",
     "output_type": "stream",
     "text": [
      "python version is \n",
      "3.11.3 | packaged by Anaconda, Inc. | (main, Apr 19 2023, 23:46:34) [MSC v.1916 64 bit (AMD64)]\n"
     ]
    }
   ],
   "source": [
    "import sys\n",
    "print(\"python version is \")\n",
    "print(sys.version)"
   ]
  },
  {
   "cell_type": "markdown",
   "id": "6bd23fa1",
   "metadata": {},
   "source": [
    "# Quadratic equation"
   ]
  },
  {
   "cell_type": "code",
   "execution_count": 23,
   "id": "504cb502",
   "metadata": {},
   "outputs": [
    {
     "name": "stdout",
     "output_type": "stream",
     "text": [
      "-2.0\n",
      "-2.0\n"
     ]
    }
   ],
   "source": [
    "#quadratic equation is : a*x**2+b*x+c=0\n",
    "a=1\n",
    "b=4\n",
    "c=4\n",
    "x=((-b+(b**2-4*a*c)**0.5))/(2*a)\n",
    "x1=((-b-(b**2-4*a*c)**0.5))/(2*a)\n",
    "print(x)\n",
    "print(x1)"
   ]
  },
  {
   "cell_type": "code",
   "execution_count": 24,
   "id": "aab6c7cd",
   "metadata": {},
   "outputs": [
    {
     "data": {
      "text/plain": [
       "0.0"
      ]
     },
     "execution_count": 24,
     "metadata": {},
     "output_type": "execute_result"
    }
   ],
   "source": [
    "a*x**2+b*x+c"
   ]
  },
  {
   "cell_type": "code",
   "execution_count": 28,
   "id": "02a419ba",
   "metadata": {},
   "outputs": [
    {
     "name": "stdout",
     "output_type": "stream",
     "text": [
      "(-2+0j)\n",
      "(-2+0j)\n"
     ]
    }
   ],
   "source": [
    "#quadratic equation using import cmath\n",
    "import cmath\n",
    "a=1\n",
    "b=4\n",
    "c=4\n",
    "d=(b**2)-(4*a*c)\n",
    "x1=(-b-cmath.sqrt(d))/(2*a)\n",
    "x2=(-b+cmath.sqrt(d))/(2*a)\n",
    "print(x1)\n",
    "print(x2)"
   ]
  },
  {
   "cell_type": "code",
   "execution_count": 29,
   "id": "fe275d43",
   "metadata": {},
   "outputs": [
    {
     "data": {
      "text/plain": [
       "0.0"
      ]
     },
     "execution_count": 29,
     "metadata": {},
     "output_type": "execute_result"
    }
   ],
   "source": [
    "a*x**2+b*x+c"
   ]
  },
  {
   "cell_type": "code",
   "execution_count": null,
   "id": "fe17de50",
   "metadata": {},
   "outputs": [],
   "source": []
  }
 ],
 "metadata": {
  "kernelspec": {
   "display_name": "Python 3 (ipykernel)",
   "language": "python",
   "name": "python3"
  },
  "language_info": {
   "codemirror_mode": {
    "name": "ipython",
    "version": 3
   },
   "file_extension": ".py",
   "mimetype": "text/x-python",
   "name": "python",
   "nbconvert_exporter": "python",
   "pygments_lexer": "ipython3",
   "version": "3.11.3"
  }
 },
 "nbformat": 4,
 "nbformat_minor": 5
}
