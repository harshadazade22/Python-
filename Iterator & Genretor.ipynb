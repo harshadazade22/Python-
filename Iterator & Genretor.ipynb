{
 "cells": [
  {
   "cell_type": "markdown",
   "id": "14cc568b",
   "metadata": {},
   "source": [
    "# Generator"
   ]
  },
  {
   "cell_type": "markdown",
   "id": "e0ddbf00",
   "metadata": {},
   "source": [
    "###### To Genterate Something"
   ]
  },
  {
   "cell_type": "code",
   "execution_count": 1,
   "id": "444c04d0",
   "metadata": {},
   "outputs": [],
   "source": [
    "def fn(x,y):\n",
    "    x=x-y\n",
    "    return x+1"
   ]
  },
  {
   "cell_type": "code",
   "execution_count": 2,
   "id": "229e3eec",
   "metadata": {},
   "outputs": [
    {
     "data": {
      "text/plain": [
       "-3"
      ]
     },
     "execution_count": 2,
     "metadata": {},
     "output_type": "execute_result"
    }
   ],
   "source": [
    "fn(5,9)"
   ]
  },
  {
   "cell_type": "code",
   "execution_count": 3,
   "id": "68567199",
   "metadata": {},
   "outputs": [],
   "source": [
    "def fn1(x,y):\n",
    "    x=x-y\n",
    "    yield x+1"
   ]
  },
  {
   "cell_type": "code",
   "execution_count": 4,
   "id": "ad95f7e4",
   "metadata": {},
   "outputs": [
    {
     "data": {
      "text/plain": [
       "<generator object fn1 at 0x000001FFFA6EEE90>"
      ]
     },
     "execution_count": 4,
     "metadata": {},
     "output_type": "execute_result"
    }
   ],
   "source": [
    "fn1(5,9)"
   ]
  },
  {
   "cell_type": "code",
   "execution_count": 18,
   "id": "d32aa761",
   "metadata": {},
   "outputs": [],
   "source": [
    "def generator():\n",
    "    print(\"Harshada\")\n",
    "    yield \"Harshada\"+\"Zade\"\n",
    "    \n",
    "    print(\"Hello Python\")\n",
    "    yield 10\n",
    "    \n",
    "    print(\"Python Developer\")\n",
    "    yield 100"
   ]
  },
  {
   "cell_type": "code",
   "execution_count": 19,
   "id": "25214678",
   "metadata": {},
   "outputs": [],
   "source": [
    "x=generator()"
   ]
  },
  {
   "cell_type": "code",
   "execution_count": 20,
   "id": "846ba615",
   "metadata": {},
   "outputs": [
    {
     "data": {
      "text/plain": [
       "<generator object generator at 0x000001FFFA6CA980>"
      ]
     },
     "execution_count": 20,
     "metadata": {},
     "output_type": "execute_result"
    }
   ],
   "source": [
    "generator()"
   ]
  },
  {
   "cell_type": "code",
   "execution_count": 9,
   "id": "7b42eb3b",
   "metadata": {},
   "outputs": [
    {
     "name": "stdout",
     "output_type": "stream",
     "text": [
      "<generator object generator at 0x000001FFFA6CA200>\n"
     ]
    }
   ],
   "source": [
    "print(x)"
   ]
  },
  {
   "cell_type": "code",
   "execution_count": 12,
   "id": "820dc7f9",
   "metadata": {},
   "outputs": [
    {
     "name": "stdout",
     "output_type": "stream",
     "text": [
      "Python Developer\n",
      "100\n"
     ]
    }
   ],
   "source": [
    "print(next(x))"
   ]
  },
  {
   "cell_type": "code",
   "execution_count": 24,
   "id": "8fa01b2b",
   "metadata": {},
   "outputs": [
    {
     "ename": "StopIteration",
     "evalue": "",
     "output_type": "error",
     "traceback": [
      "\u001b[1;31m---------------------------------------------------------------------------\u001b[0m",
      "\u001b[1;31mStopIteration\u001b[0m                             Traceback (most recent call last)",
      "Cell \u001b[1;32mIn[24], line 1\u001b[0m\n\u001b[1;32m----> 1\u001b[0m \u001b[38;5;28mprint\u001b[39m(\u001b[38;5;28mnext\u001b[39m(x))\n\u001b[0;32m      2\u001b[0m \u001b[38;5;28mprint\u001b[39m(\u001b[38;5;28mnext\u001b[39m(x))\n\u001b[0;32m      3\u001b[0m \u001b[38;5;28mprint\u001b[39m(\u001b[38;5;28mnext\u001b[39m(x))\n",
      "\u001b[1;31mStopIteration\u001b[0m: "
     ]
    }
   ],
   "source": [
    "print(next(x))\n",
    "print(next(x))\n",
    "print(next(x))"
   ]
  },
  {
   "cell_type": "code",
   "execution_count": null,
   "id": "46f62e00",
   "metadata": {},
   "outputs": [],
   "source": [
    "print(next(x))"
   ]
  },
  {
   "cell_type": "code",
   "execution_count": 25,
   "id": "aecbc867",
   "metadata": {},
   "outputs": [],
   "source": [
    "def generator():\n",
    "    print(\"Harshada\")\n",
    "    yield \"Harshada\"+\"Zade\"\n",
    "    \n",
    "    return    #will stop generations\n",
    "    print(\"Hello Python\")\n",
    "    yield 10\n",
    "    \n",
    "    print(\"Python Developer\")\n",
    "    yield 100"
   ]
  },
  {
   "cell_type": "code",
   "execution_count": 26,
   "id": "79c4af5a",
   "metadata": {},
   "outputs": [
    {
     "name": "stdout",
     "output_type": "stream",
     "text": [
      "Harshada\n",
      "HarshadaZade\n"
     ]
    },
    {
     "ename": "StopIteration",
     "evalue": "",
     "output_type": "error",
     "traceback": [
      "\u001b[1;31m---------------------------------------------------------------------------\u001b[0m",
      "\u001b[1;31mStopIteration\u001b[0m                             Traceback (most recent call last)",
      "Cell \u001b[1;32mIn[26], line 3\u001b[0m\n\u001b[0;32m      1\u001b[0m x\u001b[38;5;241m=\u001b[39mgenerator()\n\u001b[0;32m      2\u001b[0m \u001b[38;5;28mprint\u001b[39m(\u001b[38;5;28mnext\u001b[39m(x))\n\u001b[1;32m----> 3\u001b[0m \u001b[38;5;28mprint\u001b[39m(\u001b[38;5;28mnext\u001b[39m(x))\n\u001b[0;32m      4\u001b[0m \u001b[38;5;28mprint\u001b[39m(\u001b[38;5;28mnext\u001b[39m(x))\n\u001b[0;32m      5\u001b[0m \u001b[38;5;28mprint\u001b[39m(\u001b[38;5;28mnext\u001b[39m(x))\n",
      "\u001b[1;31mStopIteration\u001b[0m: "
     ]
    }
   ],
   "source": [
    "x=generator()\n",
    "print(next(x))\n",
    "print(next(x))\n",
    "print(next(x))\n",
    "print(next(x))"
   ]
  },
  {
   "cell_type": "markdown",
   "id": "81c5fce0",
   "metadata": {},
   "source": [
    "# For Loop"
   ]
  },
  {
   "cell_type": "code",
   "execution_count": 31,
   "id": "679cbdbc",
   "metadata": {},
   "outputs": [
    {
     "name": "stdout",
     "output_type": "stream",
     "text": [
      "Harshada\n",
      "HarshadaZade\n",
      "Hello Python\n",
      "10\n",
      "Python Developer\n",
      "100\n"
     ]
    }
   ],
   "source": [
    "def generator():\n",
    "    print(\"Harshada\")\n",
    "    yield \"Harshada\"+\"Zade\"\n",
    "    \n",
    "    print(\"Hello Python\")\n",
    "    yield 10\n",
    "    \n",
    "    print(\"Python Developer\")\n",
    "    yield 100\n",
    "    \n",
    "x=generator()\n",
    "for i in x:\n",
    "    print(i)"
   ]
  },
  {
   "cell_type": "code",
   "execution_count": 38,
   "id": "2d802e71",
   "metadata": {},
   "outputs": [],
   "source": [
    "def generator():\n",
    "    print(\"Harshada\")\n",
    "    yield \"Harshada\"+\" \"+\"Zade\"\n",
    "    \n",
    "    return   #will stop generation\n",
    "    print(\"Hello Python\")\n",
    "    yield 10\n",
    "    \n",
    "    print(\"Python Developer\")\n",
    "    yield 100"
   ]
  },
  {
   "cell_type": "code",
   "execution_count": 39,
   "id": "29cff7d5",
   "metadata": {},
   "outputs": [
    {
     "name": "stdout",
     "output_type": "stream",
     "text": [
      "Harshada\n",
      "Harshada Zade\n"
     ]
    }
   ],
   "source": [
    "x=generator()\n",
    "for i in x:\n",
    "    print(i)"
   ]
  },
  {
   "cell_type": "code",
   "execution_count": 40,
   "id": "ade19598",
   "metadata": {},
   "outputs": [
    {
     "name": "stdout",
     "output_type": "stream",
     "text": [
      "Harshada\n"
     ]
    }
   ],
   "source": [
    "def generator():\n",
    "    print(\"Harshada\")\n",
    "    return\n",
    "    yield \"Harshada\"+\"Zade\"\n",
    "    \n",
    "    print(\"Hello Python\")\n",
    "    yield 10\n",
    "    \n",
    "    print(\"Python Developer\")\n",
    "    yield 100\n",
    "    \n",
    "x=generator()\n",
    "for i in x:\n",
    "    print(i)"
   ]
  },
  {
   "cell_type": "markdown",
   "id": "5a3ae3d7",
   "metadata": {},
   "source": [
    "# Difference between Iterator and Generator"
   ]
  },
  {
   "cell_type": "raw",
   "id": "72cdae8d",
   "metadata": {},
   "source": [
    "1) we can use iterators elements as many times bt in generator we can use only once.\n",
    "2)iterator uses two functions iter() and next and generator uses only one fn next() and yield keyword\n",
    "3)gen"
   ]
  },
  {
   "cell_type": "markdown",
   "id": "ff2b8828",
   "metadata": {},
   "source": [
    "### Example"
   ]
  },
  {
   "cell_type": "markdown",
   "id": "b21cc0d3",
   "metadata": {},
   "source": [
    "Suppose you're building a system to analyze and visualize large sets of temperature data. \n",
    "Your data source is a large file containing temperature readings for different locations over time.\n",
    "\n",
    "You can use iterators and generators to read this data efficiently and process it in chunks, rather \n",
    "than loading the entire file into memory at once. This approach allows you to process large datasets \n",
    "without running into memory constraints."
   ]
  },
  {
   "cell_type": "code",
   "execution_count": 41,
   "id": "e933743c",
   "metadata": {},
   "outputs": [
    {
     "data": {
      "text/html": [
       "<div>\n",
       "<style scoped>\n",
       "    .dataframe tbody tr th:only-of-type {\n",
       "        vertical-align: middle;\n",
       "    }\n",
       "\n",
       "    .dataframe tbody tr th {\n",
       "        vertical-align: top;\n",
       "    }\n",
       "\n",
       "    .dataframe thead th {\n",
       "        text-align: right;\n",
       "    }\n",
       "</style>\n",
       "<table border=\"1\" class=\"dataframe\">\n",
       "  <thead>\n",
       "    <tr style=\"text-align: right;\">\n",
       "      <th></th>\n",
       "      <th>Location</th>\n",
       "      <th>Date</th>\n",
       "      <th>Temperature</th>\n",
       "    </tr>\n",
       "  </thead>\n",
       "  <tbody>\n",
       "    <tr>\n",
       "      <th>0</th>\n",
       "      <td>New York</td>\n",
       "      <td>2022-01-01</td>\n",
       "      <td>32</td>\n",
       "    </tr>\n",
       "    <tr>\n",
       "      <th>1</th>\n",
       "      <td>New York</td>\n",
       "      <td>2022-01-02</td>\n",
       "      <td>34</td>\n",
       "    </tr>\n",
       "    <tr>\n",
       "      <th>2</th>\n",
       "      <td>New York</td>\n",
       "      <td>2022-01-03</td>\n",
       "      <td>36</td>\n",
       "    </tr>\n",
       "    <tr>\n",
       "      <th>3</th>\n",
       "      <td>New York</td>\n",
       "      <td>2022-01-04</td>\n",
       "      <td>38</td>\n",
       "    </tr>\n",
       "    <tr>\n",
       "      <th>4</th>\n",
       "      <td>Los Angeles</td>\n",
       "      <td>2022-01-01</td>\n",
       "      <td>68</td>\n",
       "    </tr>\n",
       "    <tr>\n",
       "      <th>5</th>\n",
       "      <td>Los Angeles</td>\n",
       "      <td>2022-01-02</td>\n",
       "      <td>70</td>\n",
       "    </tr>\n",
       "    <tr>\n",
       "      <th>6</th>\n",
       "      <td>Los Angeles</td>\n",
       "      <td>2022-01-03</td>\n",
       "      <td>72</td>\n",
       "    </tr>\n",
       "    <tr>\n",
       "      <th>7</th>\n",
       "      <td>Los Angeles</td>\n",
       "      <td>2022-01-04</td>\n",
       "      <td>74</td>\n",
       "    </tr>\n",
       "  </tbody>\n",
       "</table>\n",
       "</div>"
      ],
      "text/plain": [
       "      Location        Date  Temperature\n",
       "0     New York  2022-01-01           32\n",
       "1     New York  2022-01-02           34\n",
       "2     New York  2022-01-03           36\n",
       "3     New York  2022-01-04           38\n",
       "4  Los Angeles  2022-01-01           68\n",
       "5  Los Angeles  2022-01-02           70\n",
       "6  Los Angeles  2022-01-03           72\n",
       "7  Los Angeles  2022-01-04           74"
      ]
     },
     "execution_count": 41,
     "metadata": {},
     "output_type": "execute_result"
    }
   ],
   "source": [
    "temperature_data = [\n",
    "    {'Location': 'New York', 'Date': '2022-01-01', 'Temperature': 32},\n",
    "    {'Location': 'New York', 'Date': '2022-01-02', 'Temperature': 34},\n",
    "    {'Location': 'New York', 'Date': '2022-01-03', 'Temperature': 36},\n",
    "    {'Location': 'New York', 'Date': '2022-01-04', 'Temperature': 38},\n",
    "    {'Location': 'Los Angeles', 'Date': '2022-01-01', 'Temperature': 68},\n",
    "    {'Location': 'Los Angeles', 'Date': '2022-01-02', 'Temperature': 70},\n",
    "    {'Location': 'Los Angeles', 'Date': '2022-01-03', 'Temperature': 72},\n",
    "    {'Location': 'Los Angeles', 'Date': '2022-01-04', 'Temperature': 74}\n",
    "]\n",
    "\n",
    "import pandas as pd\n",
    "\n",
    "# Create a DataFrame from the dictionary\n",
    "df = pd.DataFrame(temperature_data)\n",
    "\n",
    "# Print the DataFrame\n",
    "df\n"
   ]
  },
  {
   "cell_type": "code",
   "execution_count": 42,
   "id": "52a2c485",
   "metadata": {},
   "outputs": [],
   "source": [
    "df.to_csv('temperature_data_output.csv', index=False)"
   ]
  },
  {
   "cell_type": "code",
   "execution_count": 48,
   "id": "5503589b",
   "metadata": {},
   "outputs": [],
   "source": [
    "#Defination a generators function to read tempeesture data from a file.\n",
    "def temp_reader(filename):\n",
    "    with open (filename,\"r\") as file:\n",
    "        for line in file:\n",
    "            yield line.strip()\n",
    "            \n",
    "#Defination a generators function to parse tempeesture data.\n",
    "def parse_temp(temperature,data):\n",
    "    for item in temperature_data,slipt():\n",
    "        yield float(item)\n",
    "\n",
    "#Defination a generators function to calcualte the tempeesture for each location\n",
    "\n",
    "def calculate_average_temp(temperature):\n",
    "    toyal=0\n",
    "    count=0\n",
    "    for temperature in temperatures:\n",
    "        total += temperature\n",
    "        count += 1\n",
    "    yield total/count\n",
    "    \n",
    "    \n",
    "#read temperature data from a file\n",
    "temperature_data=temp_reader('temperature_data_output.csv')\n",
    "\n",
    "\n",
    "\n",
    "# # Process the data in chunks\n",
    "# chunk_size = 100\n",
    "# for i in range(0, len(temperature_data), chunk_size):\n",
    "#     chunk = temperature_data[i:i+chunk_size]\n",
    "    \n",
    "#     # Parse the temperature data\n",
    "#     parsed_data = parse_temperature_data(chunk)\n",
    "    \n",
    "#     # Calculate the average temperature for each location\n",
    "#     average_temperatures = calculate_average_temperature(parsed_data)\n",
    "    \n",
    "#     # Print the average temperatures\n",
    "#     for average_temperature in average_temperatures:\n",
    "#         print(average_temperature)\n"
   ]
  },
  {
   "cell_type": "code",
   "execution_count": 49,
   "id": "7ca64f63",
   "metadata": {},
   "outputs": [
    {
     "data": {
      "text/plain": [
       "'Location,Date,Temperature'"
      ]
     },
     "execution_count": 49,
     "metadata": {},
     "output_type": "execute_result"
    }
   ],
   "source": [
    "next(temperature_data)"
   ]
  },
  {
   "cell_type": "code",
   "execution_count": 50,
   "id": "adc2e440",
   "metadata": {},
   "outputs": [
    {
     "data": {
      "text/plain": [
       "'New York,2022-01-01,32'"
      ]
     },
     "execution_count": 50,
     "metadata": {},
     "output_type": "execute_result"
    }
   ],
   "source": [
    "next(temperature_data)"
   ]
  },
  {
   "cell_type": "code",
   "execution_count": 51,
   "id": "5791af8b",
   "metadata": {},
   "outputs": [],
   "source": [
    "def fn():\n",
    "    return 2+3\n"
   ]
  },
  {
   "cell_type": "code",
   "execution_count": 52,
   "id": "e3666cae",
   "metadata": {},
   "outputs": [
    {
     "data": {
      "text/plain": [
       "5"
      ]
     },
     "execution_count": 52,
     "metadata": {},
     "output_type": "execute_result"
    }
   ],
   "source": [
    "fn()"
   ]
  },
  {
   "cell_type": "code",
   "execution_count": 54,
   "id": "c09d6bd7",
   "metadata": {},
   "outputs": [],
   "source": [
    "def fn():\n",
    "    return 2+3\n",
    "    return 8+3"
   ]
  },
  {
   "cell_type": "code",
   "execution_count": 55,
   "id": "ac471119",
   "metadata": {},
   "outputs": [
    {
     "data": {
      "text/plain": [
       "5"
      ]
     },
     "execution_count": 55,
     "metadata": {},
     "output_type": "execute_result"
    }
   ],
   "source": [
    "fn()"
   ]
  },
  {
   "cell_type": "code",
   "execution_count": null,
   "id": "c75111c1",
   "metadata": {},
   "outputs": [],
   "source": []
  }
 ],
 "metadata": {
  "kernelspec": {
   "display_name": "Python 3 (ipykernel)",
   "language": "python",
   "name": "python3"
  },
  "language_info": {
   "codemirror_mode": {
    "name": "ipython",
    "version": 3
   },
   "file_extension": ".py",
   "mimetype": "text/x-python",
   "name": "python",
   "nbconvert_exporter": "python",
   "pygments_lexer": "ipython3",
   "version": "3.11.5"
  }
 },
 "nbformat": 4,
 "nbformat_minor": 5
}
