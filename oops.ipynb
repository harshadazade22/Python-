{
 "cells": [
  {
   "cell_type": "code",
   "execution_count": 6,
   "id": "f068f77c",
   "metadata": {},
   "outputs": [
    {
     "name": "stdout",
     "output_type": "stream",
     "text": [
      "The car name is: Ferrari , color is  and speed is 340KMPH\n"
     ]
    }
   ],
   "source": [
    "#class\n",
    "class car:\n",
    "    def specification(self,name,speed):      #object\n",
    "        self.name=name\n",
    "        self.speed=speed\n",
    "        print(\"The car name is:\",self.name,\", color is \",\"and speed is\",self.speed)\n",
    "obj1=car()\n",
    "obj1.specification(\"Ferrari\",\"340KMPH\")"
   ]
  },
  {
   "cell_type": "code",
   "execution_count": 11,
   "id": "2c16e672",
   "metadata": {},
   "outputs": [
    {
     "name": "stdout",
     "output_type": "stream",
     "text": [
      "The car name is Ferrari ,color is Black\n",
      "and speed is 340KMPH\n"
     ]
    }
   ],
   "source": [
    "#constructor(init)\n",
    "class car:\n",
    "    def __init__(self,name,color,speed):\n",
    "        self.name=name\n",
    "        self.color=color\n",
    "        self.speed=speed\n",
    "    def specification(self):\n",
    "        print(\"The car name is\",self.name,\",color is\",self.color)\n",
    "    def speed1(self):\n",
    "        print(\"and speed is\",self.speed)\n",
    "        \n",
    "obj=car(\"Ferrari\",\"Black\",\"340KMPH\")\n",
    "obj.specification()\n",
    "obj.speed1()"
   ]
  },
  {
   "cell_type": "code",
   "execution_count": 22,
   "id": "a56e9108",
   "metadata": {},
   "outputs": [
    {
     "name": "stdout",
     "output_type": "stream",
     "text": [
      "Hello my name is: Jhon \n",
      "Age: 36\n"
     ]
    }
   ],
   "source": [
    "#object\n",
    "class person:\n",
    "    def __init__(self,name,age):\n",
    "        self.name = name\n",
    "        self.age = age\n",
    "        \n",
    "    def myfun(self):\n",
    "        print(\"Hello my name is: \"+ self.name ,\"\\nAge: \" + self.age)\n",
    "\n",
    "p1= person(\"Jhon\",\"36\")  # object name p1 of class person is created\n",
    "p1.myfun()"
   ]
  },
  {
   "cell_type": "code",
   "execution_count": 27,
   "id": "a75e2b79",
   "metadata": {},
   "outputs": [
    {
     "name": "stdout",
     "output_type": "stream",
     "text": [
      "This is a apple\n",
      "And color is red.\n",
      "This is a banana\n",
      "And color is yellow.\n"
     ]
    }
   ],
   "source": [
    "class fruit:\n",
    "    def set_properties(self,name,color):\n",
    "        self.name=name\n",
    "        self.color=color\n",
    "    \n",
    "    def fruit_name(self):\n",
    "        return f\"This is a {self.name}\"\n",
    "    def fruit_color(self):\n",
    "        return f\"And color is {self.color}.\"\n",
    "\n",
    "#creating fruit object\n",
    "apple=fruit()\n",
    "apple.set_properties(\"apple\",\"red\")\n",
    "print(apple.fruit_name())\n",
    "print(apple.fruit_color())    #output: This is a red apple\n",
    "\n",
    "\n",
    "banana=fruit()\n",
    "banana.set_properties(\"banana\",\"yellow\")\n",
    "print(banana.fruit_name())\n",
    "print(banana.fruit_color())"
   ]
  },
  {
   "cell_type": "code",
   "execution_count": 30,
   "id": "3c628fa6",
   "metadata": {},
   "outputs": [
    {
     "name": "stdout",
     "output_type": "stream",
     "text": [
      "This is a teddy bear toy and material used in plush\n",
      "This is a lego bricks toy and material used in plastic\n"
     ]
    }
   ],
   "source": [
    "class toy:\n",
    "    def set_details(self,name,material):\n",
    "        self.name=name\n",
    "        self.material=material\n",
    "    def show_info(self):     #functions , methond ,behaviour\n",
    "        return f\"This is a {self.name} toy and material used in {self.material}\"\n",
    "    \n",
    "#creating toy object\n",
    "teddy_bear=toy()\n",
    "teddy_bear.set_details(\"teddy bear\",\"plush\")\n",
    "\n",
    "print(teddy_bear.show_info())\n",
    "\n",
    "lego_bricks=toy()\n",
    "lego_bricks.set_details(\"lego bricks\",\"plastic\")\n",
    "print(lego_bricks.show_info())"
   ]
  },
  {
   "cell_type": "code",
   "execution_count": 33,
   "id": "a30952ff",
   "metadata": {},
   "outputs": [
    {
     "name": "stdout",
     "output_type": "stream",
     "text": [
      "This is a guiter from the string family.\n",
      "This is a flute from the woodwind family.\n"
     ]
    }
   ],
   "source": [
    "class instrument:\n",
    "    def set_instrument(self,name,family):\n",
    "        self.name=name\n",
    "        self.family=family\n",
    "    def descriibe(self):\n",
    "        return f\"This is a {self.name} from the {self.family} family.\"\n",
    "\n",
    "#crete instrument object   \n",
    "guiter = instrument()\n",
    "guiter.set_instrument(\"guiter\",\"string\")\n",
    "print(guiter.descriibe())\n",
    "\n",
    "flute = instrument()\n",
    "flute.set_instrument(\"flute\",\"woodwind\")\n",
    "print(flute.descriibe())"
   ]
  },
  {
   "cell_type": "raw",
   "id": "7ff69cec",
   "metadata": {},
   "source": [
    "1.Create a class called Student with attributes name and grade.\n",
    "Implement a method display that prints the student's name and grade."
   ]
  },
  {
   "cell_type": "code",
   "execution_count": 36,
   "id": "2dbe3d1e",
   "metadata": {},
   "outputs": [
    {
     "name": "stdout",
     "output_type": "stream",
     "text": [
      " NAME OF THE STUDENT sejal AND GARDE A+\n",
      " NAME OF THE STUDENT ketki AND GARDE A\n"
     ]
    }
   ],
   "source": [
    "class Student:\n",
    "    def student_info(self,name,grade):\n",
    "        self.name=name\n",
    "        self.grade=grade\n",
    "        \n",
    "    def Student_result(self):\n",
    "        return f\" NAME OF THE STUDENT {self.name} AND GARDE {self.grade}\"\n",
    "    \n",
    "#create student object\n",
    "student_1=Student()\n",
    "student_1.student_info(\"sejal\",\"A+\")\n",
    "print(student_1.Student_result())\n",
    "\n",
    "student_2=Student()\n",
    "student_2.student_info(\"ketki\",\"A\")\n",
    "print(student_2.Student_result())"
   ]
  },
  {
   "cell_type": "raw",
   "id": "c534a879",
   "metadata": {},
   "source": [
    "Create a class called BankAccount with attributes account_number and balance.\n",
    "Implement the __init__ method to initialize these attributes. Create methods deposit and withdraw \n",
    "that update the balance accordingly.Also, implement a method get_balance to retrieve the account balance."
   ]
  },
  {
   "cell_type": "code",
   "execution_count": 40,
   "id": "8abb5587",
   "metadata": {},
   "outputs": [
    {
     "name": "stdout",
     "output_type": "stream",
     "text": [
      "Initial balance: 566\n",
      "Deposited $500. New balance: $1066\n",
      "Withdraw $1000 .New balance:$66\n",
      "Final balace: 66\n"
     ]
    }
   ],
   "source": [
    "class BankAccount:\n",
    "    def __init__(self,account_number,balance):\n",
    "        self.account_number=account_number\n",
    "        self.balance=balance\n",
    "    def deposit(self,amount):\n",
    "        if amount>0:\n",
    "            self.balance += amount\n",
    "            print(f\"Deposited ${amount}. New balance: ${self.balance}\")\n",
    "        else:\n",
    "            print(\"Invalid amount for deposit.\")\n",
    "            \n",
    "    def withdraw(self,amount):\n",
    "        if 0 < amount <=self.balance:\n",
    "            self.balance-= amount\n",
    "            print(f\"Withdraw ${amount} .New balance:${self.balance}\")\n",
    "        else:\n",
    "            print(\"Insufficient funds or invalid amount for withdraw.\")\n",
    "            \n",
    "    def get_balance(self):\n",
    "        return self.balance\n",
    "    \n",
    "#creating a bankAcount object\n",
    "\n",
    "account=BankAccount(\"122234\",566) \n",
    "print(\"Initial balance:\",account.get_balance())\n",
    "account.deposit(500)\n",
    "account.withdraw(1000)\n",
    "print(\"Final balace:\",account.get_balance())\n"
   ]
  },
  {
   "cell_type": "raw",
   "id": "ea586803",
   "metadata": {},
   "source": [
    "3.Create a base class called Animal with attributes name and species. Implement a method speak \n",
    "that prints a generic message. Create two subclasses, Dog and Cat, that inherit from Animal. "
   ]
  },
  {
   "cell_type": "code",
   "execution_count": 49,
   "id": "9071401f",
   "metadata": {},
   "outputs": [
    {
     "name": "stdout",
     "output_type": "stream",
     "text": [
      "Hello my name is: Jax and my species is this: Breed\n",
      "Hello my name is: ABC and my species is this: Ragdoll\n"
     ]
    }
   ],
   "source": [
    "class Animal:  #parent class\n",
    "    def animal_detail(self,name,species):\n",
    "        self.name=name\n",
    "        self.species=species\n",
    "    def speak(self):\n",
    "        print(\"Hello my name is:\",self.name,\"and my species is this:\",self.species)\n",
    "class dog(Animal): #child class\n",
    "    pass\n",
    "Dog1=dog()\n",
    "Dog1.animal_detail(\"Jax\",\"Breed\")\n",
    "Dog1.speak()\n",
    "\n",
    "class cat(Animal):\n",
    "    pass\n",
    "cat1=cat()\n",
    "cat1.animal_detail(\"ABC\",\"Ragdoll\")\n",
    "cat1.speak()"
   ]
  },
  {
   "cell_type": "code",
   "execution_count": null,
   "id": "7c6bb2d5",
   "metadata": {},
   "outputs": [],
   "source": []
  }
 ],
 "metadata": {
  "kernelspec": {
   "display_name": "Python 3 (ipykernel)",
   "language": "python",
   "name": "python3"
  },
  "language_info": {
   "codemirror_mode": {
    "name": "ipython",
    "version": 3
   },
   "file_extension": ".py",
   "mimetype": "text/x-python",
   "name": "python",
   "nbconvert_exporter": "python",
   "pygments_lexer": "ipython3",
   "version": "3.11.3"
  }
 },
 "nbformat": 4,
 "nbformat_minor": 5
}
