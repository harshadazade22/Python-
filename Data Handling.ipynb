{
 "cells": [
  {
   "cell_type": "code",
   "execution_count": 2,
   "id": "bba23606",
   "metadata": {},
   "outputs": [
    {
     "name": "stdout",
     "output_type": "stream",
     "text": [
      "Hello python 123 1.23 True 1234\n",
      "<class 'str'>\n",
      "<class 'int'>\n",
      "<class 'float'>\n",
      "<class 'bool'>\n",
      "<class 'str'>\n"
     ]
    }
   ],
   "source": [
    "#data type\n",
    "x=\"Hello python\"\n",
    "y=123\n",
    "z=1.23\n",
    "a=True\n",
    "b=\"1234\"\n",
    "print(x,y,z,a,b)\n",
    "print(type(x))\n",
    "print(type(y))\n",
    "print(type(z))\n",
    "print(type(a))\n",
    "print(type(b))\n"
   ]
  },
  {
   "cell_type": "code",
   "execution_count": 3,
   "id": "9db6f9aa",
   "metadata": {},
   "outputs": [
    {
     "name": "stdout",
     "output_type": "stream",
     "text": [
      "sum is 18\n",
      "difference is  12\n",
      "product is  45\n",
      "division is 5.0\n",
      "reminder is  0\n",
      "power is  3375\n",
      "floor division  5\n"
     ]
    }
   ],
   "source": [
    "a=15\n",
    "b=3\n",
    "c=a+b\n",
    "print(\"sum is\",c)\n",
    "\n",
    "c=a-b\n",
    "print(\"difference is \",c)\n",
    "\n",
    "c=a*b\n",
    "print(\"product is \",c)\n",
    "\n",
    "c=a/b\n",
    "print(\"division is\",c)\n",
    "\n",
    "c=a%b\n",
    "print(\"reminder is \",c)\n",
    "\n",
    "c=a**b\n",
    "print(\"power is \", c)\n",
    "\n",
    "c=a//b\n",
    "print(\"floor division \",c)"
   ]
  },
  {
   "cell_type": "code",
   "execution_count": 5,
   "id": "c5fa82be",
   "metadata": {},
   "outputs": [
    {
     "name": "stdout",
     "output_type": "stream",
     "text": [
      "enter the value of a :14\n",
      "enter the value of b :24.7\n",
      "addition of c 38.7\n",
      "multiplication of c 345.8\n",
      "power of c 2.038742992238117e+28\n",
      "reminder of c 14.0\n"
     ]
    }
   ],
   "source": [
    "a=int(input(\"enter the value of a :\"))\n",
    "b=float(input(\"enter the value of b :\"))\n",
    "c=a+b\n",
    "print(\"addition of c\",c)\n",
    "c=a*b\n",
    "print(\"multiplication of c\",c)\n",
    "c=a**b\n",
    "print(\"power of c\",c)\n",
    "c=a%b\n",
    "print(\"reminder of c\",c)"
   ]
  },
  {
   "cell_type": "code",
   "execution_count": 6,
   "id": "fe2fdd3e",
   "metadata": {},
   "outputs": [
    {
     "name": "stdout",
     "output_type": "stream",
     "text": [
      "Area of reactangle: 782\n"
     ]
    }
   ],
   "source": [
    "#find the area of reactangle\n",
    "length_of_area=23\n",
    "width_of_area=34\n",
    "area_of_reactangle=length_of_area*width_of_area\n",
    "print(\"Area of reactangle:\",area_of_reactangle)"
   ]
  },
  {
   "cell_type": "code",
   "execution_count": 9,
   "id": "463b7707",
   "metadata": {},
   "outputs": [
    {
     "name": "stdout",
     "output_type": "stream",
     "text": [
      "perimeter of area 198\n"
     ]
    }
   ],
   "source": [
    "#find the perimeter of reactangle\n",
    "length=32\n",
    "width=67\n",
    "perimeter_of_area=2*(length+width)\n",
    "print(\"perimeter of area\",perimeter_of_area)\n"
   ]
  },
  {
   "cell_type": "markdown",
   "id": "9f52da67",
   "metadata": {},
   "source": [
    "## find area of circle\n"
   ]
  },
  {
   "cell_type": "code",
   "execution_count": 11,
   "id": "127c9091",
   "metadata": {},
   "outputs": [
    {
     "name": "stdout",
     "output_type": "stream",
     "text": [
      "area of circle 1661.06\n"
     ]
    }
   ],
   "source": [
    "#area of circle\n",
    "radius=23\n",
    "pi=3.14\n",
    "area_of_circle=pi*radius*radius\n",
    "print(\"area of circle\",area_of_circle)"
   ]
  },
  {
   "cell_type": "code",
   "execution_count": 13,
   "id": "ea7d35af",
   "metadata": {},
   "outputs": [
    {
     "name": "stdout",
     "output_type": "stream",
     "text": [
      "perimeter of circle 144.44\n"
     ]
    }
   ],
   "source": [
    "#perimeter of circle\n",
    "radius=23\n",
    "pi=3.14\n",
    "perimeter_of_circle=2*(pi*radius)\n",
    "print(\"perimeter of circle\",perimeter_of_circle)"
   ]
  },
  {
   "cell_type": "code",
   "execution_count": 14,
   "id": "26d04a91",
   "metadata": {},
   "outputs": [],
   "source": [
    "import math"
   ]
  },
  {
   "cell_type": "code",
   "execution_count": 15,
   "id": "904fd99f",
   "metadata": {},
   "outputs": [
    {
     "name": "stdout",
     "output_type": "stream",
     "text": [
      "['__doc__', '__loader__', '__name__', '__package__', '__spec__', 'acos', 'acosh', 'asin', 'asinh', 'atan', 'atan2', 'atanh', 'cbrt', 'ceil', 'comb', 'copysign', 'cos', 'cosh', 'degrees', 'dist', 'e', 'erf', 'erfc', 'exp', 'exp2', 'expm1', 'fabs', 'factorial', 'floor', 'fmod', 'frexp', 'fsum', 'gamma', 'gcd', 'hypot', 'inf', 'isclose', 'isfinite', 'isinf', 'isnan', 'isqrt', 'lcm', 'ldexp', 'lgamma', 'log', 'log10', 'log1p', 'log2', 'modf', 'nan', 'nextafter', 'perm', 'pi', 'pow', 'prod', 'radians', 'remainder', 'sin', 'sinh', 'sqrt', 'tan', 'tanh', 'tau', 'trunc', 'ulp']\n"
     ]
    }
   ],
   "source": [
    "print(dir(math))"
   ]
  },
  {
   "cell_type": "code",
   "execution_count": 16,
   "id": "e3042654",
   "metadata": {},
   "outputs": [
    {
     "data": {
      "text/plain": [
       "3.141592653589793"
      ]
     },
     "execution_count": 16,
     "metadata": {},
     "output_type": "execute_result"
    }
   ],
   "source": [
    "math.pi"
   ]
  },
  {
   "cell_type": "code",
   "execution_count": 17,
   "id": "f1cb3870",
   "metadata": {},
   "outputs": [
    {
     "name": "stdout",
     "output_type": "stream",
     "text": [
      "perimeter of circle 144.51326206513048\n"
     ]
    }
   ],
   "source": [
    "radius=23\n",
    "perimeter_of_circle=2*(math.pi*radius)\n",
    "print(\"perimeter of circle\",perimeter_of_circle)"
   ]
  },
  {
   "cell_type": "code",
   "execution_count": 18,
   "id": "0ce3450c",
   "metadata": {},
   "outputs": [
    {
     "data": {
      "text/plain": [
       "4"
      ]
     },
     "execution_count": 18,
     "metadata": {},
     "output_type": "execute_result"
    }
   ],
   "source": [
    "2*2"
   ]
  },
  {
   "cell_type": "code",
   "execution_count": 19,
   "id": "8a01985b",
   "metadata": {},
   "outputs": [
    {
     "data": {
      "text/plain": [
       "4"
      ]
     },
     "execution_count": 19,
     "metadata": {},
     "output_type": "execute_result"
    }
   ],
   "source": [
    "2**2"
   ]
  },
  {
   "cell_type": "code",
   "execution_count": 20,
   "id": "5f069eb8",
   "metadata": {},
   "outputs": [
    {
     "data": {
      "text/plain": [
       "8.0"
      ]
     },
     "execution_count": 20,
     "metadata": {},
     "output_type": "execute_result"
    }
   ],
   "source": [
    "64**0.5"
   ]
  },
  {
   "cell_type": "code",
   "execution_count": 22,
   "id": "d2bd6188",
   "metadata": {},
   "outputs": [
    {
     "data": {
      "text/plain": [
       "8.0"
      ]
     },
     "execution_count": 22,
     "metadata": {},
     "output_type": "execute_result"
    }
   ],
   "source": [
    "math.sqrt(64)"
   ]
  },
  {
   "cell_type": "code",
   "execution_count": null,
   "id": "7085eec2",
   "metadata": {},
   "outputs": [],
   "source": []
  }
 ],
 "metadata": {
  "kernelspec": {
   "display_name": "Python 3 (ipykernel)",
   "language": "python",
   "name": "python3"
  },
  "language_info": {
   "codemirror_mode": {
    "name": "ipython",
    "version": 3
   },
   "file_extension": ".py",
   "mimetype": "text/x-python",
   "name": "python",
   "nbconvert_exporter": "python",
   "pygments_lexer": "ipython3",
   "version": "3.11.3"
  }
 },
 "nbformat": 4,
 "nbformat_minor": 5
}
