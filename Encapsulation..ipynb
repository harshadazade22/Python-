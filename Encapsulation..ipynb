{
 "cells": [
  {
   "cell_type": "markdown",
   "id": "b1b29dbd",
   "metadata": {},
   "source": [
    "# Encapsulation"
   ]
  },
  {
   "cell_type": "code",
   "execution_count": 10,
   "id": "5caf3fc7",
   "metadata": {},
   "outputs": [
    {
     "name": "stdout",
     "output_type": "stream",
     "text": [
      "live free ride hard\n",
      "Royal Enfield\n"
     ]
    },
    {
     "data": {
      "text/plain": [
       "'Royal Enfield'"
      ]
     },
     "execution_count": 10,
     "metadata": {},
     "output_type": "execute_result"
    }
   ],
   "source": [
    "#public memebr\n",
    "class bike:\n",
    "    name=\"Royal Enfield\"   #public member\n",
    "    def ride(self):\n",
    "        print(\"live free ride hard\")\n",
    "    def ride_1(self):\n",
    "        print(self.name)\n",
    "obj=bike()\n",
    "obj.ride()\n",
    "obj.ride_1()\n",
    "obj.name"
   ]
  },
  {
   "cell_type": "code",
   "execution_count": 3,
   "id": "bb383c9f",
   "metadata": {},
   "outputs": [
    {
     "name": "stdout",
     "output_type": "stream",
     "text": [
      "calling protected member of base class 2\n"
     ]
    },
    {
     "data": {
      "text/plain": [
       "2"
      ]
     },
     "execution_count": 3,
     "metadata": {},
     "output_type": "execute_result"
    }
   ],
   "source": [
    "#protected member\n",
    "class base:\n",
    "    def __init__(self):\n",
    "        self._a=2        #protected member\n",
    "class derived(base):\n",
    "    def protected(self):\n",
    "        print(\"calling protected member of base class\",self._a)\n",
    "        \n",
    "object_1=derived()\n",
    "object_1.protected()\n",
    "object_1._a"
   ]
  },
  {
   "cell_type": "code",
   "execution_count": 11,
   "id": "269b6f66",
   "metadata": {},
   "outputs": [
    {
     "ename": "NameError",
     "evalue": "name 'private' is not defined",
     "output_type": "error",
     "traceback": [
      "\u001b[1;31m---------------------------------------------------------------------------\u001b[0m",
      "\u001b[1;31mNameError\u001b[0m                                 Traceback (most recent call last)",
      "Cell \u001b[1;32mIn[11], line 12\u001b[0m\n\u001b[0;32m      9\u001b[0m         \u001b[38;5;28mprint\u001b[39m(\u001b[38;5;124m\"\u001b[39m\u001b[38;5;124mcalling private member of the base class\u001b[39m\u001b[38;5;124m\"\u001b[39m,\u001b[38;5;28mself\u001b[39m\u001b[38;5;241m.\u001b[39m__a)\n\u001b[0;32m     11\u001b[0m object1\u001b[38;5;241m=\u001b[39mderived()\n\u001b[1;32m---> 12\u001b[0m object1\u001b[38;5;241m=\u001b[39mprivate()\n",
      "\u001b[1;31mNameError\u001b[0m: name 'private' is not defined"
     ]
    }
   ],
   "source": [
    "#private member\n",
    "class base:\n",
    "    a=5\n",
    "    def __init__(self):\n",
    "        self.__a=2       #private member\n",
    "        \n",
    "class derived(base):\n",
    "    def private(self):\n",
    "        print(\"calling private member of the base class\",self.__a)\n",
    "        \n",
    "object1=derived()\n",
    "object1=private()"
   ]
  },
  {
   "cell_type": "code",
   "execution_count": 17,
   "id": "6d2874c4",
   "metadata": {},
   "outputs": [
    {
     "name": "stdout",
     "output_type": "stream",
     "text": [
      "live free live hard Royal Indfeild\n",
      "Royal Indfeild\n"
     ]
    }
   ],
   "source": [
    "class bike:\n",
    "    _name=\"Royal Indfeild\"    #protected member\n",
    "    def ride(self):\n",
    "        print(\"live free live hard\",self._name)\n",
    "    def ride1(self):\n",
    "        print(self._name)\n",
    "class child(bike):\n",
    "    def ride2(self):\n",
    "        print(self._name)\n",
    "        \n",
    "obje=bike()\n",
    "obje.ride()\n",
    "\n",
    "obje=child()\n",
    "obje.ride2()"
   ]
  },
  {
   "cell_type": "code",
   "execution_count": 18,
   "id": "5b4df3f8",
   "metadata": {},
   "outputs": [
    {
     "name": "stdout",
     "output_type": "stream",
     "text": [
      "live free live hard Royal\n"
     ]
    }
   ],
   "source": [
    "class bike:\n",
    "    __name=\"Royal\"      #private member\n",
    "    def ride(self):\n",
    "        print(\"live free live hard\",self.__name)\n",
    "    def ride1(self):\n",
    "        print(self.__name)\n",
    "class child(bike):\n",
    "    def ride1(self):\n",
    "        print(self.__name)\n",
    "        \n",
    "obj1=bike()\n",
    "obj1.ride()\n",
    "\n",
    "        "
   ]
  },
  {
   "cell_type": "code",
   "execution_count": 19,
   "id": "7be1c663",
   "metadata": {},
   "outputs": [
    {
     "ename": "AttributeError",
     "evalue": "'child' object has no attribute '_child__name'",
     "output_type": "error",
     "traceback": [
      "\u001b[1;31m---------------------------------------------------------------------------\u001b[0m",
      "\u001b[1;31mAttributeError\u001b[0m                            Traceback (most recent call last)",
      "Cell \u001b[1;32mIn[19], line 2\u001b[0m\n\u001b[0;32m      1\u001b[0m obje2\u001b[38;5;241m=\u001b[39mchild()\n\u001b[1;32m----> 2\u001b[0m obje2\u001b[38;5;241m.\u001b[39mride1()\n",
      "Cell \u001b[1;32mIn[18], line 9\u001b[0m, in \u001b[0;36mchild.ride1\u001b[1;34m(self)\u001b[0m\n\u001b[0;32m      8\u001b[0m \u001b[38;5;28;01mdef\u001b[39;00m \u001b[38;5;21mride1\u001b[39m(\u001b[38;5;28mself\u001b[39m):\n\u001b[1;32m----> 9\u001b[0m     \u001b[38;5;28mprint\u001b[39m(\u001b[38;5;28mself\u001b[39m\u001b[38;5;241m.\u001b[39m__name)\n",
      "\u001b[1;31mAttributeError\u001b[0m: 'child' object has no attribute '_child__name'"
     ]
    }
   ],
   "source": [
    "obje2=child()\n",
    "obje2.ride1()"
   ]
  },
  {
   "cell_type": "code",
   "execution_count": null,
   "id": "e0964ce8",
   "metadata": {},
   "outputs": [],
   "source": []
  }
 ],
 "metadata": {
  "kernelspec": {
   "display_name": "Python 3 (ipykernel)",
   "language": "python",
   "name": "python3"
  },
  "language_info": {
   "codemirror_mode": {
    "name": "ipython",
    "version": 3
   },
   "file_extension": ".py",
   "mimetype": "text/x-python",
   "name": "python",
   "nbconvert_exporter": "python",
   "pygments_lexer": "ipython3",
   "version": "3.11.3"
  }
 },
 "nbformat": 4,
 "nbformat_minor": 5
}
